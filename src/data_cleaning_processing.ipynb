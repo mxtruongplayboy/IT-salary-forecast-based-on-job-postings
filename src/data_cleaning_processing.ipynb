{
 "cells": [
  {
   "cell_type": "code",
   "execution_count": 737,
   "metadata": {},
   "outputs": [],
   "source": [
    "import pandas as pd\n",
    "import numpy as np\n",
    "import seaborn as sns\n",
    "import matplotlib.pyplot as plt\n",
    "from langdetect import detect\n",
    "import re"
   ]
  },
  {
   "cell_type": "code",
   "execution_count": 738,
   "metadata": {},
   "outputs": [],
   "source": [
    "raw_data_source_path = '../data/job_data_1905.csv'\n",
    "clean_data_detination_path = \"../data/clean job_data_1905 have new salary handler.csv\""
   ]
  },
  {
   "cell_type": "code",
   "execution_count": 739,
   "metadata": {},
   "outputs": [],
   "source": [
    "jobs = pd.read_csv(raw_data_source_path)"
   ]
  },
  {
   "cell_type": "code",
   "execution_count": 740,
   "metadata": {},
   "outputs": [
    {
     "data": {
      "text/html": [
       "<div>\n",
       "<style scoped>\n",
       "    .dataframe tbody tr th:only-of-type {\n",
       "        vertical-align: middle;\n",
       "    }\n",
       "\n",
       "    .dataframe tbody tr th {\n",
       "        vertical-align: top;\n",
       "    }\n",
       "\n",
       "    .dataframe thead th {\n",
       "        text-align: right;\n",
       "    }\n",
       "</style>\n",
       "<table border=\"1\" class=\"dataframe\">\n",
       "  <thead>\n",
       "    <tr style=\"text-align: right;\">\n",
       "      <th></th>\n",
       "      <th>Unnamed: 0</th>\n",
       "      <th>Title</th>\n",
       "      <th>Link</th>\n",
       "      <th>Company</th>\n",
       "      <th>Size company</th>\n",
       "      <th>Salary</th>\n",
       "      <th>Locations</th>\n",
       "      <th>Level</th>\n",
       "      <th>Year of Experience</th>\n",
       "      <th>Contract Type</th>\n",
       "      <th>Sex</th>\n",
       "      <th>Skills</th>\n",
       "    </tr>\n",
       "  </thead>\n",
       "  <tbody>\n",
       "    <tr>\n",
       "      <th>0</th>\n",
       "      <td>0</td>\n",
       "      <td>Senior Php Developer</td>\n",
       "      <td>https://www.topcv.vn/viec-lam/senior-php-devel...</td>\n",
       "      <td>CÔNG TY TNHH GBG GROUP SERVICES</td>\n",
       "      <td>25-99 nhân viên</td>\n",
       "      <td>Tới 60 triệu</td>\n",
       "      <td>Hồ Chí Minh</td>\n",
       "      <td>Nhân viên</td>\n",
       "      <td>3 năm</td>\n",
       "      <td>Toàn thời gian</td>\n",
       "      <td>Không yêu cầu</td>\n",
       "      <td>3+ Years of experience in PHP, MySQL.\\nAble to...</td>\n",
       "    </tr>\n",
       "    <tr>\n",
       "      <th>1</th>\n",
       "      <td>1</td>\n",
       "      <td>Nhân Viên Chăm Sóc Khách Hàng - Customer Servi...</td>\n",
       "      <td>https://www.topcv.vn/viec-lam/nhan-vien-cham-s...</td>\n",
       "      <td>CÔNG TY TNHH IDENTALSOFT VIỆT NAM</td>\n",
       "      <td>25-99 nhân viên</td>\n",
       "      <td>10 - 20 triệu</td>\n",
       "      <td>Hồ Chí Minh</td>\n",
       "      <td>Nhân viên</td>\n",
       "      <td>Dưới 1 năm</td>\n",
       "      <td>Toàn thời gian</td>\n",
       "      <td>Không yêu cầu</td>\n",
       "      <td>- Thành thạo English để nghe và nói chuyện với...</td>\n",
       "    </tr>\n",
       "    <tr>\n",
       "      <th>2</th>\n",
       "      <td>2</td>\n",
       "      <td>Quản Lý Dự Án IT - Long Sơn Petro</td>\n",
       "      <td>https://www.topcv.vn/viec-lam/quan-ly-du-an-it...</td>\n",
       "      <td>CÔNG TY TNHH GIẢI PHÁP DỮ LIỆU SÁNG TẠO</td>\n",
       "      <td>10-24 nhân viên</td>\n",
       "      <td>25 - 30 triệu</td>\n",
       "      <td>Bà Rịa-Vũng Tàu</td>\n",
       "      <td>Quản lý / Giám sát</td>\n",
       "      <td>3 năm</td>\n",
       "      <td>Toàn thời gian</td>\n",
       "      <td>Không yêu cầu</td>\n",
       "      <td>Tiếng Anh (bắt buộc)Sẵn sàng hỗ trợ đồng nghiệ...</td>\n",
       "    </tr>\n",
       "    <tr>\n",
       "      <th>3</th>\n",
       "      <td>3</td>\n",
       "      <td>Lập Trình Viên SQL</td>\n",
       "      <td>https://www.topcv.vn/viec-lam/lap-trinh-vien-s...</td>\n",
       "      <td>Công ty CP Giải pháp Thanh toán Việt Nam (VNPAY)</td>\n",
       "      <td>1000+ nhân viên</td>\n",
       "      <td>Thoả thuận</td>\n",
       "      <td>Hà Nội</td>\n",
       "      <td>Nhân viên</td>\n",
       "      <td>1 năm</td>\n",
       "      <td>Toàn thời gian</td>\n",
       "      <td>Không yêu cầu</td>\n",
       "      <td>- Trình độ chuyên môn: Tốt nghiệp Đại học hệ c...</td>\n",
       "    </tr>\n",
       "    <tr>\n",
       "      <th>4</th>\n",
       "      <td>4</td>\n",
       "      <td>Nhân Viên Tester (Ba/ QC/ Tester)</td>\n",
       "      <td>https://www.topcv.vn/viec-lam/nhan-vien-tester...</td>\n",
       "      <td>Công ty Cổ phần Công nghệ Tin học và Dịch vụ G...</td>\n",
       "      <td>25-99 nhân viên</td>\n",
       "      <td>12 - 18 triệu</td>\n",
       "      <td>Hà Nội</td>\n",
       "      <td>Nhân viên</td>\n",
       "      <td>1 năm</td>\n",
       "      <td>Toàn thời gian</td>\n",
       "      <td>Không yêu cầu</td>\n",
       "      <td>- Tốt nghiệp đại học chuyên ngành CNTT.\\n- Ski...</td>\n",
       "    </tr>\n",
       "  </tbody>\n",
       "</table>\n",
       "</div>"
      ],
      "text/plain": [
       "   Unnamed: 0                                              Title  \\\n",
       "0           0                               Senior Php Developer   \n",
       "1           1  Nhân Viên Chăm Sóc Khách Hàng - Customer Servi...   \n",
       "2           2                  Quản Lý Dự Án IT - Long Sơn Petro   \n",
       "3           3                                 Lập Trình Viên SQL   \n",
       "4           4                  Nhân Viên Tester (Ba/ QC/ Tester)   \n",
       "\n",
       "                                                Link  \\\n",
       "0  https://www.topcv.vn/viec-lam/senior-php-devel...   \n",
       "1  https://www.topcv.vn/viec-lam/nhan-vien-cham-s...   \n",
       "2  https://www.topcv.vn/viec-lam/quan-ly-du-an-it...   \n",
       "3  https://www.topcv.vn/viec-lam/lap-trinh-vien-s...   \n",
       "4  https://www.topcv.vn/viec-lam/nhan-vien-tester...   \n",
       "\n",
       "                                             Company     Size company  \\\n",
       "0                    CÔNG TY TNHH GBG GROUP SERVICES  25-99 nhân viên   \n",
       "1                  CÔNG TY TNHH IDENTALSOFT VIỆT NAM  25-99 nhân viên   \n",
       "2            CÔNG TY TNHH GIẢI PHÁP DỮ LIỆU SÁNG TẠO  10-24 nhân viên   \n",
       "3   Công ty CP Giải pháp Thanh toán Việt Nam (VNPAY)  1000+ nhân viên   \n",
       "4  Công ty Cổ phần Công nghệ Tin học và Dịch vụ G...  25-99 nhân viên   \n",
       "\n",
       "          Salary        Locations               Level Year of Experience  \\\n",
       "0   Tới 60 triệu      Hồ Chí Minh           Nhân viên              3 năm   \n",
       "1  10 - 20 triệu      Hồ Chí Minh           Nhân viên         Dưới 1 năm   \n",
       "2  25 - 30 triệu  Bà Rịa-Vũng Tàu  Quản lý / Giám sát              3 năm   \n",
       "3     Thoả thuận           Hà Nội           Nhân viên              1 năm   \n",
       "4  12 - 18 triệu           Hà Nội           Nhân viên              1 năm   \n",
       "\n",
       "    Contract Type            Sex  \\\n",
       "0  Toàn thời gian  Không yêu cầu   \n",
       "1  Toàn thời gian  Không yêu cầu   \n",
       "2  Toàn thời gian  Không yêu cầu   \n",
       "3  Toàn thời gian  Không yêu cầu   \n",
       "4  Toàn thời gian  Không yêu cầu   \n",
       "\n",
       "                                              Skills  \n",
       "0  3+ Years of experience in PHP, MySQL.\\nAble to...  \n",
       "1  - Thành thạo English để nghe và nói chuyện với...  \n",
       "2  Tiếng Anh (bắt buộc)Sẵn sàng hỗ trợ đồng nghiệ...  \n",
       "3  - Trình độ chuyên môn: Tốt nghiệp Đại học hệ c...  \n",
       "4  - Tốt nghiệp đại học chuyên ngành CNTT.\\n- Ski...  "
      ]
     },
     "execution_count": 740,
     "metadata": {},
     "output_type": "execute_result"
    }
   ],
   "source": [
    "jobs.head()"
   ]
  },
  {
   "cell_type": "code",
   "execution_count": 741,
   "metadata": {},
   "outputs": [
    {
     "data": {
      "text/plain": [
       "Unnamed: 0            2994\n",
       "Title                 2994\n",
       "Link                  2994\n",
       "Company               2994\n",
       "Size company          2994\n",
       "Salary                2994\n",
       "Locations             2994\n",
       "Level                 2994\n",
       "Year of Experience    2994\n",
       "Contract Type         2994\n",
       "Sex                   2994\n",
       "Skills                2994\n",
       "dtype: int64"
      ]
     },
     "execution_count": 741,
     "metadata": {},
     "output_type": "execute_result"
    }
   ],
   "source": [
    "jobs.count()"
   ]
  },
  {
   "cell_type": "markdown",
   "metadata": {},
   "source": [
    "# Làm sạch data"
   ]
  },
  {
   "cell_type": "markdown",
   "metadata": {},
   "source": [
    "- Xóa 3 cột Title, Link, Company"
   ]
  },
  {
   "cell_type": "code",
   "execution_count": 742,
   "metadata": {},
   "outputs": [
    {
     "data": {
      "text/html": [
       "<div>\n",
       "<style scoped>\n",
       "    .dataframe tbody tr th:only-of-type {\n",
       "        vertical-align: middle;\n",
       "    }\n",
       "\n",
       "    .dataframe tbody tr th {\n",
       "        vertical-align: top;\n",
       "    }\n",
       "\n",
       "    .dataframe thead th {\n",
       "        text-align: right;\n",
       "    }\n",
       "</style>\n",
       "<table border=\"1\" class=\"dataframe\">\n",
       "  <thead>\n",
       "    <tr style=\"text-align: right;\">\n",
       "      <th></th>\n",
       "      <th>Unnamed: 0</th>\n",
       "      <th>Salary</th>\n",
       "      <th>Locations</th>\n",
       "      <th>Level</th>\n",
       "      <th>Year of Experience</th>\n",
       "      <th>Contract Type</th>\n",
       "      <th>Sex</th>\n",
       "      <th>Skills</th>\n",
       "    </tr>\n",
       "  </thead>\n",
       "  <tbody>\n",
       "    <tr>\n",
       "      <th>0</th>\n",
       "      <td>0</td>\n",
       "      <td>Tới 60 triệu</td>\n",
       "      <td>Hồ Chí Minh</td>\n",
       "      <td>Nhân viên</td>\n",
       "      <td>3 năm</td>\n",
       "      <td>Toàn thời gian</td>\n",
       "      <td>Không yêu cầu</td>\n",
       "      <td>3+ Years of experience in PHP, MySQL.\\nAble to...</td>\n",
       "    </tr>\n",
       "    <tr>\n",
       "      <th>1</th>\n",
       "      <td>1</td>\n",
       "      <td>10 - 20 triệu</td>\n",
       "      <td>Hồ Chí Minh</td>\n",
       "      <td>Nhân viên</td>\n",
       "      <td>Dưới 1 năm</td>\n",
       "      <td>Toàn thời gian</td>\n",
       "      <td>Không yêu cầu</td>\n",
       "      <td>- Thành thạo English để nghe và nói chuyện với...</td>\n",
       "    </tr>\n",
       "    <tr>\n",
       "      <th>2</th>\n",
       "      <td>2</td>\n",
       "      <td>25 - 30 triệu</td>\n",
       "      <td>Bà Rịa-Vũng Tàu</td>\n",
       "      <td>Quản lý / Giám sát</td>\n",
       "      <td>3 năm</td>\n",
       "      <td>Toàn thời gian</td>\n",
       "      <td>Không yêu cầu</td>\n",
       "      <td>Tiếng Anh (bắt buộc)Sẵn sàng hỗ trợ đồng nghiệ...</td>\n",
       "    </tr>\n",
       "    <tr>\n",
       "      <th>3</th>\n",
       "      <td>3</td>\n",
       "      <td>Thoả thuận</td>\n",
       "      <td>Hà Nội</td>\n",
       "      <td>Nhân viên</td>\n",
       "      <td>1 năm</td>\n",
       "      <td>Toàn thời gian</td>\n",
       "      <td>Không yêu cầu</td>\n",
       "      <td>- Trình độ chuyên môn: Tốt nghiệp Đại học hệ c...</td>\n",
       "    </tr>\n",
       "    <tr>\n",
       "      <th>4</th>\n",
       "      <td>4</td>\n",
       "      <td>12 - 18 triệu</td>\n",
       "      <td>Hà Nội</td>\n",
       "      <td>Nhân viên</td>\n",
       "      <td>1 năm</td>\n",
       "      <td>Toàn thời gian</td>\n",
       "      <td>Không yêu cầu</td>\n",
       "      <td>- Tốt nghiệp đại học chuyên ngành CNTT.\\n- Ski...</td>\n",
       "    </tr>\n",
       "  </tbody>\n",
       "</table>\n",
       "</div>"
      ],
      "text/plain": [
       "   Unnamed: 0         Salary        Locations               Level  \\\n",
       "0           0   Tới 60 triệu      Hồ Chí Minh           Nhân viên   \n",
       "1           1  10 - 20 triệu      Hồ Chí Minh           Nhân viên   \n",
       "2           2  25 - 30 triệu  Bà Rịa-Vũng Tàu  Quản lý / Giám sát   \n",
       "3           3     Thoả thuận           Hà Nội           Nhân viên   \n",
       "4           4  12 - 18 triệu           Hà Nội           Nhân viên   \n",
       "\n",
       "  Year of Experience   Contract Type            Sex  \\\n",
       "0              3 năm  Toàn thời gian  Không yêu cầu   \n",
       "1         Dưới 1 năm  Toàn thời gian  Không yêu cầu   \n",
       "2              3 năm  Toàn thời gian  Không yêu cầu   \n",
       "3              1 năm  Toàn thời gian  Không yêu cầu   \n",
       "4              1 năm  Toàn thời gian  Không yêu cầu   \n",
       "\n",
       "                                              Skills  \n",
       "0  3+ Years of experience in PHP, MySQL.\\nAble to...  \n",
       "1  - Thành thạo English để nghe và nói chuyện với...  \n",
       "2  Tiếng Anh (bắt buộc)Sẵn sàng hỗ trợ đồng nghiệ...  \n",
       "3  - Trình độ chuyên môn: Tốt nghiệp Đại học hệ c...  \n",
       "4  - Tốt nghiệp đại học chuyên ngành CNTT.\\n- Ski...  "
      ]
     },
     "execution_count": 742,
     "metadata": {},
     "output_type": "execute_result"
    }
   ],
   "source": [
    "jobs_cleaning = jobs.drop(columns=['Title', 'Link', 'Company', 'Size company'])\n",
    "jobs_cleaning.head()"
   ]
  },
  {
   "cell_type": "markdown",
   "metadata": {},
   "source": [
    "- Xóa những hàng có Skills = null\n",
    "Vì Skill giá trị null tức là bản ghi đó crawl bị lỗi"
   ]
  },
  {
   "cell_type": "code",
   "execution_count": 743,
   "metadata": {},
   "outputs": [
    {
     "name": "stdout",
     "output_type": "stream",
     "text": [
      "Trước khi xử lý\n",
      "Unnamed: 0            2994\n",
      "Salary                2994\n",
      "Locations             2994\n",
      "Level                 2994\n",
      "Year of Experience    2994\n",
      "Contract Type         2994\n",
      "Sex                   2994\n",
      "Skills                2994\n",
      "dtype: int64\n",
      "Sau khi xử lý\n",
      "Unnamed: 0            2994\n",
      "Salary                2994\n",
      "Locations             2994\n",
      "Level                 2994\n",
      "Year of Experience    2994\n",
      "Contract Type         2994\n",
      "Sex                   2994\n",
      "Skills                2994\n",
      "dtype: int64\n"
     ]
    }
   ],
   "source": [
    "print(\"Trước khi xử lý\")\n",
    "print(jobs_cleaning.count())\n",
    "jobs_cleaning = jobs_cleaning[jobs_cleaning['Level'].isnull() == False]\n",
    "print(\"Sau khi xử lý\")\n",
    "print(jobs_cleaning.count())"
   ]
  },
  {
   "cell_type": "markdown",
   "metadata": {},
   "source": [
    "- Làm sạch biến Salary"
   ]
  },
  {
   "cell_type": "code",
   "execution_count": 744,
   "metadata": {},
   "outputs": [
    {
     "data": {
      "text/html": [
       "<div>\n",
       "<style scoped>\n",
       "    .dataframe tbody tr th:only-of-type {\n",
       "        vertical-align: middle;\n",
       "    }\n",
       "\n",
       "    .dataframe tbody tr th {\n",
       "        vertical-align: top;\n",
       "    }\n",
       "\n",
       "    .dataframe thead th {\n",
       "        text-align: right;\n",
       "    }\n",
       "</style>\n",
       "<table border=\"1\" class=\"dataframe\">\n",
       "  <thead>\n",
       "    <tr style=\"text-align: right;\">\n",
       "      <th></th>\n",
       "      <th>Unnamed: 0</th>\n",
       "      <th>Salary</th>\n",
       "      <th>Locations</th>\n",
       "      <th>Level</th>\n",
       "      <th>Year of Experience</th>\n",
       "      <th>Contract Type</th>\n",
       "      <th>Sex</th>\n",
       "      <th>Skills</th>\n",
       "    </tr>\n",
       "  </thead>\n",
       "  <tbody>\n",
       "    <tr>\n",
       "      <th>0</th>\n",
       "      <td>0</td>\n",
       "      <td>Tới 60 triệu</td>\n",
       "      <td>Hồ Chí Minh</td>\n",
       "      <td>Nhân viên</td>\n",
       "      <td>3 năm</td>\n",
       "      <td>Toàn thời gian</td>\n",
       "      <td>Không yêu cầu</td>\n",
       "      <td>3+ Years of experience in PHP, MySQL.\\nAble to...</td>\n",
       "    </tr>\n",
       "    <tr>\n",
       "      <th>1</th>\n",
       "      <td>1</td>\n",
       "      <td>10 - 20 triệu</td>\n",
       "      <td>Hồ Chí Minh</td>\n",
       "      <td>Nhân viên</td>\n",
       "      <td>Dưới 1 năm</td>\n",
       "      <td>Toàn thời gian</td>\n",
       "      <td>Không yêu cầu</td>\n",
       "      <td>- Thành thạo English để nghe và nói chuyện với...</td>\n",
       "    </tr>\n",
       "    <tr>\n",
       "      <th>2</th>\n",
       "      <td>2</td>\n",
       "      <td>25 - 30 triệu</td>\n",
       "      <td>Bà Rịa-Vũng Tàu</td>\n",
       "      <td>Quản lý / Giám sát</td>\n",
       "      <td>3 năm</td>\n",
       "      <td>Toàn thời gian</td>\n",
       "      <td>Không yêu cầu</td>\n",
       "      <td>Tiếng Anh (bắt buộc)Sẵn sàng hỗ trợ đồng nghiệ...</td>\n",
       "    </tr>\n",
       "    <tr>\n",
       "      <th>4</th>\n",
       "      <td>4</td>\n",
       "      <td>12 - 18 triệu</td>\n",
       "      <td>Hà Nội</td>\n",
       "      <td>Nhân viên</td>\n",
       "      <td>1 năm</td>\n",
       "      <td>Toàn thời gian</td>\n",
       "      <td>Không yêu cầu</td>\n",
       "      <td>- Tốt nghiệp đại học chuyên ngành CNTT.\\n- Ski...</td>\n",
       "    </tr>\n",
       "    <tr>\n",
       "      <th>5</th>\n",
       "      <td>5</td>\n",
       "      <td>Tới 1,300 USD</td>\n",
       "      <td>Hồ Chí Minh</td>\n",
       "      <td>Nhân viên</td>\n",
       "      <td>3 năm</td>\n",
       "      <td>Toàn thời gian</td>\n",
       "      <td>Không yêu cầu</td>\n",
       "      <td>=&gt; English is a very big bonus point- Strong p...</td>\n",
       "    </tr>\n",
       "  </tbody>\n",
       "</table>\n",
       "</div>"
      ],
      "text/plain": [
       "   Unnamed: 0         Salary        Locations               Level  \\\n",
       "0           0   Tới 60 triệu      Hồ Chí Minh           Nhân viên   \n",
       "1           1  10 - 20 triệu      Hồ Chí Minh           Nhân viên   \n",
       "2           2  25 - 30 triệu  Bà Rịa-Vũng Tàu  Quản lý / Giám sát   \n",
       "4           4  12 - 18 triệu           Hà Nội           Nhân viên   \n",
       "5           5  Tới 1,300 USD      Hồ Chí Minh           Nhân viên   \n",
       "\n",
       "  Year of Experience   Contract Type            Sex  \\\n",
       "0              3 năm  Toàn thời gian  Không yêu cầu   \n",
       "1         Dưới 1 năm  Toàn thời gian  Không yêu cầu   \n",
       "2              3 năm  Toàn thời gian  Không yêu cầu   \n",
       "4              1 năm  Toàn thời gian  Không yêu cầu   \n",
       "5              3 năm  Toàn thời gian  Không yêu cầu   \n",
       "\n",
       "                                              Skills  \n",
       "0  3+ Years of experience in PHP, MySQL.\\nAble to...  \n",
       "1  - Thành thạo English để nghe và nói chuyện với...  \n",
       "2  Tiếng Anh (bắt buộc)Sẵn sàng hỗ trợ đồng nghiệ...  \n",
       "4  - Tốt nghiệp đại học chuyên ngành CNTT.\\n- Ski...  \n",
       "5  => English is a very big bonus point- Strong p...  "
      ]
     },
     "execution_count": 744,
     "metadata": {},
     "output_type": "execute_result"
    }
   ],
   "source": [
    "jobs_cleaning = jobs_cleaning[jobs_cleaning['Salary'] != 'Thoả thuận']\n",
    "jobs_cleaning.head()"
   ]
  },
  {
   "cell_type": "markdown",
   "metadata": {},
   "source": [
    "Hàm chuyển chuỗi(tiền) thành số"
   ]
  },
  {
   "cell_type": "code",
   "execution_count": 745,
   "metadata": {},
   "outputs": [],
   "source": [
    "def str_to_num(str):\n",
    "    if '.' in str:\n",
    "        return float(str.replace(',', ''))\n",
    "    else:\n",
    "        return int(str.replace(',', ''))"
   ]
  },
  {
   "cell_type": "markdown",
   "metadata": {},
   "source": [
    "Hàm chuyển tiền mệnh giá USD sang VND"
   ]
  },
  {
   "cell_type": "code",
   "execution_count": 746,
   "metadata": {},
   "outputs": [],
   "source": [
    "def USD_to_VND(USD_value):\n",
    "    return USD_value * 23000"
   ]
  },
  {
   "cell_type": "markdown",
   "metadata": {},
   "source": [
    "Giá trị lương thường có những kiểu sau:\n",
    "\n",
    "Tới xxx USD\n",
    "\n",
    "xxx - xxx USD\n",
    "\n",
    "Tới xxx triệu\n",
    "\n",
    "xxx - xxx triệu"
   ]
  },
  {
   "cell_type": "code",
   "execution_count": 747,
   "metadata": {},
   "outputs": [],
   "source": [
    "def analyze_salary(input):\n",
    "    # Regex pattern\n",
    "    regex_patternUSD = r'(?<!\\d)(\\d{1,3}(,\\d{3})*|\\d+)(\\s*-\\s*(\\d{1,3}(,\\d{3})*|\\d+))?\\s*(USD)?(?!\\d)'\n",
    "    regex_patternVND = r'(?<!\\d)(\\d{1,3}(.\\d)*|\\d+)(\\s*-\\s*(\\d{1,3}(.\\d)*|\\d+))?\\s*(triệu)?(?!\\d)'\n",
    "\n",
    "    # Tìm kiếm giá trị số trong chuỗi\n",
    "    if 'USD' in input:\n",
    "        matches = re.findall(regex_patternUSD, input)\n",
    "    elif 'triệu' in input:\n",
    "        matches = re.findall(regex_patternVND, input)\n",
    "\n",
    "    # In kết quả tìm thấy\n",
    "    if matches:\n",
    "        value = 0\n",
    "        for match in matches:\n",
    "            value += str_to_num(match[0])\n",
    "            if match[3]:\n",
    "                value = value\n",
    "            else:\n",
    "                value = 0\n",
    "            if (match[-1] == 'USD'):\n",
    "                value = USD_to_VND(value)\n",
    "            else:\n",
    "                value *= 1000000\n",
    "        return value\n",
    "    else:\n",
    "        return -1"
   ]
  },
  {
   "cell_type": "code",
   "execution_count": 748,
   "metadata": {},
   "outputs": [],
   "source": [
    "jobs_cleaning['Salary'] = jobs_cleaning['Salary'].apply(analyze_salary)"
   ]
  },
  {
   "cell_type": "markdown",
   "metadata": {},
   "source": [
    "Trước khi loại bỏ các giá trị ngoại lệ"
   ]
  },
  {
   "cell_type": "code",
   "execution_count": 749,
   "metadata": {},
   "outputs": [
    {
     "data": {
      "text/plain": [
       "<seaborn.axisgrid.FacetGrid at 0x252ad983580>"
      ]
     },
     "execution_count": 749,
     "metadata": {},
     "output_type": "execute_result"
    },
    {
     "data": {
      "text/plain": [
       "<Figure size 200x600 with 0 Axes>"
      ]
     },
     "metadata": {},
     "output_type": "display_data"
    },
    {
     "data": {
      "image/png": "[encoded data removed]",
      "text/plain": [
       "<Figure size 411.111x500 with 1 Axes>"
      ]
     },
     "metadata": {},
     "output_type": "display_data"
    }
   ],
   "source": [
    "plt.figure(figsize=(2, 6))\n",
    "sns.catplot(jobs_cleaning, y=\"Salary\", aspect=0.8, kind=\"box\")"
   ]
  },
  {
   "cell_type": "code",
   "execution_count": 750,
   "metadata": {},
   "outputs": [
    {
     "data": {
      "text/html": [
       "<div>\n",
       "<style scoped>\n",
       "    .dataframe tbody tr th:only-of-type {\n",
       "        vertical-align: middle;\n",
       "    }\n",
       "\n",
       "    .dataframe tbody tr th {\n",
       "        vertical-align: top;\n",
       "    }\n",
       "\n",
       "    .dataframe thead th {\n",
       "        text-align: right;\n",
       "    }\n",
       "</style>\n",
       "<table border=\"1\" class=\"dataframe\">\n",
       "  <thead>\n",
       "    <tr style=\"text-align: right;\">\n",
       "      <th></th>\n",
       "      <th>Salary</th>\n",
       "    </tr>\n",
       "  </thead>\n",
       "  <tbody>\n",
       "    <tr>\n",
       "      <th>590</th>\n",
       "      <td>69000000.0</td>\n",
       "    </tr>\n",
       "    <tr>\n",
       "      <th>680</th>\n",
       "      <td>60000000.0</td>\n",
       "    </tr>\n",
       "    <tr>\n",
       "      <th>1527</th>\n",
       "      <td>60000000.0</td>\n",
       "    </tr>\n",
       "    <tr>\n",
       "      <th>92</th>\n",
       "      <td>50000000.0</td>\n",
       "    </tr>\n",
       "    <tr>\n",
       "      <th>719</th>\n",
       "      <td>50000000.0</td>\n",
       "    </tr>\n",
       "    <tr>\n",
       "      <th>891</th>\n",
       "      <td>50000000.0</td>\n",
       "    </tr>\n",
       "    <tr>\n",
       "      <th>2464</th>\n",
       "      <td>50000000.0</td>\n",
       "    </tr>\n",
       "    <tr>\n",
       "      <th>2791</th>\n",
       "      <td>50000000.0</td>\n",
       "    </tr>\n",
       "    <tr>\n",
       "      <th>346</th>\n",
       "      <td>46000000.0</td>\n",
       "    </tr>\n",
       "    <tr>\n",
       "      <th>587</th>\n",
       "      <td>46000000.0</td>\n",
       "    </tr>\n",
       "  </tbody>\n",
       "</table>\n",
       "</div>"
      ],
      "text/plain": [
       "          Salary\n",
       "590   69000000.0\n",
       "680   60000000.0\n",
       "1527  60000000.0\n",
       "92    50000000.0\n",
       "719   50000000.0\n",
       "891   50000000.0\n",
       "2464  50000000.0\n",
       "2791  50000000.0\n",
       "346   46000000.0\n",
       "587   46000000.0"
      ]
     },
     "execution_count": 750,
     "metadata": {},
     "output_type": "execute_result"
    }
   ],
   "source": [
    "# Top 10 mức lương cao nhất\n",
    "top_10_salary = pd.DataFrame(jobs_cleaning['Salary']).nlargest(10, 'Salary')\n",
    "top_10_salary"
   ]
  },
  {
   "cell_type": "code",
   "execution_count": 751,
   "metadata": {},
   "outputs": [
    {
     "data": {
      "text/html": [
       "<div>\n",
       "<style scoped>\n",
       "    .dataframe tbody tr th:only-of-type {\n",
       "        vertical-align: middle;\n",
       "    }\n",
       "\n",
       "    .dataframe tbody tr th {\n",
       "        vertical-align: top;\n",
       "    }\n",
       "\n",
       "    .dataframe thead th {\n",
       "        text-align: right;\n",
       "    }\n",
       "</style>\n",
       "<table border=\"1\" class=\"dataframe\">\n",
       "  <thead>\n",
       "    <tr style=\"text-align: right;\">\n",
       "      <th></th>\n",
       "      <th>Salary</th>\n",
       "    </tr>\n",
       "  </thead>\n",
       "  <tbody>\n",
       "    <tr>\n",
       "      <th>0</th>\n",
       "      <td>0.0</td>\n",
       "    </tr>\n",
       "    <tr>\n",
       "      <th>5</th>\n",
       "      <td>0.0</td>\n",
       "    </tr>\n",
       "    <tr>\n",
       "      <th>10</th>\n",
       "      <td>0.0</td>\n",
       "    </tr>\n",
       "    <tr>\n",
       "      <th>12</th>\n",
       "      <td>0.0</td>\n",
       "    </tr>\n",
       "    <tr>\n",
       "      <th>14</th>\n",
       "      <td>0.0</td>\n",
       "    </tr>\n",
       "    <tr>\n",
       "      <th>15</th>\n",
       "      <td>0.0</td>\n",
       "    </tr>\n",
       "    <tr>\n",
       "      <th>23</th>\n",
       "      <td>0.0</td>\n",
       "    </tr>\n",
       "    <tr>\n",
       "      <th>27</th>\n",
       "      <td>0.0</td>\n",
       "    </tr>\n",
       "    <tr>\n",
       "      <th>29</th>\n",
       "      <td>0.0</td>\n",
       "    </tr>\n",
       "    <tr>\n",
       "      <th>31</th>\n",
       "      <td>0.0</td>\n",
       "    </tr>\n",
       "  </tbody>\n",
       "</table>\n",
       "</div>"
      ],
      "text/plain": [
       "    Salary\n",
       "0      0.0\n",
       "5      0.0\n",
       "10     0.0\n",
       "12     0.0\n",
       "14     0.0\n",
       "15     0.0\n",
       "23     0.0\n",
       "27     0.0\n",
       "29     0.0\n",
       "31     0.0"
      ]
     },
     "execution_count": 751,
     "metadata": {},
     "output_type": "execute_result"
    }
   ],
   "source": [
    "# Top 10 mức lương thấp nhất\n",
    "top_10_salary = pd.DataFrame(jobs_cleaning['Salary']).nsmallest(10, 'Salary')\n",
    "top_10_salary"
   ]
  },
  {
   "cell_type": "code",
   "execution_count": 752,
   "metadata": {},
   "outputs": [],
   "source": [
    "def valid_salary(salary):\n",
    "    if salary == 0 or salary > 100000000:\n",
    "        return False\n",
    "    return True"
   ]
  },
  {
   "cell_type": "code",
   "execution_count": 753,
   "metadata": {},
   "outputs": [],
   "source": [
    "jobs_cleaning = jobs_cleaning[jobs_cleaning['Salary'].apply(valid_salary)]"
   ]
  },
  {
   "cell_type": "code",
   "execution_count": 754,
   "metadata": {},
   "outputs": [
    {
     "data": {
      "text/plain": [
       "<seaborn.axisgrid.FacetGrid at 0x252ae389240>"
      ]
     },
     "execution_count": 754,
     "metadata": {},
     "output_type": "execute_result"
    },
    {
     "data": {
      "text/plain": [
       "<Figure size 200x600 with 0 Axes>"
      ]
     },
     "metadata": {},
     "output_type": "display_data"
    },
    {
     "data": {
      "image/png": "[encoded data removed]",
      "text/plain": [
       "<Figure size 411.111x500 with 1 Axes>"
      ]
     },
     "metadata": {},
     "output_type": "display_data"
    }
   ],
   "source": [
    "plt.figure(figsize=(2, 6))\n",
    "sns.catplot(jobs_cleaning, y=\"Salary\", aspect=0.8, kind=\"box\")"
   ]
  },
  {
   "cell_type": "markdown",
   "metadata": {},
   "source": [
    "Loại bỏ các giá trị Salary ngoại lệ"
   ]
  },
  {
   "cell_type": "code",
   "execution_count": 755,
   "metadata": {},
   "outputs": [],
   "source": [
    "# Xử lý ngoại lệ biến Salary\n",
    "Q1 = jobs_cleaning['Salary'].quantile(0.3)\n",
    "Q3 = jobs_cleaning['Salary'].quantile(0.7)\n",
    "IQR = Q3 - Q1\n",
    "\n",
    "jobs_cleaning = jobs_cleaning[(jobs_cleaning['Salary'] >= (Q1 - 1.5 * IQR)) & (jobs_cleaning['Salary'] <= (Q3 + 1.5 * IQR))]\n",
    "jobs_cleaning = jobs_cleaning[jobs_cleaning['Salary'] > 0]"
   ]
  },
  {
   "cell_type": "markdown",
   "metadata": {},
   "source": [
    "Sau khi loại bỏ các giá trị Salary ngoại lệ"
   ]
  },
  {
   "cell_type": "code",
   "execution_count": 756,
   "metadata": {},
   "outputs": [
    {
     "data": {
      "text/plain": [
       "<seaborn.axisgrid.FacetGrid at 0x252806f14b0>"
      ]
     },
     "execution_count": 756,
     "metadata": {},
     "output_type": "execute_result"
    },
    {
     "data": {
      "text/plain": [
       "<Figure size 200x600 with 0 Axes>"
      ]
     },
     "metadata": {},
     "output_type": "display_data"
    },
    {
     "data": {
      "image/png": "[encoded data removed]",
      "text/plain": [
       "<Figure size 411.111x500 with 1 Axes>"
      ]
     },
     "metadata": {},
     "output_type": "display_data"
    }
   ],
   "source": [
    "plt.figure(figsize=(2, 6))\n",
    "sns.catplot(jobs_cleaning, y=\"Salary\", aspect=0.8, kind=\"box\")"
   ]
  },
  {
   "cell_type": "code",
   "execution_count": 757,
   "metadata": {},
   "outputs": [
    {
     "data": {
      "text/plain": [
       "<seaborn.axisgrid.FacetGrid at 0x252ae3437c0>"
      ]
     },
     "execution_count": 757,
     "metadata": {},
     "output_type": "execute_result"
    },
    {
     "data": {
      "image/png": "[encoded data removed]",
      "text/plain": [
       "<Figure size 1000x500 with 1 Axes>"
      ]
     },
     "metadata": {},
     "output_type": "display_data"
    }
   ],
   "source": [
    "sns.displot(jobs_cleaning, x=\"Salary\", height=5, aspect=2)"
   ]
  },
  {
   "cell_type": "markdown",
   "metadata": {},
   "source": [
    "Mức 'Salary' sau khi được làm sạch, dữ liệu không còn là loại danh mục mà là miền giá trị liên tục"
   ]
  },
  {
   "cell_type": "markdown",
   "metadata": {},
   "source": [
    "- Xác định ngôn ngữ lập trình 'Programming Languages' được yêu cầu cho 1 công việc"
   ]
  },
  {
   "cell_type": "code",
   "execution_count": 758,
   "metadata": {},
   "outputs": [],
   "source": [
    "programing_languages = ['C#', 'Java', 'C++', 'C', 'Javascript', 'Python', 'PHP', 'Kotlin', 'Dart', 'TypeScript']"
   ]
  },
  {
   "cell_type": "code",
   "execution_count": 759,
   "metadata": {},
   "outputs": [],
   "source": [
    "def analyze_programing_language(text):\n",
    "    # Kiểm tra nếu giá trị là chuỗi\n",
    "    if isinstance(text, str):\n",
    "        # Tạo một biểu thức chính quy từ danh sách các ngôn ngữ lập trình\n",
    "        regex_pattern = r'(?<!\\w)(?:' + '|'.join(re.escape(lang.lower()) for lang in programing_languages) + r')(?!\\w)'\n",
    "\n",
    "        # Tìm kiếm các ngôn ngữ lập trình trong văn bản đầu vào và duy trì thứ tự xuất hiện\n",
    "        matches = re.findall(regex_pattern, text.lower())\n",
    "\n",
    "        # Trả về các ngôn ngữ lập trình tìm thấy\n",
    "        unique_matches = list(set(matches))\n",
    "        \n",
    "        return unique_matches\n",
    "    else:\n",
    "        return []"
   ]
  },
  {
   "cell_type": "code",
   "execution_count": 760,
   "metadata": {},
   "outputs": [
    {
     "data": {
      "text/html": [
       "<div>\n",
       "<style scoped>\n",
       "    .dataframe tbody tr th:only-of-type {\n",
       "        vertical-align: middle;\n",
       "    }\n",
       "\n",
       "    .dataframe tbody tr th {\n",
       "        vertical-align: top;\n",
       "    }\n",
       "\n",
       "    .dataframe thead th {\n",
       "        text-align: right;\n",
       "    }\n",
       "</style>\n",
       "<table border=\"1\" class=\"dataframe\">\n",
       "  <thead>\n",
       "    <tr style=\"text-align: right;\">\n",
       "      <th></th>\n",
       "      <th>Unnamed: 0</th>\n",
       "      <th>Salary</th>\n",
       "      <th>Locations</th>\n",
       "      <th>Level</th>\n",
       "      <th>Year of Experience</th>\n",
       "      <th>Contract Type</th>\n",
       "      <th>Sex</th>\n",
       "      <th>Skills</th>\n",
       "      <th>Programming Languages</th>\n",
       "    </tr>\n",
       "  </thead>\n",
       "  <tbody>\n",
       "    <tr>\n",
       "      <th>1</th>\n",
       "      <td>1</td>\n",
       "      <td>10000000.0</td>\n",
       "      <td>Hồ Chí Minh</td>\n",
       "      <td>Nhân viên</td>\n",
       "      <td>Dưới 1 năm</td>\n",
       "      <td>Toàn thời gian</td>\n",
       "      <td>Không yêu cầu</td>\n",
       "      <td>- Thành thạo English để nghe và nói chuyện với...</td>\n",
       "      <td>[]</td>\n",
       "    </tr>\n",
       "    <tr>\n",
       "      <th>4</th>\n",
       "      <td>4</td>\n",
       "      <td>12000000.0</td>\n",
       "      <td>Hà Nội</td>\n",
       "      <td>Nhân viên</td>\n",
       "      <td>1 năm</td>\n",
       "      <td>Toàn thời gian</td>\n",
       "      <td>Không yêu cầu</td>\n",
       "      <td>- Tốt nghiệp đại học chuyên ngành CNTT.\\n- Ski...</td>\n",
       "      <td>[]</td>\n",
       "    </tr>\n",
       "    <tr>\n",
       "      <th>8</th>\n",
       "      <td>8</td>\n",
       "      <td>10000000.0</td>\n",
       "      <td>Hà Nội</td>\n",
       "      <td>Nhân viên</td>\n",
       "      <td>Không yêu cầu kinh nghiệm</td>\n",
       "      <td>Toàn thời gian</td>\n",
       "      <td>Không yêu cầu</td>\n",
       "      <td>- Có ít nhất 01 năm kinh nghiệm làm việc tại v...</td>\n",
       "      <td>[]</td>\n",
       "    </tr>\n",
       "    <tr>\n",
       "      <th>13</th>\n",
       "      <td>13</td>\n",
       "      <td>8000000.0</td>\n",
       "      <td>Hồ Chí Minh</td>\n",
       "      <td>Nhân viên</td>\n",
       "      <td>1 năm</td>\n",
       "      <td>Toàn thời gian</td>\n",
       "      <td>Nữ</td>\n",
       "      <td>Có năng lực và mong muốn làm ở vị trí kinh doa...</td>\n",
       "      <td>[]</td>\n",
       "    </tr>\n",
       "    <tr>\n",
       "      <th>18</th>\n",
       "      <td>18</td>\n",
       "      <td>9000000.0</td>\n",
       "      <td>Hồ Chí Minh</td>\n",
       "      <td>Nhân viên</td>\n",
       "      <td>2 năm</td>\n",
       "      <td>Toàn thời gian</td>\n",
       "      <td>Không yêu cầu</td>\n",
       "      <td>- Ưu tiên: Nam\\n- Tốt nghiệp Cao Đẳng, Đại học...</td>\n",
       "      <td>[]</td>\n",
       "    </tr>\n",
       "  </tbody>\n",
       "</table>\n",
       "</div>"
      ],
      "text/plain": [
       "    Unnamed: 0      Salary    Locations      Level         Year of Experience  \\\n",
       "1            1  10000000.0  Hồ Chí Minh  Nhân viên                 Dưới 1 năm   \n",
       "4            4  12000000.0       Hà Nội  Nhân viên                      1 năm   \n",
       "8            8  10000000.0       Hà Nội  Nhân viên  Không yêu cầu kinh nghiệm   \n",
       "13          13   8000000.0  Hồ Chí Minh  Nhân viên                      1 năm   \n",
       "18          18   9000000.0  Hồ Chí Minh  Nhân viên                      2 năm   \n",
       "\n",
       "     Contract Type            Sex  \\\n",
       "1   Toàn thời gian  Không yêu cầu   \n",
       "4   Toàn thời gian  Không yêu cầu   \n",
       "8   Toàn thời gian  Không yêu cầu   \n",
       "13  Toàn thời gian             Nữ   \n",
       "18  Toàn thời gian  Không yêu cầu   \n",
       "\n",
       "                                               Skills Programming Languages  \n",
       "1   - Thành thạo English để nghe và nói chuyện với...                    []  \n",
       "4   - Tốt nghiệp đại học chuyên ngành CNTT.\\n- Ski...                    []  \n",
       "8   - Có ít nhất 01 năm kinh nghiệm làm việc tại v...                    []  \n",
       "13  Có năng lực và mong muốn làm ở vị trí kinh doa...                    []  \n",
       "18  - Ưu tiên: Nam\\n- Tốt nghiệp Cao Đẳng, Đại học...                    []  "
      ]
     },
     "execution_count": 760,
     "metadata": {},
     "output_type": "execute_result"
    }
   ],
   "source": [
    "jobs_cleaning['Programming Languages'] = jobs_cleaning['Skills'].apply(analyze_programing_language)\n",
    "jobs_cleaning.head()"
   ]
  },
  {
   "cell_type": "markdown",
   "metadata": {},
   "source": [
    "- Xác định ngoại ngữ 'Language' được yêu câu cho 1 công việc"
   ]
  },
  {
   "cell_type": "code",
   "execution_count": 761,
   "metadata": {},
   "outputs": [],
   "source": [
    "languages = ['Tiếng Anh', 'Tiếng Nhật', 'Japanese', 'English']"
   ]
  },
  {
   "cell_type": "code",
   "execution_count": 762,
   "metadata": {},
   "outputs": [],
   "source": [
    "def analyze_language(text):\n",
    "    # Kiểm tra nếu giá trị là chuỗi\n",
    "    if isinstance(text, str):\n",
    "        # Tạo một biểu thức chính quy từ danh sách các ngôn ngữ\n",
    "        regex_pattern = r'(?<!\\w)(?:' + '|'.join(re.escape(lang.lower()) for lang in languages) + r')(?!\\w)'\n",
    "\n",
    "        # Tìm kiếm các ngôn ngữ trong văn bản đầu vào và duy trì thứ tự xuất hiện\n",
    "        matches = re.findall(regex_pattern, text.lower())\n",
    "\n",
    "        # Trả về các ngôn ngữ tìm thấy\n",
    "        unique_matches = list(set(matches))\n",
    "\n",
    "        if 'japanese' in unique_matches:\n",
    "            unique_matches.remove('japanese')\n",
    "            unique_matches.append('tiếng nhật')\n",
    "        if 'english' in unique_matches:\n",
    "            unique_matches.remove('english')\n",
    "            unique_matches.append('tiếng anh')\n",
    "        \n",
    "        return unique_matches\n",
    "    else:\n",
    "        return []"
   ]
  },
  {
   "cell_type": "code",
   "execution_count": 763,
   "metadata": {},
   "outputs": [
    {
     "data": {
      "text/html": [
       "<div>\n",
       "<style scoped>\n",
       "    .dataframe tbody tr th:only-of-type {\n",
       "        vertical-align: middle;\n",
       "    }\n",
       "\n",
       "    .dataframe tbody tr th {\n",
       "        vertical-align: top;\n",
       "    }\n",
       "\n",
       "    .dataframe thead th {\n",
       "        text-align: right;\n",
       "    }\n",
       "</style>\n",
       "<table border=\"1\" class=\"dataframe\">\n",
       "  <thead>\n",
       "    <tr style=\"text-align: right;\">\n",
       "      <th></th>\n",
       "      <th>Unnamed: 0</th>\n",
       "      <th>Salary</th>\n",
       "      <th>Locations</th>\n",
       "      <th>Level</th>\n",
       "      <th>Year of Experience</th>\n",
       "      <th>Contract Type</th>\n",
       "      <th>Sex</th>\n",
       "      <th>Skills</th>\n",
       "      <th>Programming Languages</th>\n",
       "      <th>Languages</th>\n",
       "    </tr>\n",
       "  </thead>\n",
       "  <tbody>\n",
       "    <tr>\n",
       "      <th>1</th>\n",
       "      <td>1</td>\n",
       "      <td>10000000.0</td>\n",
       "      <td>Hồ Chí Minh</td>\n",
       "      <td>Nhân viên</td>\n",
       "      <td>Dưới 1 năm</td>\n",
       "      <td>Toàn thời gian</td>\n",
       "      <td>Không yêu cầu</td>\n",
       "      <td>- Thành thạo English để nghe và nói chuyện với...</td>\n",
       "      <td>[]</td>\n",
       "      <td>[tiếng anh]</td>\n",
       "    </tr>\n",
       "    <tr>\n",
       "      <th>4</th>\n",
       "      <td>4</td>\n",
       "      <td>12000000.0</td>\n",
       "      <td>Hà Nội</td>\n",
       "      <td>Nhân viên</td>\n",
       "      <td>1 năm</td>\n",
       "      <td>Toàn thời gian</td>\n",
       "      <td>Không yêu cầu</td>\n",
       "      <td>- Tốt nghiệp đại học chuyên ngành CNTT.\\n- Ski...</td>\n",
       "      <td>[]</td>\n",
       "      <td>[]</td>\n",
       "    </tr>\n",
       "    <tr>\n",
       "      <th>8</th>\n",
       "      <td>8</td>\n",
       "      <td>10000000.0</td>\n",
       "      <td>Hà Nội</td>\n",
       "      <td>Nhân viên</td>\n",
       "      <td>Không yêu cầu kinh nghiệm</td>\n",
       "      <td>Toàn thời gian</td>\n",
       "      <td>Không yêu cầu</td>\n",
       "      <td>- Có ít nhất 01 năm kinh nghiệm làm việc tại v...</td>\n",
       "      <td>[]</td>\n",
       "      <td>[tiếng anh]</td>\n",
       "    </tr>\n",
       "    <tr>\n",
       "      <th>13</th>\n",
       "      <td>13</td>\n",
       "      <td>8000000.0</td>\n",
       "      <td>Hồ Chí Minh</td>\n",
       "      <td>Nhân viên</td>\n",
       "      <td>1 năm</td>\n",
       "      <td>Toàn thời gian</td>\n",
       "      <td>Nữ</td>\n",
       "      <td>Có năng lực và mong muốn làm ở vị trí kinh doa...</td>\n",
       "      <td>[]</td>\n",
       "      <td>[]</td>\n",
       "    </tr>\n",
       "    <tr>\n",
       "      <th>18</th>\n",
       "      <td>18</td>\n",
       "      <td>9000000.0</td>\n",
       "      <td>Hồ Chí Minh</td>\n",
       "      <td>Nhân viên</td>\n",
       "      <td>2 năm</td>\n",
       "      <td>Toàn thời gian</td>\n",
       "      <td>Không yêu cầu</td>\n",
       "      <td>- Ưu tiên: Nam\\n- Tốt nghiệp Cao Đẳng, Đại học...</td>\n",
       "      <td>[]</td>\n",
       "      <td>[]</td>\n",
       "    </tr>\n",
       "  </tbody>\n",
       "</table>\n",
       "</div>"
      ],
      "text/plain": [
       "    Unnamed: 0      Salary    Locations      Level         Year of Experience  \\\n",
       "1            1  10000000.0  Hồ Chí Minh  Nhân viên                 Dưới 1 năm   \n",
       "4            4  12000000.0       Hà Nội  Nhân viên                      1 năm   \n",
       "8            8  10000000.0       Hà Nội  Nhân viên  Không yêu cầu kinh nghiệm   \n",
       "13          13   8000000.0  Hồ Chí Minh  Nhân viên                      1 năm   \n",
       "18          18   9000000.0  Hồ Chí Minh  Nhân viên                      2 năm   \n",
       "\n",
       "     Contract Type            Sex  \\\n",
       "1   Toàn thời gian  Không yêu cầu   \n",
       "4   Toàn thời gian  Không yêu cầu   \n",
       "8   Toàn thời gian  Không yêu cầu   \n",
       "13  Toàn thời gian             Nữ   \n",
       "18  Toàn thời gian  Không yêu cầu   \n",
       "\n",
       "                                               Skills Programming Languages  \\\n",
       "1   - Thành thạo English để nghe và nói chuyện với...                    []   \n",
       "4   - Tốt nghiệp đại học chuyên ngành CNTT.\\n- Ski...                    []   \n",
       "8   - Có ít nhất 01 năm kinh nghiệm làm việc tại v...                    []   \n",
       "13  Có năng lực và mong muốn làm ở vị trí kinh doa...                    []   \n",
       "18  - Ưu tiên: Nam\\n- Tốt nghiệp Cao Đẳng, Đại học...                    []   \n",
       "\n",
       "      Languages  \n",
       "1   [tiếng anh]  \n",
       "4            []  \n",
       "8   [tiếng anh]  \n",
       "13           []  \n",
       "18           []  "
      ]
     },
     "execution_count": 763,
     "metadata": {},
     "output_type": "execute_result"
    }
   ],
   "source": [
    "jobs_cleaning['Languages'] = jobs_cleaning['Skills'].apply(analyze_language)\n",
    "jobs_cleaning.head()"
   ]
  },
  {
   "cell_type": "markdown",
   "metadata": {},
   "source": [
    "- Tách dữ liệu đa biến thành đơn biến"
   ]
  },
  {
   "cell_type": "code",
   "execution_count": 764,
   "metadata": {},
   "outputs": [],
   "source": [
    "def array_to_single_value(column_name, new_column_name, value_other):\n",
    "    # Tạo một DataFrame mới để chứa các bản ghi đã tách\n",
    "    new_rows = []\n",
    "\n",
    "    # Duyệt qua các hàng trong DataFrame hiện tại\n",
    "    for index, row in jobs_cleaning.iterrows():\n",
    "        skills = row[column_name]\n",
    "        if isinstance(skills, list):\n",
    "            if skills.__len__() == 0:\n",
    "                new_row = row.copy()\n",
    "                new_row[new_column_name] = value_other\n",
    "                new_row.pop(column_name)\n",
    "                new_rows.append(new_row)\n",
    "            else:\n",
    "                for skill in skills:\n",
    "                    new_row = row.copy()\n",
    "                    new_row[new_column_name] = skill\n",
    "                    new_row.pop(column_name)\n",
    "                    new_rows.append(new_row)\n",
    "\n",
    "    # Tạo DataFrame mới từ danh sách các bản ghi đã tách\n",
    "    return pd.DataFrame(new_rows)"
   ]
  },
  {
   "cell_type": "markdown",
   "metadata": {},
   "source": [
    "Đối với ngôn ngữ lập trình"
   ]
  },
  {
   "cell_type": "code",
   "execution_count": 765,
   "metadata": {},
   "outputs": [
    {
     "data": {
      "text/html": [
       "<div>\n",
       "<style scoped>\n",
       "    .dataframe tbody tr th:only-of-type {\n",
       "        vertical-align: middle;\n",
       "    }\n",
       "\n",
       "    .dataframe tbody tr th {\n",
       "        vertical-align: top;\n",
       "    }\n",
       "\n",
       "    .dataframe thead th {\n",
       "        text-align: right;\n",
       "    }\n",
       "</style>\n",
       "<table border=\"1\" class=\"dataframe\">\n",
       "  <thead>\n",
       "    <tr style=\"text-align: right;\">\n",
       "      <th></th>\n",
       "      <th>Unnamed: 0</th>\n",
       "      <th>Salary</th>\n",
       "      <th>Locations</th>\n",
       "      <th>Level</th>\n",
       "      <th>Year of Experience</th>\n",
       "      <th>Contract Type</th>\n",
       "      <th>Sex</th>\n",
       "      <th>Skills</th>\n",
       "      <th>Languages</th>\n",
       "      <th>Programming Language</th>\n",
       "    </tr>\n",
       "  </thead>\n",
       "  <tbody>\n",
       "    <tr>\n",
       "      <th>1</th>\n",
       "      <td>1</td>\n",
       "      <td>10000000.0</td>\n",
       "      <td>Hồ Chí Minh</td>\n",
       "      <td>Nhân viên</td>\n",
       "      <td>Dưới 1 năm</td>\n",
       "      <td>Toàn thời gian</td>\n",
       "      <td>Không yêu cầu</td>\n",
       "      <td>- Thành thạo English để nghe và nói chuyện với...</td>\n",
       "      <td>[tiếng anh]</td>\n",
       "      <td>Khác</td>\n",
       "    </tr>\n",
       "    <tr>\n",
       "      <th>4</th>\n",
       "      <td>4</td>\n",
       "      <td>12000000.0</td>\n",
       "      <td>Hà Nội</td>\n",
       "      <td>Nhân viên</td>\n",
       "      <td>1 năm</td>\n",
       "      <td>Toàn thời gian</td>\n",
       "      <td>Không yêu cầu</td>\n",
       "      <td>- Tốt nghiệp đại học chuyên ngành CNTT.\\n- Ski...</td>\n",
       "      <td>[]</td>\n",
       "      <td>Khác</td>\n",
       "    </tr>\n",
       "    <tr>\n",
       "      <th>8</th>\n",
       "      <td>8</td>\n",
       "      <td>10000000.0</td>\n",
       "      <td>Hà Nội</td>\n",
       "      <td>Nhân viên</td>\n",
       "      <td>Không yêu cầu kinh nghiệm</td>\n",
       "      <td>Toàn thời gian</td>\n",
       "      <td>Không yêu cầu</td>\n",
       "      <td>- Có ít nhất 01 năm kinh nghiệm làm việc tại v...</td>\n",
       "      <td>[tiếng anh]</td>\n",
       "      <td>Khác</td>\n",
       "    </tr>\n",
       "    <tr>\n",
       "      <th>13</th>\n",
       "      <td>13</td>\n",
       "      <td>8000000.0</td>\n",
       "      <td>Hồ Chí Minh</td>\n",
       "      <td>Nhân viên</td>\n",
       "      <td>1 năm</td>\n",
       "      <td>Toàn thời gian</td>\n",
       "      <td>Nữ</td>\n",
       "      <td>Có năng lực và mong muốn làm ở vị trí kinh doa...</td>\n",
       "      <td>[]</td>\n",
       "      <td>Khác</td>\n",
       "    </tr>\n",
       "    <tr>\n",
       "      <th>18</th>\n",
       "      <td>18</td>\n",
       "      <td>9000000.0</td>\n",
       "      <td>Hồ Chí Minh</td>\n",
       "      <td>Nhân viên</td>\n",
       "      <td>2 năm</td>\n",
       "      <td>Toàn thời gian</td>\n",
       "      <td>Không yêu cầu</td>\n",
       "      <td>- Ưu tiên: Nam\\n- Tốt nghiệp Cao Đẳng, Đại học...</td>\n",
       "      <td>[]</td>\n",
       "      <td>Khác</td>\n",
       "    </tr>\n",
       "  </tbody>\n",
       "</table>\n",
       "</div>"
      ],
      "text/plain": [
       "    Unnamed: 0      Salary    Locations      Level         Year of Experience  \\\n",
       "1            1  10000000.0  Hồ Chí Minh  Nhân viên                 Dưới 1 năm   \n",
       "4            4  12000000.0       Hà Nội  Nhân viên                      1 năm   \n",
       "8            8  10000000.0       Hà Nội  Nhân viên  Không yêu cầu kinh nghiệm   \n",
       "13          13   8000000.0  Hồ Chí Minh  Nhân viên                      1 năm   \n",
       "18          18   9000000.0  Hồ Chí Minh  Nhân viên                      2 năm   \n",
       "\n",
       "     Contract Type            Sex  \\\n",
       "1   Toàn thời gian  Không yêu cầu   \n",
       "4   Toàn thời gian  Không yêu cầu   \n",
       "8   Toàn thời gian  Không yêu cầu   \n",
       "13  Toàn thời gian             Nữ   \n",
       "18  Toàn thời gian  Không yêu cầu   \n",
       "\n",
       "                                               Skills    Languages  \\\n",
       "1   - Thành thạo English để nghe và nói chuyện với...  [tiếng anh]   \n",
       "4   - Tốt nghiệp đại học chuyên ngành CNTT.\\n- Ski...           []   \n",
       "8   - Có ít nhất 01 năm kinh nghiệm làm việc tại v...  [tiếng anh]   \n",
       "13  Có năng lực và mong muốn làm ở vị trí kinh doa...           []   \n",
       "18  - Ưu tiên: Nam\\n- Tốt nghiệp Cao Đẳng, Đại học...           []   \n",
       "\n",
       "   Programming Language  \n",
       "1                  Khác  \n",
       "4                  Khác  \n",
       "8                  Khác  \n",
       "13                 Khác  \n",
       "18                 Khác  "
      ]
     },
     "execution_count": 765,
     "metadata": {},
     "output_type": "execute_result"
    }
   ],
   "source": [
    "jobs_cleaning = array_to_single_value('Programming Languages', 'Programming Language', 'Khác')\n",
    "jobs_cleaning.head()"
   ]
  },
  {
   "cell_type": "markdown",
   "metadata": {},
   "source": [
    "Đối với ngoại ngữ"
   ]
  },
  {
   "cell_type": "code",
   "execution_count": 766,
   "metadata": {},
   "outputs": [
    {
     "data": {
      "text/html": [
       "<div>\n",
       "<style scoped>\n",
       "    .dataframe tbody tr th:only-of-type {\n",
       "        vertical-align: middle;\n",
       "    }\n",
       "\n",
       "    .dataframe tbody tr th {\n",
       "        vertical-align: top;\n",
       "    }\n",
       "\n",
       "    .dataframe thead th {\n",
       "        text-align: right;\n",
       "    }\n",
       "</style>\n",
       "<table border=\"1\" class=\"dataframe\">\n",
       "  <thead>\n",
       "    <tr style=\"text-align: right;\">\n",
       "      <th></th>\n",
       "      <th>Unnamed: 0</th>\n",
       "      <th>Salary</th>\n",
       "      <th>Locations</th>\n",
       "      <th>Level</th>\n",
       "      <th>Year of Experience</th>\n",
       "      <th>Contract Type</th>\n",
       "      <th>Sex</th>\n",
       "      <th>Skills</th>\n",
       "      <th>Programming Language</th>\n",
       "      <th>Language</th>\n",
       "    </tr>\n",
       "  </thead>\n",
       "  <tbody>\n",
       "    <tr>\n",
       "      <th>1</th>\n",
       "      <td>1</td>\n",
       "      <td>10000000.0</td>\n",
       "      <td>Hồ Chí Minh</td>\n",
       "      <td>Nhân viên</td>\n",
       "      <td>Dưới 1 năm</td>\n",
       "      <td>Toàn thời gian</td>\n",
       "      <td>Không yêu cầu</td>\n",
       "      <td>- Thành thạo English để nghe và nói chuyện với...</td>\n",
       "      <td>Khác</td>\n",
       "      <td>tiếng anh</td>\n",
       "    </tr>\n",
       "    <tr>\n",
       "      <th>4</th>\n",
       "      <td>4</td>\n",
       "      <td>12000000.0</td>\n",
       "      <td>Hà Nội</td>\n",
       "      <td>Nhân viên</td>\n",
       "      <td>1 năm</td>\n",
       "      <td>Toàn thời gian</td>\n",
       "      <td>Không yêu cầu</td>\n",
       "      <td>- Tốt nghiệp đại học chuyên ngành CNTT.\\n- Ski...</td>\n",
       "      <td>Khác</td>\n",
       "      <td>Không yêu cầu</td>\n",
       "    </tr>\n",
       "    <tr>\n",
       "      <th>8</th>\n",
       "      <td>8</td>\n",
       "      <td>10000000.0</td>\n",
       "      <td>Hà Nội</td>\n",
       "      <td>Nhân viên</td>\n",
       "      <td>Không yêu cầu kinh nghiệm</td>\n",
       "      <td>Toàn thời gian</td>\n",
       "      <td>Không yêu cầu</td>\n",
       "      <td>- Có ít nhất 01 năm kinh nghiệm làm việc tại v...</td>\n",
       "      <td>Khác</td>\n",
       "      <td>tiếng anh</td>\n",
       "    </tr>\n",
       "    <tr>\n",
       "      <th>13</th>\n",
       "      <td>13</td>\n",
       "      <td>8000000.0</td>\n",
       "      <td>Hồ Chí Minh</td>\n",
       "      <td>Nhân viên</td>\n",
       "      <td>1 năm</td>\n",
       "      <td>Toàn thời gian</td>\n",
       "      <td>Nữ</td>\n",
       "      <td>Có năng lực và mong muốn làm ở vị trí kinh doa...</td>\n",
       "      <td>Khác</td>\n",
       "      <td>Không yêu cầu</td>\n",
       "    </tr>\n",
       "    <tr>\n",
       "      <th>18</th>\n",
       "      <td>18</td>\n",
       "      <td>9000000.0</td>\n",
       "      <td>Hồ Chí Minh</td>\n",
       "      <td>Nhân viên</td>\n",
       "      <td>2 năm</td>\n",
       "      <td>Toàn thời gian</td>\n",
       "      <td>Không yêu cầu</td>\n",
       "      <td>- Ưu tiên: Nam\\n- Tốt nghiệp Cao Đẳng, Đại học...</td>\n",
       "      <td>Khác</td>\n",
       "      <td>Không yêu cầu</td>\n",
       "    </tr>\n",
       "  </tbody>\n",
       "</table>\n",
       "</div>"
      ],
      "text/plain": [
       "    Unnamed: 0      Salary    Locations      Level         Year of Experience  \\\n",
       "1            1  10000000.0  Hồ Chí Minh  Nhân viên                 Dưới 1 năm   \n",
       "4            4  12000000.0       Hà Nội  Nhân viên                      1 năm   \n",
       "8            8  10000000.0       Hà Nội  Nhân viên  Không yêu cầu kinh nghiệm   \n",
       "13          13   8000000.0  Hồ Chí Minh  Nhân viên                      1 năm   \n",
       "18          18   9000000.0  Hồ Chí Minh  Nhân viên                      2 năm   \n",
       "\n",
       "     Contract Type            Sex  \\\n",
       "1   Toàn thời gian  Không yêu cầu   \n",
       "4   Toàn thời gian  Không yêu cầu   \n",
       "8   Toàn thời gian  Không yêu cầu   \n",
       "13  Toàn thời gian             Nữ   \n",
       "18  Toàn thời gian  Không yêu cầu   \n",
       "\n",
       "                                               Skills Programming Language  \\\n",
       "1   - Thành thạo English để nghe và nói chuyện với...                 Khác   \n",
       "4   - Tốt nghiệp đại học chuyên ngành CNTT.\\n- Ski...                 Khác   \n",
       "8   - Có ít nhất 01 năm kinh nghiệm làm việc tại v...                 Khác   \n",
       "13  Có năng lực và mong muốn làm ở vị trí kinh doa...                 Khác   \n",
       "18  - Ưu tiên: Nam\\n- Tốt nghiệp Cao Đẳng, Đại học...                 Khác   \n",
       "\n",
       "         Language  \n",
       "1       tiếng anh  \n",
       "4   Không yêu cầu  \n",
       "8       tiếng anh  \n",
       "13  Không yêu cầu  \n",
       "18  Không yêu cầu  "
      ]
     },
     "execution_count": 766,
     "metadata": {},
     "output_type": "execute_result"
    }
   ],
   "source": [
    "jobs_cleaning = array_to_single_value('Languages', 'Language', 'Không yêu cầu')\n",
    "jobs_cleaning.head()"
   ]
  },
  {
   "cell_type": "markdown",
   "metadata": {},
   "source": [
    "- Sau khi tách đa biến thành đơn biến"
   ]
  },
  {
   "cell_type": "markdown",
   "metadata": {},
   "source": [
    "Đối với ngôn ngữ lập trình"
   ]
  },
  {
   "cell_type": "code",
   "execution_count": 767,
   "metadata": {},
   "outputs": [
    {
     "name": "stdout",
     "output_type": "stream",
     "text": [
      "Programming Language\n",
      "Khác          913\n",
      "javascript    111\n",
      "java          101\n",
      "python         62\n",
      "php            58\n",
      "c#             49\n",
      "c              32\n",
      "c++            27\n",
      "kotlin         23\n",
      "typescript     16\n",
      "dart            2\n",
      "Name: count, dtype: int64\n"
     ]
    },
    {
     "name": "stderr",
     "output_type": "stream",
     "text": [
      "C:\\Users\\TUAN\\AppData\\Local\\Temp\\ipykernel_11880\\502853134.py:2: FutureWarning: \n",
      "\n",
      "Passing `palette` without assigning `hue` is deprecated and will be removed in v0.14.0. Assign the `x` variable to `hue` and set `legend=False` for the same effect.\n",
      "\n",
      "  sns.countplot(x='Programming Language', data=jobs_cleaning.explode('Programming Language'),\n"
     ]
    },
    {
     "data": {
      "image/png": "[encoded data removed]",
      "text/plain": [
       "<Figure size 1000x600 with 1 Axes>"
      ]
     },
     "metadata": {},
     "output_type": "display_data"
    }
   ],
   "source": [
    "plt.figure(figsize=(10, 6))\n",
    "sns.countplot(x='Programming Language', data=jobs_cleaning.explode('Programming Language'), \n",
    "    order=jobs_cleaning['Programming Language'].value_counts().index, palette='viridis')\n",
    "\n",
    "print(jobs_cleaning['Programming Language'].value_counts())"
   ]
  },
  {
   "cell_type": "markdown",
   "metadata": {},
   "source": [
    "Đối với ngoại ngữ"
   ]
  },
  {
   "cell_type": "code",
   "execution_count": 768,
   "metadata": {},
   "outputs": [
    {
     "name": "stdout",
     "output_type": "stream",
     "text": [
      "Language\n",
      "Không yêu cầu    905\n",
      "tiếng anh        436\n",
      "tiếng nhật        53\n",
      "Name: count, dtype: int64\n"
     ]
    },
    {
     "name": "stderr",
     "output_type": "stream",
     "text": [
      "C:\\Users\\TUAN\\AppData\\Local\\Temp\\ipykernel_11880\\2794450201.py:1: FutureWarning: \n",
      "\n",
      "Passing `palette` without assigning `hue` is deprecated and will be removed in v0.14.0. Assign the `x` variable to `hue` and set `legend=False` for the same effect.\n",
      "\n",
      "  sns.countplot(x='Language', data=jobs_cleaning.explode('Language'),\n"
     ]
    },
    {
     "data": {
      "image/png": "[encoded data removed]",
      "text/plain": [
       "<Figure size 640x480 with 1 Axes>"
      ]
     },
     "metadata": {},
     "output_type": "display_data"
    }
   ],
   "source": [
    "sns.countplot(x='Language', data=jobs_cleaning.explode('Language'), \n",
    "    order=jobs_cleaning['Language'].explode().value_counts().index, palette='viridis')\n",
    "\n",
    "print(jobs_cleaning['Language'].value_counts())"
   ]
  },
  {
   "cell_type": "markdown",
   "metadata": {},
   "source": [
    "- Detect ngôn ngữ được sử dụng để viết về bài tuyển dụng"
   ]
  },
  {
   "cell_type": "code",
   "execution_count": 769,
   "metadata": {},
   "outputs": [],
   "source": [
    "def detect_language(text):\n",
    "    try:\n",
    "        language = detect(text)\n",
    "        if language == 'en':\n",
    "            return \"en\"\n",
    "        elif language == 'vi':\n",
    "            return \"vi\"\n",
    "        else:\n",
    "            return \"other\"\n",
    "    except Exception as e:\n",
    "        return \"Unknown\""
   ]
  },
  {
   "cell_type": "code",
   "execution_count": 770,
   "metadata": {},
   "outputs": [],
   "source": [
    "jobs_cleaning['Lang'] = jobs_cleaning['Skills'].apply(detect_language)"
   ]
  },
  {
   "cell_type": "markdown",
   "metadata": {},
   "source": [
    "- Sau khi không sử dụng cột 'Skills' nữa, xóa chúng đi"
   ]
  },
  {
   "cell_type": "code",
   "execution_count": 771,
   "metadata": {},
   "outputs": [],
   "source": [
    "jobs_cleaning = jobs_cleaning.drop(columns=['Skills'])"
   ]
  },
  {
   "cell_type": "markdown",
   "metadata": {},
   "source": [
    "- Chuyển 'Locations' thành dữ liệu đơn"
   ]
  },
  {
   "cell_type": "code",
   "execution_count": 772,
   "metadata": {},
   "outputs": [
    {
     "data": {
      "text/plain": [
       "<Axes: xlabel='Locations', ylabel='count'>"
      ]
     },
     "execution_count": 772,
     "metadata": {},
     "output_type": "execute_result"
    },
    {
     "data": {
      "image/png": "[encoded data removed]",
      "text/plain": [
       "<Figure size 640x480 with 1 Axes>"
      ]
     },
     "metadata": {},
     "output_type": "display_data"
    }
   ],
   "source": [
    "sns.countplot(x='Locations', data=jobs_cleaning)"
   ]
  },
  {
   "cell_type": "markdown",
   "metadata": {},
   "source": [
    "'Locations' là biến kiểu dữ liệu hạng mục, một vài hạng mục xuất hiện quá ít trong dữ liệu"
   ]
  },
  {
   "cell_type": "markdown",
   "metadata": {},
   "source": [
    "Chọn 3 thành phố lớn là dữ hiệu hạng mục cho biến Location, trường hợp còn lại cho thành biến 'Khác'"
   ]
  },
  {
   "cell_type": "code",
   "execution_count": 773,
   "metadata": {},
   "outputs": [],
   "source": [
    "jobs_cleaning['Location'] = jobs_cleaning['Locations'].apply(lambda l: l if l in ['Hà Nội', 'Đà Nẵng', 'Hồ Chí Minh'] else 'Khác')\n",
    "jobs_cleaning = jobs_cleaning.drop(columns=['Locations'])"
   ]
  },
  {
   "cell_type": "code",
   "execution_count": 774,
   "metadata": {},
   "outputs": [
    {
     "data": {
      "text/plain": [
       "<Axes: xlabel='Location', ylabel='count'>"
      ]
     },
     "execution_count": 774,
     "metadata": {},
     "output_type": "execute_result"
    },
    {
     "data": {
      "image/png": "[encoded data removed]",
      "text/plain": [
       "<Figure size 640x480 with 1 Axes>"
      ]
     },
     "metadata": {},
     "output_type": "display_data"
    }
   ],
   "source": [
    "sns.countplot(x='Location', data=jobs_cleaning)"
   ]
  },
  {
   "cell_type": "markdown",
   "metadata": {},
   "source": [
    "- Các cột còn lại sau khi làm sạch dữ liệu"
   ]
  },
  {
   "cell_type": "code",
   "execution_count": 775,
   "metadata": {},
   "outputs": [
    {
     "data": {
      "text/plain": [
       "array(['Nhân viên', 'Trưởng/Phó phòng', 'Thực tập sinh', 'Trưởng nhóm',\n",
       "       'Quản lý / Giám sát', 'Giám đốc'], dtype=object)"
      ]
     },
     "execution_count": 775,
     "metadata": {},
     "output_type": "execute_result"
    }
   ],
   "source": [
    "jobs_cleaning['Level'].unique()"
   ]
  },
  {
   "cell_type": "code",
   "execution_count": 776,
   "metadata": {},
   "outputs": [
    {
     "data": {
      "text/plain": [
       "<seaborn.axisgrid.FacetGrid at 0x252b01d34f0>"
      ]
     },
     "execution_count": 776,
     "metadata": {},
     "output_type": "execute_result"
    },
    {
     "data": {
      "image/png": "[encoded data removed]",
      "text/plain": [
       "<Figure size 1000x500 with 1 Axes>"
      ]
     },
     "metadata": {},
     "output_type": "display_data"
    }
   ],
   "source": [
    "sns.displot(jobs, x=\"Level\", kind=\"hist\", height=5, aspect=2)"
   ]
  },
  {
   "cell_type": "code",
   "execution_count": 777,
   "metadata": {},
   "outputs": [
    {
     "data": {
      "text/plain": [
       "<seaborn.axisgrid.FacetGrid at 0x2528a500a90>"
      ]
     },
     "execution_count": 777,
     "metadata": {},
     "output_type": "execute_result"
    },
    {
     "data": {
      "image/png": "[encoded data removed]",
      "text/plain": [
       "<Figure size 1000x500 with 1 Axes>"
      ]
     },
     "metadata": {},
     "output_type": "display_data"
    }
   ],
   "source": [
    "sns.displot(jobs_cleaning, x=\"Level\", kind=\"hist\", height=5, aspect=2)"
   ]
  },
  {
   "cell_type": "code",
   "execution_count": 778,
   "metadata": {},
   "outputs": [
    {
     "data": {
      "text/plain": [
       "<Axes: xlabel='Level'>"
      ]
     },
     "execution_count": 778,
     "metadata": {},
     "output_type": "execute_result"
    },
    {
     "data": {
      "image/png": "[encoded data removed]",
      "text/plain": [
       "<Figure size 1000x600 with 1 Axes>"
      ]
     },
     "metadata": {},
     "output_type": "display_data"
    }
   ],
   "source": [
    "level = jobs['Level'].value_counts()\n",
    "level_new = jobs_cleaning['Level'].value_counts()\n",
    "\n",
    "level_ratio = level / level.sum()\n",
    "level_new_ratio = level_new / level_new.sum()\n",
    "\n",
    "df = pd.DataFrame(data=[level_ratio, level_new_ratio], index=['Before Cleaning', 'After Cleaning'])\n",
    "df = df.T\n",
    "\n",
    "df.plot(kind='bar', figsize=(10, 6))"
   ]
  },
  {
   "cell_type": "code",
   "execution_count": 779,
   "metadata": {},
   "outputs": [
    {
     "data": {
      "text/plain": [
       "array(['Toàn thời gian', 'Thực tập', 'Bán thời gian'], dtype=object)"
      ]
     },
     "execution_count": 779,
     "metadata": {},
     "output_type": "execute_result"
    }
   ],
   "source": [
    "jobs_cleaning['Contract Type'].unique()"
   ]
  },
  {
   "cell_type": "code",
   "execution_count": 780,
   "metadata": {},
   "outputs": [
    {
     "name": "stdout",
     "output_type": "stream",
     "text": [
      "                Contract Type  Contract Type After Cleaning\n",
      "Contract Type                                              \n",
      "Toàn thời gian           2893                          1370\n",
      "Thực tập                   73                            12\n",
      "Bán thời gian              28                            12\n"
     ]
    },
    {
     "data": {
      "text/plain": [
       "<Axes: xlabel='Contract Type', ylabel='Số lượng'>"
      ]
     },
     "execution_count": 780,
     "metadata": {},
     "output_type": "execute_result"
    },
    {
     "data": {
      "image/png": "[encoded data removed]",
      "text/plain": [
       "<Figure size 1000x600 with 1 Axes>"
      ]
     },
     "metadata": {},
     "output_type": "display_data"
    }
   ],
   "source": [
    "contract_type = jobs['Contract Type'].value_counts()\n",
    "contract_type_new = jobs_cleaning['Contract Type'].value_counts()\n",
    "\n",
    "df = pd.DataFrame(data=[contract_type, contract_type_new], index=['Contract Type', 'Contract Type After Cleaning'])\n",
    "df = df.T\n",
    "print(df)\n",
    "\n",
    "df.plot(kind='bar', ylabel='Số lượng',  figsize=(10, 6))"
   ]
  },
  {
   "cell_type": "code",
   "execution_count": 781,
   "metadata": {},
   "outputs": [
    {
     "data": {
      "text/plain": [
       "<Axes: xlabel='Contract Type'>"
      ]
     },
     "execution_count": 781,
     "metadata": {},
     "output_type": "execute_result"
    },
    {
     "data": {
      "image/png": "[encoded data removed]",
      "text/plain": [
       "<Figure size 1000x600 with 1 Axes>"
      ]
     },
     "metadata": {},
     "output_type": "display_data"
    }
   ],
   "source": [
    "contract_type_ratio = contract_type / contract_type.sum()\n",
    "contract_type_new_ratio = contract_type_new / contract_type_new.sum()\n",
    "\n",
    "df = pd.DataFrame(data=[contract_type_ratio, contract_type_new_ratio], index=['Before Cleaning', 'After Cleaning'])\n",
    "df = df.T\n",
    "\n",
    "df.plot(kind='bar', figsize=(10, 6))"
   ]
  },
  {
   "cell_type": "code",
   "execution_count": 782,
   "metadata": {},
   "outputs": [
    {
     "data": {
      "text/plain": [
       "array(['Dưới 1 năm', '1 năm', 'Không yêu cầu kinh nghiệm', '2 năm',\n",
       "       '3 năm', '4 năm', '5 năm', 'Trên 5 năm'], dtype=object)"
      ]
     },
     "execution_count": 782,
     "metadata": {},
     "output_type": "execute_result"
    }
   ],
   "source": [
    "jobs_cleaning['Year of Experience'].unique()"
   ]
  },
  {
   "cell_type": "code",
   "execution_count": 783,
   "metadata": {},
   "outputs": [],
   "source": [
    "year_of_experience_index = np.array(['Không yêu cầu kinh nghiệm', 'Dưới 1 năm', '1 năm', '2 năm', '3 năm', '4 năm', '5 năm', 'Trên 5 năm'])"
   ]
  },
  {
   "cell_type": "code",
   "execution_count": 784,
   "metadata": {},
   "outputs": [
    {
     "name": "stdout",
     "output_type": "stream",
     "text": [
      "                           Year of Experience  \\\n",
      "Year of Experience                              \n",
      "Không yêu cầu kinh nghiệm                 540   \n",
      "Dưới 1 năm                                261   \n",
      "1 năm                                     688   \n",
      "2 năm                                     710   \n",
      "3 năm                                     485   \n",
      "4 năm                                     124   \n",
      "5 năm                                     129   \n",
      "Trên 5 năm                                 57   \n",
      "\n",
      "                           Year of Experience After Cleaning  \n",
      "Year of Experience                                            \n",
      "Không yêu cầu kinh nghiệm                                250  \n",
      "Dưới 1 năm                                               176  \n",
      "1 năm                                                    397  \n",
      "2 năm                                                    364  \n",
      "3 năm                                                    177  \n",
      "4 năm                                                     13  \n",
      "5 năm                                                     13  \n",
      "Trên 5 năm                                                 4  \n"
     ]
    },
    {
     "data": {
      "text/plain": [
       "<Axes: xlabel='Year of Experience', ylabel='Số lượng'>"
      ]
     },
     "execution_count": 784,
     "metadata": {},
     "output_type": "execute_result"
    },
    {
     "data": {
      "image/png": "[encoded data removed]",
      "text/plain": [
       "<Figure size 1000x600 with 1 Axes>"
      ]
     },
     "metadata": {},
     "output_type": "display_data"
    }
   ],
   "source": [
    "year_of_experience = jobs['Year of Experience'].value_counts().reindex(year_of_experience_index)\n",
    "year_of_experience_new = jobs_cleaning['Year of Experience'].value_counts().reindex(year_of_experience_index)\n",
    "\n",
    "df = pd.DataFrame(data=[year_of_experience, year_of_experience_new], index=['Year of Experience', 'Year of Experience After Cleaning'])\n",
    "df = df.T\n",
    "print(df)\n",
    "\n",
    "df.plot(kind='bar', ylabel='Số lượng',  figsize=(10, 6))"
   ]
  },
  {
   "cell_type": "code",
   "execution_count": 785,
   "metadata": {},
   "outputs": [
    {
     "data": {
      "text/plain": [
       "<Axes: xlabel='Year of Experience', ylabel='Tỉ lệ'>"
      ]
     },
     "execution_count": 785,
     "metadata": {},
     "output_type": "execute_result"
    },
    {
     "data": {
      "image/png": "[encoded data removed]",
      "text/plain": [
       "<Figure size 1000x600 with 1 Axes>"
      ]
     },
     "metadata": {},
     "output_type": "display_data"
    }
   ],
   "source": [
    "# Tính tỉ lệ của từng nhóm trong dữ liệu gốc\n",
    "experience_ratio = year_of_experience / year_of_experience.sum()\n",
    "\n",
    "# Tính tỉ lệ của từng nhóm trong dữ liệu sau khi làm sạch\n",
    "experience_new_ratio = year_of_experience_new / year_of_experience_new.sum()\n",
    "\n",
    "# Tạo DataFrame mới chứa tỉ lệ\n",
    "df_ratio = pd.DataFrame({'Year of Experience': experience_ratio, 'Year of Experience After Cleaning': experience_new_ratio})\n",
    "\n",
    "# Vẽ biểu đồ cột\n",
    "df_ratio.plot(kind='bar', ylabel='Tỉ lệ', figsize=(10, 6))"
   ]
  },
  {
   "cell_type": "code",
   "execution_count": 786,
   "metadata": {},
   "outputs": [
    {
     "data": {
      "text/plain": [
       "<Axes: xlabel='Sex', ylabel='Số lượng'>"
      ]
     },
     "execution_count": 786,
     "metadata": {},
     "output_type": "execute_result"
    },
    {
     "data": {
      "image/png": "[encoded data removed]",
      "text/plain": [
       "<Figure size 1000x600 with 1 Axes>"
      ]
     },
     "metadata": {},
     "output_type": "display_data"
    }
   ],
   "source": [
    "sex = jobs['Sex'].value_counts()\n",
    "sex_new = jobs_cleaning['Sex'].value_counts()\n",
    "\n",
    "df = pd.DataFrame(data=[sex, sex_new], index=['Sex', 'Sex After Cleaning'])\n",
    "df = df.T\n",
    "\n",
    "df.plot(kind='bar', ylabel='Số lượng',  figsize=(10, 6))"
   ]
  },
  {
   "cell_type": "code",
   "execution_count": 787,
   "metadata": {},
   "outputs": [
    {
     "data": {
      "text/plain": [
       "<Axes: xlabel='Sex', ylabel='Tỉ lệ'>"
      ]
     },
     "execution_count": 787,
     "metadata": {},
     "output_type": "execute_result"
    },
    {
     "data": {
      "image/png": "[encoded data removed]",
      "text/plain": [
       "<Figure size 1000x600 with 1 Axes>"
      ]
     },
     "metadata": {},
     "output_type": "display_data"
    }
   ],
   "source": [
    "# Tính tỉ lệ của từng nhóm trong dữ liệu gốc\n",
    "sex_ratio = sex / sex.sum()\n",
    "\n",
    "# Tính tỉ lệ của từng nhóm trong dữ liệu sau khi làm sạch\n",
    "sex_new_ratio = sex_new / sex_new.sum()\n",
    "\n",
    "# Tạo DataFrame mới chứa tỉ lệ\n",
    "df_ratio = pd.DataFrame({'Sex': sex_ratio, 'Sex After Cleaning': sex_new_ratio})\n",
    "\n",
    "# Vẽ biểu đồ cột\n",
    "df_ratio.plot(kind='bar', ylabel='Tỉ lệ', figsize=(10, 6))"
   ]
  },
  {
   "cell_type": "markdown",
   "metadata": {},
   "source": [
    "Những biến mà không được làm sạch hoặc chuẩn hóa lên biến đó thì kích thước thay đổi trước và sau do có mở rộng và xóa đi những mẫu. Tuy nhiên tỉ lệ của các nhãn không thay đổi nhiều"
   ]
  },
  {
   "cell_type": "markdown",
   "metadata": {},
   "source": [
    "- Sau khi làm sạch lưu vào file csv"
   ]
  },
  {
   "cell_type": "code",
   "execution_count": 788,
   "metadata": {},
   "outputs": [],
   "source": [
    "jobs_cleaning = jobs_cleaning.drop(columns=['Unnamed: 0'])"
   ]
  },
  {
   "cell_type": "code",
   "execution_count": 789,
   "metadata": {},
   "outputs": [],
   "source": [
    "jobs_cleaning.to_csv(clean_data_detination_path, index=False)"
   ]
  },
  {
   "cell_type": "code",
   "execution_count": 790,
   "metadata": {},
   "outputs": [
    {
     "name": "stdout",
     "output_type": "stream",
     "text": [
      "<class 'pandas.core.frame.DataFrame'>\n",
      "Index: 1394 entries, 1 to 2993\n",
      "Data columns (total 9 columns):\n",
      " #   Column                Non-Null Count  Dtype  \n",
      "---  ------                --------------  -----  \n",
      " 0   Salary                1394 non-null   float64\n",
      " 1   Level                 1394 non-null   object \n",
      " 2   Year of Experience    1394 non-null   object \n",
      " 3   Contract Type         1394 non-null   object \n",
      " 4   Sex                   1394 non-null   object \n",
      " 5   Programming Language  1394 non-null   object \n",
      " 6   Language              1394 non-null   object \n",
      " 7   Lang                  1394 non-null   object \n",
      " 8   Location              1394 non-null   object \n",
      "dtypes: float64(1), object(8)\n",
      "memory usage: 141.2+ KB\n"
     ]
    }
   ],
   "source": [
    "jobs_cleaning.info()"
   ]
  }
 ],
 "metadata": {
  "kernelspec": {
   "display_name": ".venv",
   "language": "python",
   "name": "python3"
  },
  "language_info": {
   "codemirror_mode": {
    "name": "ipython",
    "version": 3
   },
   "file_extension": ".py",
   "mimetype": "text/x-python",
   "name": "python",
   "nbconvert_exporter": "python",
   "pygments_lexer": "ipython3",
   "version": "3.11.5"
  }
 },
 "nbformat": 4,
 "nbformat_minor": 2
}
