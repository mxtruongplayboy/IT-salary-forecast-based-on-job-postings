{
 "cells": [
  {
   "cell_type": "code",
   "execution_count": 143,
   "metadata": {},
   "outputs": [],
   "source": [
    "import pandas as pd\n",
    "import numpy as np\n",
    "import seaborn as sns\n",
    "import matplotlib.pyplot as plt\n",
    "from langdetect import detect\n",
    "import re"
   ]
  },
  {
   "cell_type": "code",
   "execution_count": 144,
   "metadata": {},
   "outputs": [],
   "source": [
    "raw_data_source_path = '../data/raw_data_train.csv'\n",
    "clean_data_detination_path = \"../data/clean_data_train.csv\""
   ]
  },
  {
   "cell_type": "code",
   "execution_count": 145,
   "metadata": {},
   "outputs": [],
   "source": [
    "jobs = pd.read_csv(raw_data_source_path)"
   ]
  },
  {
   "cell_type": "code",
   "execution_count": 146,
   "metadata": {},
   "outputs": [
    {
     "data": {
      "text/html": [
       "<div>\n",
       "<style scoped>\n",
       "    .dataframe tbody tr th:only-of-type {\n",
       "        vertical-align: middle;\n",
       "    }\n",
       "\n",
       "    .dataframe tbody tr th {\n",
       "        vertical-align: top;\n",
       "    }\n",
       "\n",
       "    .dataframe thead th {\n",
       "        text-align: right;\n",
       "    }\n",
       "</style>\n",
       "<table border=\"1\" class=\"dataframe\">\n",
       "  <thead>\n",
       "    <tr style=\"text-align: right;\">\n",
       "      <th></th>\n",
       "      <th>Title</th>\n",
       "      <th>Link</th>\n",
       "      <th>Company</th>\n",
       "      <th>Salary</th>\n",
       "      <th>Locations</th>\n",
       "      <th>Level</th>\n",
       "      <th>Year of Experience</th>\n",
       "      <th>Contract Type</th>\n",
       "      <th>Sex</th>\n",
       "      <th>Skills</th>\n",
       "      <th>Size company</th>\n",
       "    </tr>\n",
       "  </thead>\n",
       "  <tbody>\n",
       "    <tr>\n",
       "      <th>0</th>\n",
       "      <td>Nhân Viên Xử Lý Dữ Liệu Tiếng Nhật (Tiếng Nhật...</td>\n",
       "      <td>https://www.topcv.vn/viec-lam/nhan-vien-xu-ly-...</td>\n",
       "      <td>CHI NHÁNH CÔNG TY TNHH PASONA TECH VIỆT NAM TẠ...</td>\n",
       "      <td>Thoả thuận</td>\n",
       "      <td>Hà Nội</td>\n",
       "      <td>Nhân viên</td>\n",
       "      <td>Không yêu cầu kinh nghiệm</td>\n",
       "      <td>Toàn thời gian</td>\n",
       "      <td>Không yêu cầu</td>\n",
       "      <td>- Tốt nghiệp đại học, cao đẳng.\\r\\n- Tiếng Nhậ...</td>\n",
       "      <td>NaN</td>\n",
       "    </tr>\n",
       "    <tr>\n",
       "      <th>1</th>\n",
       "      <td>Java Core Backend Developer -Lương Từ 16 - 25 ...</td>\n",
       "      <td>https://www.topcv.vn/brand/congnghiepvienthong...</td>\n",
       "      <td>TẬP ĐOÀN CÔNG NGHIỆP - VIỄN THÔNG QUÂN ĐỘI</td>\n",
       "      <td>16 - 25 triệu</td>\n",
       "      <td>Hà Nội</td>\n",
       "      <td>Nhân viên</td>\n",
       "      <td>2 năm</td>\n",
       "      <td>Toàn thời gian</td>\n",
       "      <td>Không yêu cầu</td>\n",
       "      <td>1. Trình độ: Tốt nghiệp đại học loại khá trở l...</td>\n",
       "      <td>NaN</td>\n",
       "    </tr>\n",
       "    <tr>\n",
       "      <th>2</th>\n",
       "      <td>QC Tester/Manual Tester Tiếng Anh Cơ Bản - Lươ...</td>\n",
       "      <td>https://www.topcv.vn/viec-lam/qc-tester-manual...</td>\n",
       "      <td>Công Ty TNHH Mediastep Software Việt Nam</td>\n",
       "      <td>30 - 43 triệu</td>\n",
       "      <td>Hồ Chí Minh</td>\n",
       "      <td>Nhân viên</td>\n",
       "      <td>2 năm</td>\n",
       "      <td>Toàn thời gian</td>\n",
       "      <td>Không yêu cầu</td>\n",
       "      <td>Good at English.At least 2 years hands-on expe...</td>\n",
       "      <td>NaN</td>\n",
       "    </tr>\n",
       "    <tr>\n",
       "      <th>3</th>\n",
       "      <td>Trưởng Phòng Kỹ Thuật Giải Pháp Lương + Thưởng...</td>\n",
       "      <td>https://www.topcv.vn/viec-lam/truong-phong-ky-...</td>\n",
       "      <td>CÔNG TY TNHH CÔNG NGHỆ VÀ GIẢI PHÁP THÔNG MINH</td>\n",
       "      <td>15 - 30 triệu</td>\n",
       "      <td>Hà Nội</td>\n",
       "      <td>Trưởng/Phó phòng</td>\n",
       "      <td>2 năm</td>\n",
       "      <td>Toàn thời gian</td>\n",
       "      <td>Không yêu cầu</td>\n",
       "      <td>- Nam Tốt nghiệp Đại học chuyên ngành CNTT.\\r\\...</td>\n",
       "      <td>NaN</td>\n",
       "    </tr>\n",
       "    <tr>\n",
       "      <th>4</th>\n",
       "      <td>Tester Leader/Trưởng Nhóm Kiểm Thử - Lương Up ...</td>\n",
       "      <td>https://www.topcv.vn/viec-lam/tester-leader-tr...</td>\n",
       "      <td>CÔNG TY TNHH FIVE-STAR E-LEARNING</td>\n",
       "      <td>20 - 25 triệu</td>\n",
       "      <td>Hà Nội</td>\n",
       "      <td>Trưởng nhóm</td>\n",
       "      <td>3 năm</td>\n",
       "      <td>Toàn thời gian</td>\n",
       "      <td>Không yêu cầu</td>\n",
       "      <td>Có ít nhất 3 năm kinh nghiệm Test phần mềm các...</td>\n",
       "      <td>NaN</td>\n",
       "    </tr>\n",
       "  </tbody>\n",
       "</table>\n",
       "</div>"
      ],
      "text/plain": [
       "                                               Title  \\\n",
       "0  Nhân Viên Xử Lý Dữ Liệu Tiếng Nhật (Tiếng Nhật...   \n",
       "1  Java Core Backend Developer -Lương Từ 16 - 25 ...   \n",
       "2  QC Tester/Manual Tester Tiếng Anh Cơ Bản - Lươ...   \n",
       "3  Trưởng Phòng Kỹ Thuật Giải Pháp Lương + Thưởng...   \n",
       "4  Tester Leader/Trưởng Nhóm Kiểm Thử - Lương Up ...   \n",
       "\n",
       "                                                Link  \\\n",
       "0  https://www.topcv.vn/viec-lam/nhan-vien-xu-ly-...   \n",
       "1  https://www.topcv.vn/brand/congnghiepvienthong...   \n",
       "2  https://www.topcv.vn/viec-lam/qc-tester-manual...   \n",
       "3  https://www.topcv.vn/viec-lam/truong-phong-ky-...   \n",
       "4  https://www.topcv.vn/viec-lam/tester-leader-tr...   \n",
       "\n",
       "                                             Company         Salary  \\\n",
       "0  CHI NHÁNH CÔNG TY TNHH PASONA TECH VIỆT NAM TẠ...     Thoả thuận   \n",
       "1         TẬP ĐOÀN CÔNG NGHIỆP - VIỄN THÔNG QUÂN ĐỘI  16 - 25 triệu   \n",
       "2           Công Ty TNHH Mediastep Software Việt Nam  30 - 43 triệu   \n",
       "3     CÔNG TY TNHH CÔNG NGHỆ VÀ GIẢI PHÁP THÔNG MINH  15 - 30 triệu   \n",
       "4                  CÔNG TY TNHH FIVE-STAR E-LEARNING  20 - 25 triệu   \n",
       "\n",
       "     Locations             Level         Year of Experience   Contract Type  \\\n",
       "0       Hà Nội         Nhân viên  Không yêu cầu kinh nghiệm  Toàn thời gian   \n",
       "1       Hà Nội         Nhân viên                      2 năm  Toàn thời gian   \n",
       "2  Hồ Chí Minh         Nhân viên                      2 năm  Toàn thời gian   \n",
       "3       Hà Nội  Trưởng/Phó phòng                      2 năm  Toàn thời gian   \n",
       "4       Hà Nội       Trưởng nhóm                      3 năm  Toàn thời gian   \n",
       "\n",
       "             Sex                                             Skills  \\\n",
       "0  Không yêu cầu  - Tốt nghiệp đại học, cao đẳng.\\r\\n- Tiếng Nhậ...   \n",
       "1  Không yêu cầu  1. Trình độ: Tốt nghiệp đại học loại khá trở l...   \n",
       "2  Không yêu cầu  Good at English.At least 2 years hands-on expe...   \n",
       "3  Không yêu cầu  - Nam Tốt nghiệp Đại học chuyên ngành CNTT.\\r\\...   \n",
       "4  Không yêu cầu  Có ít nhất 3 năm kinh nghiệm Test phần mềm các...   \n",
       "\n",
       "  Size company  \n",
       "0          NaN  \n",
       "1          NaN  \n",
       "2          NaN  \n",
       "3          NaN  \n",
       "4          NaN  "
      ]
     },
     "execution_count": 146,
     "metadata": {},
     "output_type": "execute_result"
    }
   ],
   "source": [
    "jobs.head()"
   ]
  },
  {
   "cell_type": "code",
   "execution_count": 147,
   "metadata": {},
   "outputs": [
    {
     "name": "stdout",
     "output_type": "stream",
     "text": [
      "<class 'pandas.core.frame.DataFrame'>\n",
      "RangeIndex: 7048 entries, 0 to 7047\n",
      "Data columns (total 11 columns):\n",
      " #   Column              Non-Null Count  Dtype \n",
      "---  ------              --------------  ----- \n",
      " 0   Title               7048 non-null   object\n",
      " 1   Link                7048 non-null   object\n",
      " 2   Company             7048 non-null   object\n",
      " 3   Salary              7048 non-null   object\n",
      " 4   Locations           7048 non-null   object\n",
      " 5   Level               6968 non-null   object\n",
      " 6   Year of Experience  6968 non-null   object\n",
      " 7   Contract Type       6968 non-null   object\n",
      " 8   Sex                 6968 non-null   object\n",
      " 9   Skills              6968 non-null   object\n",
      " 10  Size company        1427 non-null   object\n",
      "dtypes: object(11)\n",
      "memory usage: 605.8+ KB\n"
     ]
    },
    {
     "data": {
      "text/plain": [
       "Salary\n",
       "Thoả thuận            2536\n",
       "3 - 5 triệu            187\n",
       "10 - 20 triệu          177\n",
       "10 - 15 triệu          161\n",
       "Tới 30 triệu           133\n",
       "                      ... \n",
       "Tới 35,000,000 USD       1\n",
       "30 - 38 triệu            1\n",
       "0.5 - 3 triệu            1\n",
       "40 - 70 triệu            1\n",
       "10 - 19 triệu            1\n",
       "Name: count, Length: 426, dtype: int64"
      ]
     },
     "execution_count": 147,
     "metadata": {},
     "output_type": "execute_result"
    }
   ],
   "source": [
    "jobs.info()\n",
    "jobs[\"Salary\"].value_counts()"
   ]
  },
  {
   "cell_type": "markdown",
   "metadata": {},
   "source": [
    "# Làm sạch data"
   ]
  },
  {
   "cell_type": "markdown",
   "metadata": {},
   "source": [
    "- Xóa 3 cột Title, Link, Company"
   ]
  },
  {
   "cell_type": "code",
   "execution_count": 148,
   "metadata": {},
   "outputs": [
    {
     "data": {
      "text/html": [
       "<div>\n",
       "<style scoped>\n",
       "    .dataframe tbody tr th:only-of-type {\n",
       "        vertical-align: middle;\n",
       "    }\n",
       "\n",
       "    .dataframe tbody tr th {\n",
       "        vertical-align: top;\n",
       "    }\n",
       "\n",
       "    .dataframe thead th {\n",
       "        text-align: right;\n",
       "    }\n",
       "</style>\n",
       "<table border=\"1\" class=\"dataframe\">\n",
       "  <thead>\n",
       "    <tr style=\"text-align: right;\">\n",
       "      <th></th>\n",
       "      <th>Salary</th>\n",
       "      <th>Locations</th>\n",
       "      <th>Level</th>\n",
       "      <th>Year of Experience</th>\n",
       "      <th>Contract Type</th>\n",
       "      <th>Sex</th>\n",
       "      <th>Skills</th>\n",
       "    </tr>\n",
       "  </thead>\n",
       "  <tbody>\n",
       "    <tr>\n",
       "      <th>0</th>\n",
       "      <td>Thoả thuận</td>\n",
       "      <td>Hà Nội</td>\n",
       "      <td>Nhân viên</td>\n",
       "      <td>Không yêu cầu kinh nghiệm</td>\n",
       "      <td>Toàn thời gian</td>\n",
       "      <td>Không yêu cầu</td>\n",
       "      <td>- Tốt nghiệp đại học, cao đẳng.\\r\\n- Tiếng Nhậ...</td>\n",
       "    </tr>\n",
       "    <tr>\n",
       "      <th>1</th>\n",
       "      <td>16 - 25 triệu</td>\n",
       "      <td>Hà Nội</td>\n",
       "      <td>Nhân viên</td>\n",
       "      <td>2 năm</td>\n",
       "      <td>Toàn thời gian</td>\n",
       "      <td>Không yêu cầu</td>\n",
       "      <td>1. Trình độ: Tốt nghiệp đại học loại khá trở l...</td>\n",
       "    </tr>\n",
       "    <tr>\n",
       "      <th>2</th>\n",
       "      <td>30 - 43 triệu</td>\n",
       "      <td>Hồ Chí Minh</td>\n",
       "      <td>Nhân viên</td>\n",
       "      <td>2 năm</td>\n",
       "      <td>Toàn thời gian</td>\n",
       "      <td>Không yêu cầu</td>\n",
       "      <td>Good at English.At least 2 years hands-on expe...</td>\n",
       "    </tr>\n",
       "    <tr>\n",
       "      <th>3</th>\n",
       "      <td>15 - 30 triệu</td>\n",
       "      <td>Hà Nội</td>\n",
       "      <td>Trưởng/Phó phòng</td>\n",
       "      <td>2 năm</td>\n",
       "      <td>Toàn thời gian</td>\n",
       "      <td>Không yêu cầu</td>\n",
       "      <td>- Nam Tốt nghiệp Đại học chuyên ngành CNTT.\\r\\...</td>\n",
       "    </tr>\n",
       "    <tr>\n",
       "      <th>4</th>\n",
       "      <td>20 - 25 triệu</td>\n",
       "      <td>Hà Nội</td>\n",
       "      <td>Trưởng nhóm</td>\n",
       "      <td>3 năm</td>\n",
       "      <td>Toàn thời gian</td>\n",
       "      <td>Không yêu cầu</td>\n",
       "      <td>Có ít nhất 3 năm kinh nghiệm Test phần mềm các...</td>\n",
       "    </tr>\n",
       "  </tbody>\n",
       "</table>\n",
       "</div>"
      ],
      "text/plain": [
       "          Salary    Locations             Level         Year of Experience  \\\n",
       "0     Thoả thuận       Hà Nội         Nhân viên  Không yêu cầu kinh nghiệm   \n",
       "1  16 - 25 triệu       Hà Nội         Nhân viên                      2 năm   \n",
       "2  30 - 43 triệu  Hồ Chí Minh         Nhân viên                      2 năm   \n",
       "3  15 - 30 triệu       Hà Nội  Trưởng/Phó phòng                      2 năm   \n",
       "4  20 - 25 triệu       Hà Nội       Trưởng nhóm                      3 năm   \n",
       "\n",
       "    Contract Type            Sex  \\\n",
       "0  Toàn thời gian  Không yêu cầu   \n",
       "1  Toàn thời gian  Không yêu cầu   \n",
       "2  Toàn thời gian  Không yêu cầu   \n",
       "3  Toàn thời gian  Không yêu cầu   \n",
       "4  Toàn thời gian  Không yêu cầu   \n",
       "\n",
       "                                              Skills  \n",
       "0  - Tốt nghiệp đại học, cao đẳng.\\r\\n- Tiếng Nhậ...  \n",
       "1  1. Trình độ: Tốt nghiệp đại học loại khá trở l...  \n",
       "2  Good at English.At least 2 years hands-on expe...  \n",
       "3  - Nam Tốt nghiệp Đại học chuyên ngành CNTT.\\r\\...  \n",
       "4  Có ít nhất 3 năm kinh nghiệm Test phần mềm các...  "
      ]
     },
     "execution_count": 148,
     "metadata": {},
     "output_type": "execute_result"
    }
   ],
   "source": [
    "jobs_cleaning = jobs.drop(columns=['Title', 'Link', 'Company', 'Size company'])\n",
    "jobs_cleaning.head()"
   ]
  },
  {
   "cell_type": "markdown",
   "metadata": {},
   "source": [
    "- Xóa những hàng có Skills = null\n",
    "Vì Skill giá trị null tức là bản ghi đó crawl bị lỗi"
   ]
  },
  {
   "cell_type": "code",
   "execution_count": 149,
   "metadata": {},
   "outputs": [
    {
     "name": "stdout",
     "output_type": "stream",
     "text": [
      "Trước khi xử lý\n",
      "Salary                7048\n",
      "Locations             7048\n",
      "Level                 6968\n",
      "Year of Experience    6968\n",
      "Contract Type         6968\n",
      "Sex                   6968\n",
      "Skills                6968\n",
      "dtype: int64\n",
      "Sau khi xử lý\n",
      "Salary                6968\n",
      "Locations             6968\n",
      "Level                 6968\n",
      "Year of Experience    6968\n",
      "Contract Type         6968\n",
      "Sex                   6968\n",
      "Skills                6968\n",
      "dtype: int64\n"
     ]
    }
   ],
   "source": [
    "print(\"Trước khi xử lý\")\n",
    "print(jobs_cleaning.count())\n",
    "jobs_cleaning = jobs_cleaning[jobs_cleaning['Level'].isnull() == False]\n",
    "print(\"Sau khi xử lý\")\n",
    "print(jobs_cleaning.count())"
   ]
  },
  {
   "cell_type": "markdown",
   "metadata": {},
   "source": [
    "- Làm sạch biến Salary"
   ]
  },
  {
   "cell_type": "code",
   "execution_count": 150,
   "metadata": {},
   "outputs": [
    {
     "data": {
      "text/html": [
       "<div>\n",
       "<style scoped>\n",
       "    .dataframe tbody tr th:only-of-type {\n",
       "        vertical-align: middle;\n",
       "    }\n",
       "\n",
       "    .dataframe tbody tr th {\n",
       "        vertical-align: top;\n",
       "    }\n",
       "\n",
       "    .dataframe thead th {\n",
       "        text-align: right;\n",
       "    }\n",
       "</style>\n",
       "<table border=\"1\" class=\"dataframe\">\n",
       "  <thead>\n",
       "    <tr style=\"text-align: right;\">\n",
       "      <th></th>\n",
       "      <th>Salary</th>\n",
       "      <th>Locations</th>\n",
       "      <th>Level</th>\n",
       "      <th>Year of Experience</th>\n",
       "      <th>Contract Type</th>\n",
       "      <th>Sex</th>\n",
       "      <th>Skills</th>\n",
       "    </tr>\n",
       "  </thead>\n",
       "  <tbody>\n",
       "    <tr>\n",
       "      <th>1</th>\n",
       "      <td>16 - 25 triệu</td>\n",
       "      <td>Hà Nội</td>\n",
       "      <td>Nhân viên</td>\n",
       "      <td>2 năm</td>\n",
       "      <td>Toàn thời gian</td>\n",
       "      <td>Không yêu cầu</td>\n",
       "      <td>1. Trình độ: Tốt nghiệp đại học loại khá trở l...</td>\n",
       "    </tr>\n",
       "    <tr>\n",
       "      <th>2</th>\n",
       "      <td>30 - 43 triệu</td>\n",
       "      <td>Hồ Chí Minh</td>\n",
       "      <td>Nhân viên</td>\n",
       "      <td>2 năm</td>\n",
       "      <td>Toàn thời gian</td>\n",
       "      <td>Không yêu cầu</td>\n",
       "      <td>Good at English.At least 2 years hands-on expe...</td>\n",
       "    </tr>\n",
       "    <tr>\n",
       "      <th>3</th>\n",
       "      <td>15 - 30 triệu</td>\n",
       "      <td>Hà Nội</td>\n",
       "      <td>Trưởng/Phó phòng</td>\n",
       "      <td>2 năm</td>\n",
       "      <td>Toàn thời gian</td>\n",
       "      <td>Không yêu cầu</td>\n",
       "      <td>- Nam Tốt nghiệp Đại học chuyên ngành CNTT.\\r\\...</td>\n",
       "    </tr>\n",
       "    <tr>\n",
       "      <th>4</th>\n",
       "      <td>20 - 25 triệu</td>\n",
       "      <td>Hà Nội</td>\n",
       "      <td>Trưởng nhóm</td>\n",
       "      <td>3 năm</td>\n",
       "      <td>Toàn thời gian</td>\n",
       "      <td>Không yêu cầu</td>\n",
       "      <td>Có ít nhất 3 năm kinh nghiệm Test phần mềm các...</td>\n",
       "    </tr>\n",
       "    <tr>\n",
       "      <th>5</th>\n",
       "      <td>25 - 35 triệu</td>\n",
       "      <td>Hà Nội</td>\n",
       "      <td>Nhân viên</td>\n",
       "      <td>3 năm</td>\n",
       "      <td>Toàn thời gian</td>\n",
       "      <td>Không yêu cầu</td>\n",
       "      <td>- Có kiến thức tốt về OOP, Clean architecture,...</td>\n",
       "    </tr>\n",
       "  </tbody>\n",
       "</table>\n",
       "</div>"
      ],
      "text/plain": [
       "          Salary    Locations             Level Year of Experience  \\\n",
       "1  16 - 25 triệu       Hà Nội         Nhân viên              2 năm   \n",
       "2  30 - 43 triệu  Hồ Chí Minh         Nhân viên              2 năm   \n",
       "3  15 - 30 triệu       Hà Nội  Trưởng/Phó phòng              2 năm   \n",
       "4  20 - 25 triệu       Hà Nội       Trưởng nhóm              3 năm   \n",
       "5  25 - 35 triệu       Hà Nội         Nhân viên              3 năm   \n",
       "\n",
       "    Contract Type            Sex  \\\n",
       "1  Toàn thời gian  Không yêu cầu   \n",
       "2  Toàn thời gian  Không yêu cầu   \n",
       "3  Toàn thời gian  Không yêu cầu   \n",
       "4  Toàn thời gian  Không yêu cầu   \n",
       "5  Toàn thời gian  Không yêu cầu   \n",
       "\n",
       "                                              Skills  \n",
       "1  1. Trình độ: Tốt nghiệp đại học loại khá trở l...  \n",
       "2  Good at English.At least 2 years hands-on expe...  \n",
       "3  - Nam Tốt nghiệp Đại học chuyên ngành CNTT.\\r\\...  \n",
       "4  Có ít nhất 3 năm kinh nghiệm Test phần mềm các...  \n",
       "5  - Có kiến thức tốt về OOP, Clean architecture,...  "
      ]
     },
     "execution_count": 150,
     "metadata": {},
     "output_type": "execute_result"
    }
   ],
   "source": [
    "jobs_cleaning = jobs_cleaning[jobs_cleaning['Salary'] != 'Thoả thuận']\n",
    "jobs_cleaning.head()"
   ]
  },
  {
   "cell_type": "markdown",
   "metadata": {},
   "source": [
    "Hàm chuyển chuỗi(tiền) thành số"
   ]
  },
  {
   "cell_type": "code",
   "execution_count": 151,
   "metadata": {},
   "outputs": [],
   "source": [
    "def str_to_num(str):\n",
    "    if '.' in str:\n",
    "        return float(str.replace(',', ''))\n",
    "    else:\n",
    "        return int(str.replace(',', ''))"
   ]
  },
  {
   "cell_type": "markdown",
   "metadata": {},
   "source": [
    "Hàm chuyển tiền mệnh giá USD sang VND"
   ]
  },
  {
   "cell_type": "code",
   "execution_count": 152,
   "metadata": {},
   "outputs": [],
   "source": [
    "def USD_to_VND(USD_value):\n",
    "    return USD_value * 23000"
   ]
  },
  {
   "cell_type": "markdown",
   "metadata": {},
   "source": [
    "Giá trị lương thường có những kiểu sau:\n",
    "\n",
    "Tới xxx USD\n",
    "\n",
    "xxx - xxx USD\n",
    "\n",
    "Tới xxx triệu\n",
    "\n",
    "xxx - xxx triệu"
   ]
  },
  {
   "cell_type": "code",
   "execution_count": 153,
   "metadata": {},
   "outputs": [],
   "source": [
    "def analyze_salary(input):\n",
    "    # Regex pattern\n",
    "    regex_patternUSD = r'(?<!\\d)(\\d{1,3}(,\\d{3})*|\\d+)(\\s*-\\s*(\\d{1,3}(,\\d{3})*|\\d+))?\\s*(USD)?(?!\\d)'\n",
    "    regex_patternVND = r'(?<!\\d)(\\d{1,3}(.\\d)*|\\d+)(\\s*-\\s*(\\d{1,3}(.\\d)*|\\d+))?\\s*(triệu)?(?!\\d)'\n",
    "\n",
    "    # Tìm kiếm giá trị số trong chuỗi\n",
    "    if 'USD' in input:\n",
    "        matches = re.findall(regex_patternUSD, input)\n",
    "    elif 'triệu' in input:\n",
    "        matches = re.findall(regex_patternVND, input)\n",
    "    else:\n",
    "        print(input)\n",
    "        return 0\n",
    "\n",
    "    # In kết quả tìm thấy\n",
    "    if matches:\n",
    "        value = 0\n",
    "        for match in matches:\n",
    "            value += str_to_num(match[0])\n",
    "            if match[3]:\n",
    "                value += str_to_num(match[3])\n",
    "                value /= 2\n",
    "            if (match[-1] == 'USD'):\n",
    "                value = USD_to_VND(value)\n",
    "            else:\n",
    "                value *= 1000000\n",
    "        return value\n",
    "    else:\n",
    "        return -1"
   ]
  },
  {
   "cell_type": "code",
   "execution_count": 154,
   "metadata": {},
   "outputs": [],
   "source": [
    "jobs_cleaning['Salary'] = jobs_cleaning['Salary'].apply(analyze_salary)"
   ]
  },
  {
   "cell_type": "markdown",
   "metadata": {},
   "source": [
    "Trước khi loại bỏ các giá trị ngoại lệ"
   ]
  },
  {
   "cell_type": "code",
   "execution_count": 155,
   "metadata": {},
   "outputs": [
    {
     "data": {
      "text/plain": [
       "<seaborn.axisgrid.FacetGrid at 0x164b798f730>"
      ]
     },
     "execution_count": 155,
     "metadata": {},
     "output_type": "execute_result"
    },
    {
     "data": {
      "text/plain": [
       "<Figure size 200x600 with 0 Axes>"
      ]
     },
     "metadata": {},
     "output_type": "display_data"
    },
    {
     "data": {
      "image/png": "[encoded data removed]",
      "text/plain": [
       "<Figure size 411.111x500 with 1 Axes>"
      ]
     },
     "metadata": {},
     "output_type": "display_data"
    }
   ],
   "source": [
    "plt.figure(figsize=(2, 6))\n",
    "sns.catplot(jobs_cleaning, y=\"Salary\", aspect=0.8, kind=\"box\")"
   ]
  },
  {
   "cell_type": "code",
   "execution_count": 156,
   "metadata": {},
   "outputs": [
    {
     "data": {
      "text/html": [
       "<div>\n",
       "<style scoped>\n",
       "    .dataframe tbody tr th:only-of-type {\n",
       "        vertical-align: middle;\n",
       "    }\n",
       "\n",
       "    .dataframe tbody tr th {\n",
       "        vertical-align: top;\n",
       "    }\n",
       "\n",
       "    .dataframe thead th {\n",
       "        text-align: right;\n",
       "    }\n",
       "</style>\n",
       "<table border=\"1\" class=\"dataframe\">\n",
       "  <thead>\n",
       "    <tr style=\"text-align: right;\">\n",
       "      <th></th>\n",
       "      <th>Salary</th>\n",
       "    </tr>\n",
       "  </thead>\n",
       "  <tbody>\n",
       "    <tr>\n",
       "      <th>941</th>\n",
       "      <td>8.050000e+11</td>\n",
       "    </tr>\n",
       "    <tr>\n",
       "      <th>1336</th>\n",
       "      <td>5.175000e+11</td>\n",
       "    </tr>\n",
       "    <tr>\n",
       "      <th>1082</th>\n",
       "      <td>9.200000e+10</td>\n",
       "    </tr>\n",
       "    <tr>\n",
       "      <th>1034</th>\n",
       "      <td>5.750000e+08</td>\n",
       "    </tr>\n",
       "    <tr>\n",
       "      <th>191</th>\n",
       "      <td>9.200000e+07</td>\n",
       "    </tr>\n",
       "    <tr>\n",
       "      <th>701</th>\n",
       "      <td>9.200000e+07</td>\n",
       "    </tr>\n",
       "    <tr>\n",
       "      <th>537</th>\n",
       "      <td>8.500000e+07</td>\n",
       "    </tr>\n",
       "    <tr>\n",
       "      <th>935</th>\n",
       "      <td>8.050000e+07</td>\n",
       "    </tr>\n",
       "    <tr>\n",
       "      <th>3776</th>\n",
       "      <td>8.050000e+07</td>\n",
       "    </tr>\n",
       "    <tr>\n",
       "      <th>4671</th>\n",
       "      <td>8.050000e+07</td>\n",
       "    </tr>\n",
       "  </tbody>\n",
       "</table>\n",
       "</div>"
      ],
      "text/plain": [
       "            Salary\n",
       "941   8.050000e+11\n",
       "1336  5.175000e+11\n",
       "1082  9.200000e+10\n",
       "1034  5.750000e+08\n",
       "191   9.200000e+07\n",
       "701   9.200000e+07\n",
       "537   8.500000e+07\n",
       "935   8.050000e+07\n",
       "3776  8.050000e+07\n",
       "4671  8.050000e+07"
      ]
     },
     "execution_count": 156,
     "metadata": {},
     "output_type": "execute_result"
    }
   ],
   "source": [
    "# Top 10 mức lương cao nhất\n",
    "top_10_salary = pd.DataFrame(jobs_cleaning['Salary']).nlargest(10, 'Salary')\n",
    "top_10_salary"
   ]
  },
  {
   "cell_type": "code",
   "execution_count": 157,
   "metadata": {},
   "outputs": [
    {
     "data": {
      "text/html": [
       "<div>\n",
       "<style scoped>\n",
       "    .dataframe tbody tr th:only-of-type {\n",
       "        vertical-align: middle;\n",
       "    }\n",
       "\n",
       "    .dataframe tbody tr th {\n",
       "        vertical-align: top;\n",
       "    }\n",
       "\n",
       "    .dataframe thead th {\n",
       "        text-align: right;\n",
       "    }\n",
       "</style>\n",
       "<table border=\"1\" class=\"dataframe\">\n",
       "  <thead>\n",
       "    <tr style=\"text-align: right;\">\n",
       "      <th></th>\n",
       "      <th>Salary</th>\n",
       "    </tr>\n",
       "  </thead>\n",
       "  <tbody>\n",
       "    <tr>\n",
       "      <th>250</th>\n",
       "      <td>0.0</td>\n",
       "    </tr>\n",
       "    <tr>\n",
       "      <th>894</th>\n",
       "      <td>0.0</td>\n",
       "    </tr>\n",
       "    <tr>\n",
       "      <th>936</th>\n",
       "      <td>0.0</td>\n",
       "    </tr>\n",
       "    <tr>\n",
       "      <th>938</th>\n",
       "      <td>0.0</td>\n",
       "    </tr>\n",
       "    <tr>\n",
       "      <th>1896</th>\n",
       "      <td>0.0</td>\n",
       "    </tr>\n",
       "    <tr>\n",
       "      <th>4441</th>\n",
       "      <td>0.0</td>\n",
       "    </tr>\n",
       "    <tr>\n",
       "      <th>4601</th>\n",
       "      <td>0.0</td>\n",
       "    </tr>\n",
       "    <tr>\n",
       "      <th>4813</th>\n",
       "      <td>0.0</td>\n",
       "    </tr>\n",
       "    <tr>\n",
       "      <th>5159</th>\n",
       "      <td>0.0</td>\n",
       "    </tr>\n",
       "    <tr>\n",
       "      <th>5518</th>\n",
       "      <td>0.0</td>\n",
       "    </tr>\n",
       "  </tbody>\n",
       "</table>\n",
       "</div>"
      ],
      "text/plain": [
       "      Salary\n",
       "250      0.0\n",
       "894      0.0\n",
       "936      0.0\n",
       "938      0.0\n",
       "1896     0.0\n",
       "4441     0.0\n",
       "4601     0.0\n",
       "4813     0.0\n",
       "5159     0.0\n",
       "5518     0.0"
      ]
     },
     "execution_count": 157,
     "metadata": {},
     "output_type": "execute_result"
    }
   ],
   "source": [
    "# Top 10 mức lương thấp nhất\n",
    "top_10_salary = pd.DataFrame(jobs_cleaning['Salary']).nsmallest(10, 'Salary')\n",
    "top_10_salary"
   ]
  },
  {
   "cell_type": "code",
   "execution_count": 158,
   "metadata": {},
   "outputs": [],
   "source": [
    "def valid_salary(salary):\n",
    "    if salary == 0 or salary > 100000000:\n",
    "        return False\n",
    "    return True"
   ]
  },
  {
   "cell_type": "code",
   "execution_count": 159,
   "metadata": {},
   "outputs": [],
   "source": [
    "jobs_cleaning = jobs_cleaning[jobs_cleaning['Salary'].apply(valid_salary)]"
   ]
  },
  {
   "cell_type": "code",
   "execution_count": 160,
   "metadata": {},
   "outputs": [
    {
     "data": {
      "text/plain": [
       "<seaborn.axisgrid.FacetGrid at 0x164b09a81c0>"
      ]
     },
     "execution_count": 160,
     "metadata": {},
     "output_type": "execute_result"
    },
    {
     "data": {
      "text/plain": [
       "<Figure size 200x600 with 0 Axes>"
      ]
     },
     "metadata": {},
     "output_type": "display_data"
    },
    {
     "data": {
      "image/png": "[encoded data removed]",
      "text/plain": [
       "<Figure size 411.111x500 with 1 Axes>"
      ]
     },
     "metadata": {},
     "output_type": "display_data"
    }
   ],
   "source": [
    "plt.figure(figsize=(2, 6))\n",
    "sns.catplot(jobs_cleaning, y=\"Salary\", aspect=0.8, kind=\"box\")"
   ]
  },
  {
   "cell_type": "markdown",
   "metadata": {},
   "source": [
    "Loại bỏ các giá trị Salary ngoại lệ"
   ]
  },
  {
   "cell_type": "code",
   "execution_count": 161,
   "metadata": {},
   "outputs": [],
   "source": [
    "# Xử lý ngoại lệ biến Salary\n",
    "Q1 = jobs_cleaning['Salary'].quantile(0.3)\n",
    "Q3 = jobs_cleaning['Salary'].quantile(0.7)\n",
    "IQR = Q3 - Q1\n",
    "\n",
    "jobs_cleaning = jobs_cleaning[(jobs_cleaning['Salary'] >= (Q1 - 1.5 * IQR)) & (jobs_cleaning['Salary'] <= (Q3 + 1.5 * IQR))]\n",
    "jobs_cleaning = jobs_cleaning[jobs_cleaning['Salary'] > 0]"
   ]
  },
  {
   "cell_type": "markdown",
   "metadata": {},
   "source": [
    "Sau khi loại bỏ các giá trị Salary ngoại lệ"
   ]
  },
  {
   "cell_type": "code",
   "execution_count": 162,
   "metadata": {},
   "outputs": [
    {
     "data": {
      "text/plain": [
       "<seaborn.axisgrid.FacetGrid at 0x164b314b9d0>"
      ]
     },
     "execution_count": 162,
     "metadata": {},
     "output_type": "execute_result"
    },
    {
     "data": {
      "text/plain": [
       "<Figure size 200x600 with 0 Axes>"
      ]
     },
     "metadata": {},
     "output_type": "display_data"
    },
    {
     "data": {
      "image/png": "[encoded data removed]",
      "text/plain": [
       "<Figure size 411.111x500 with 1 Axes>"
      ]
     },
     "metadata": {},
     "output_type": "display_data"
    }
   ],
   "source": [
    "plt.figure(figsize=(2, 6))\n",
    "sns.catplot(jobs_cleaning, y=\"Salary\", aspect=0.8, kind=\"box\")"
   ]
  },
  {
   "cell_type": "code",
   "execution_count": 163,
   "metadata": {},
   "outputs": [
    {
     "data": {
      "text/plain": [
       "<seaborn.axisgrid.FacetGrid at 0x164b3217850>"
      ]
     },
     "execution_count": 163,
     "metadata": {},
     "output_type": "execute_result"
    },
    {
     "data": {
      "image/png": "[encoded data removed]",
      "text/plain": [
       "<Figure size 1000x500 with 1 Axes>"
      ]
     },
     "metadata": {},
     "output_type": "display_data"
    }
   ],
   "source": [
    "sns.displot(jobs_cleaning, x=\"Salary\", height=5, aspect=2)"
   ]
  },
  {
   "cell_type": "markdown",
   "metadata": {},
   "source": [
    "Mức 'Salary' sau khi được làm sạch, dữ liệu không còn là loại danh mục mà là miền giá trị liên tục"
   ]
  },
  {
   "cell_type": "markdown",
   "metadata": {},
   "source": [
    "- Xác định ngôn ngữ lập trình 'Programming Languages' được yêu cầu cho 1 công việc"
   ]
  },
  {
   "cell_type": "code",
   "execution_count": 164,
   "metadata": {},
   "outputs": [],
   "source": [
    "programing_languages = ['C#', 'Java', 'C++', 'C', 'Javascript', 'Python', 'PHP', 'Kotlin', 'Dart', 'TypeScript']"
   ]
  },
  {
   "cell_type": "code",
   "execution_count": 165,
   "metadata": {},
   "outputs": [],
   "source": [
    "def analyze_programing_language(text):\n",
    "    # Kiểm tra nếu giá trị là chuỗi\n",
    "    if isinstance(text, str):\n",
    "        # Tạo một biểu thức chính quy từ danh sách các ngôn ngữ lập trình\n",
    "        regex_pattern = r'(?<!\\w)(?:' + '|'.join(re.escape(lang.lower()) for lang in programing_languages) + r')(?!\\w)'\n",
    "\n",
    "        # Tìm kiếm các ngôn ngữ lập trình trong văn bản đầu vào và duy trì thứ tự xuất hiện\n",
    "        matches = re.findall(regex_pattern, text.lower())\n",
    "\n",
    "        # Trả về các ngôn ngữ lập trình tìm thấy\n",
    "        unique_matches = list(set(matches))\n",
    "        \n",
    "        return unique_matches\n",
    "    else:\n",
    "        return []"
   ]
  },
  {
   "cell_type": "code",
   "execution_count": 166,
   "metadata": {},
   "outputs": [
    {
     "data": {
      "text/html": [
       "<div>\n",
       "<style scoped>\n",
       "    .dataframe tbody tr th:only-of-type {\n",
       "        vertical-align: middle;\n",
       "    }\n",
       "\n",
       "    .dataframe tbody tr th {\n",
       "        vertical-align: top;\n",
       "    }\n",
       "\n",
       "    .dataframe thead th {\n",
       "        text-align: right;\n",
       "    }\n",
       "</style>\n",
       "<table border=\"1\" class=\"dataframe\">\n",
       "  <thead>\n",
       "    <tr style=\"text-align: right;\">\n",
       "      <th></th>\n",
       "      <th>Salary</th>\n",
       "      <th>Locations</th>\n",
       "      <th>Level</th>\n",
       "      <th>Year of Experience</th>\n",
       "      <th>Contract Type</th>\n",
       "      <th>Sex</th>\n",
       "      <th>Skills</th>\n",
       "      <th>Programming Languages</th>\n",
       "    </tr>\n",
       "  </thead>\n",
       "  <tbody>\n",
       "    <tr>\n",
       "      <th>1</th>\n",
       "      <td>20500000.0</td>\n",
       "      <td>Hà Nội</td>\n",
       "      <td>Nhân viên</td>\n",
       "      <td>2 năm</td>\n",
       "      <td>Toàn thời gian</td>\n",
       "      <td>Không yêu cầu</td>\n",
       "      <td>1. Trình độ: Tốt nghiệp đại học loại khá trở l...</td>\n",
       "      <td>[java]</td>\n",
       "    </tr>\n",
       "    <tr>\n",
       "      <th>2</th>\n",
       "      <td>36500000.0</td>\n",
       "      <td>Hồ Chí Minh</td>\n",
       "      <td>Nhân viên</td>\n",
       "      <td>2 năm</td>\n",
       "      <td>Toàn thời gian</td>\n",
       "      <td>Không yêu cầu</td>\n",
       "      <td>Good at English.At least 2 years hands-on expe...</td>\n",
       "      <td>[]</td>\n",
       "    </tr>\n",
       "    <tr>\n",
       "      <th>3</th>\n",
       "      <td>22500000.0</td>\n",
       "      <td>Hà Nội</td>\n",
       "      <td>Trưởng/Phó phòng</td>\n",
       "      <td>2 năm</td>\n",
       "      <td>Toàn thời gian</td>\n",
       "      <td>Không yêu cầu</td>\n",
       "      <td>- Nam Tốt nghiệp Đại học chuyên ngành CNTT.\\r\\...</td>\n",
       "      <td>[]</td>\n",
       "    </tr>\n",
       "    <tr>\n",
       "      <th>4</th>\n",
       "      <td>22500000.0</td>\n",
       "      <td>Hà Nội</td>\n",
       "      <td>Trưởng nhóm</td>\n",
       "      <td>3 năm</td>\n",
       "      <td>Toàn thời gian</td>\n",
       "      <td>Không yêu cầu</td>\n",
       "      <td>Có ít nhất 3 năm kinh nghiệm Test phần mềm các...</td>\n",
       "      <td>[]</td>\n",
       "    </tr>\n",
       "    <tr>\n",
       "      <th>5</th>\n",
       "      <td>30000000.0</td>\n",
       "      <td>Hà Nội</td>\n",
       "      <td>Nhân viên</td>\n",
       "      <td>3 năm</td>\n",
       "      <td>Toàn thời gian</td>\n",
       "      <td>Không yêu cầu</td>\n",
       "      <td>- Có kiến thức tốt về OOP, Clean architecture,...</td>\n",
       "      <td>[php, javascript, typescript]</td>\n",
       "    </tr>\n",
       "  </tbody>\n",
       "</table>\n",
       "</div>"
      ],
      "text/plain": [
       "       Salary    Locations             Level Year of Experience  \\\n",
       "1  20500000.0       Hà Nội         Nhân viên              2 năm   \n",
       "2  36500000.0  Hồ Chí Minh         Nhân viên              2 năm   \n",
       "3  22500000.0       Hà Nội  Trưởng/Phó phòng              2 năm   \n",
       "4  22500000.0       Hà Nội       Trưởng nhóm              3 năm   \n",
       "5  30000000.0       Hà Nội         Nhân viên              3 năm   \n",
       "\n",
       "    Contract Type            Sex  \\\n",
       "1  Toàn thời gian  Không yêu cầu   \n",
       "2  Toàn thời gian  Không yêu cầu   \n",
       "3  Toàn thời gian  Không yêu cầu   \n",
       "4  Toàn thời gian  Không yêu cầu   \n",
       "5  Toàn thời gian  Không yêu cầu   \n",
       "\n",
       "                                              Skills  \\\n",
       "1  1. Trình độ: Tốt nghiệp đại học loại khá trở l...   \n",
       "2  Good at English.At least 2 years hands-on expe...   \n",
       "3  - Nam Tốt nghiệp Đại học chuyên ngành CNTT.\\r\\...   \n",
       "4  Có ít nhất 3 năm kinh nghiệm Test phần mềm các...   \n",
       "5  - Có kiến thức tốt về OOP, Clean architecture,...   \n",
       "\n",
       "           Programming Languages  \n",
       "1                         [java]  \n",
       "2                             []  \n",
       "3                             []  \n",
       "4                             []  \n",
       "5  [php, javascript, typescript]  "
      ]
     },
     "execution_count": 166,
     "metadata": {},
     "output_type": "execute_result"
    }
   ],
   "source": [
    "jobs_cleaning['Programming Languages'] = jobs_cleaning['Skills'].apply(analyze_programing_language)\n",
    "jobs_cleaning.head()"
   ]
  },
  {
   "cell_type": "markdown",
   "metadata": {},
   "source": [
    "- Xác định ngoại ngữ 'Language' được yêu câu cho 1 công việc"
   ]
  },
  {
   "cell_type": "code",
   "execution_count": 167,
   "metadata": {},
   "outputs": [],
   "source": [
    "languages = ['Tiếng Anh', 'Tiếng Nhật', 'Japanese', 'English']"
   ]
  },
  {
   "cell_type": "code",
   "execution_count": 168,
   "metadata": {},
   "outputs": [],
   "source": [
    "def analyze_language(text):\n",
    "    # Kiểm tra nếu giá trị là chuỗi\n",
    "    if isinstance(text, str):\n",
    "        # Tạo một biểu thức chính quy từ danh sách các ngôn ngữ\n",
    "        regex_pattern = r'(?<!\\w)(?:' + '|'.join(re.escape(lang.lower()) for lang in languages) + r')(?!\\w)'\n",
    "\n",
    "        # Tìm kiếm các ngôn ngữ trong văn bản đầu vào và duy trì thứ tự xuất hiện\n",
    "        matches = re.findall(regex_pattern, text.lower())\n",
    "\n",
    "        # Trả về các ngôn ngữ tìm thấy\n",
    "        unique_matches = list(set(matches))\n",
    "\n",
    "        if 'japanese' in unique_matches:\n",
    "            unique_matches.remove('japanese')\n",
    "            unique_matches.append('tiếng nhật')\n",
    "        if 'english' in unique_matches:\n",
    "            unique_matches.remove('english')\n",
    "            unique_matches.append('tiếng anh')\n",
    "        \n",
    "        return unique_matches\n",
    "    else:\n",
    "        return []"
   ]
  },
  {
   "cell_type": "code",
   "execution_count": 169,
   "metadata": {},
   "outputs": [
    {
     "data": {
      "text/html": [
       "<div>\n",
       "<style scoped>\n",
       "    .dataframe tbody tr th:only-of-type {\n",
       "        vertical-align: middle;\n",
       "    }\n",
       "\n",
       "    .dataframe tbody tr th {\n",
       "        vertical-align: top;\n",
       "    }\n",
       "\n",
       "    .dataframe thead th {\n",
       "        text-align: right;\n",
       "    }\n",
       "</style>\n",
       "<table border=\"1\" class=\"dataframe\">\n",
       "  <thead>\n",
       "    <tr style=\"text-align: right;\">\n",
       "      <th></th>\n",
       "      <th>Salary</th>\n",
       "      <th>Locations</th>\n",
       "      <th>Level</th>\n",
       "      <th>Year of Experience</th>\n",
       "      <th>Contract Type</th>\n",
       "      <th>Sex</th>\n",
       "      <th>Skills</th>\n",
       "      <th>Programming Languages</th>\n",
       "      <th>Languages</th>\n",
       "    </tr>\n",
       "  </thead>\n",
       "  <tbody>\n",
       "    <tr>\n",
       "      <th>1</th>\n",
       "      <td>20500000.0</td>\n",
       "      <td>Hà Nội</td>\n",
       "      <td>Nhân viên</td>\n",
       "      <td>2 năm</td>\n",
       "      <td>Toàn thời gian</td>\n",
       "      <td>Không yêu cầu</td>\n",
       "      <td>1. Trình độ: Tốt nghiệp đại học loại khá trở l...</td>\n",
       "      <td>[java]</td>\n",
       "      <td>[tiếng anh]</td>\n",
       "    </tr>\n",
       "    <tr>\n",
       "      <th>2</th>\n",
       "      <td>36500000.0</td>\n",
       "      <td>Hồ Chí Minh</td>\n",
       "      <td>Nhân viên</td>\n",
       "      <td>2 năm</td>\n",
       "      <td>Toàn thời gian</td>\n",
       "      <td>Không yêu cầu</td>\n",
       "      <td>Good at English.At least 2 years hands-on expe...</td>\n",
       "      <td>[]</td>\n",
       "      <td>[tiếng anh]</td>\n",
       "    </tr>\n",
       "    <tr>\n",
       "      <th>3</th>\n",
       "      <td>22500000.0</td>\n",
       "      <td>Hà Nội</td>\n",
       "      <td>Trưởng/Phó phòng</td>\n",
       "      <td>2 năm</td>\n",
       "      <td>Toàn thời gian</td>\n",
       "      <td>Không yêu cầu</td>\n",
       "      <td>- Nam Tốt nghiệp Đại học chuyên ngành CNTT.\\r\\...</td>\n",
       "      <td>[]</td>\n",
       "      <td>[]</td>\n",
       "    </tr>\n",
       "    <tr>\n",
       "      <th>4</th>\n",
       "      <td>22500000.0</td>\n",
       "      <td>Hà Nội</td>\n",
       "      <td>Trưởng nhóm</td>\n",
       "      <td>3 năm</td>\n",
       "      <td>Toàn thời gian</td>\n",
       "      <td>Không yêu cầu</td>\n",
       "      <td>Có ít nhất 3 năm kinh nghiệm Test phần mềm các...</td>\n",
       "      <td>[]</td>\n",
       "      <td>[]</td>\n",
       "    </tr>\n",
       "    <tr>\n",
       "      <th>5</th>\n",
       "      <td>30000000.0</td>\n",
       "      <td>Hà Nội</td>\n",
       "      <td>Nhân viên</td>\n",
       "      <td>3 năm</td>\n",
       "      <td>Toàn thời gian</td>\n",
       "      <td>Không yêu cầu</td>\n",
       "      <td>- Có kiến thức tốt về OOP, Clean architecture,...</td>\n",
       "      <td>[php, javascript, typescript]</td>\n",
       "      <td>[]</td>\n",
       "    </tr>\n",
       "  </tbody>\n",
       "</table>\n",
       "</div>"
      ],
      "text/plain": [
       "       Salary    Locations             Level Year of Experience  \\\n",
       "1  20500000.0       Hà Nội         Nhân viên              2 năm   \n",
       "2  36500000.0  Hồ Chí Minh         Nhân viên              2 năm   \n",
       "3  22500000.0       Hà Nội  Trưởng/Phó phòng              2 năm   \n",
       "4  22500000.0       Hà Nội       Trưởng nhóm              3 năm   \n",
       "5  30000000.0       Hà Nội         Nhân viên              3 năm   \n",
       "\n",
       "    Contract Type            Sex  \\\n",
       "1  Toàn thời gian  Không yêu cầu   \n",
       "2  Toàn thời gian  Không yêu cầu   \n",
       "3  Toàn thời gian  Không yêu cầu   \n",
       "4  Toàn thời gian  Không yêu cầu   \n",
       "5  Toàn thời gian  Không yêu cầu   \n",
       "\n",
       "                                              Skills  \\\n",
       "1  1. Trình độ: Tốt nghiệp đại học loại khá trở l...   \n",
       "2  Good at English.At least 2 years hands-on expe...   \n",
       "3  - Nam Tốt nghiệp Đại học chuyên ngành CNTT.\\r\\...   \n",
       "4  Có ít nhất 3 năm kinh nghiệm Test phần mềm các...   \n",
       "5  - Có kiến thức tốt về OOP, Clean architecture,...   \n",
       "\n",
       "           Programming Languages    Languages  \n",
       "1                         [java]  [tiếng anh]  \n",
       "2                             []  [tiếng anh]  \n",
       "3                             []           []  \n",
       "4                             []           []  \n",
       "5  [php, javascript, typescript]           []  "
      ]
     },
     "execution_count": 169,
     "metadata": {},
     "output_type": "execute_result"
    }
   ],
   "source": [
    "jobs_cleaning['Languages'] = jobs_cleaning['Skills'].apply(analyze_language)\n",
    "jobs_cleaning.head()"
   ]
  },
  {
   "cell_type": "markdown",
   "metadata": {},
   "source": [
    "- Tách dữ liệu đa biến thành đơn biến"
   ]
  },
  {
   "cell_type": "code",
   "execution_count": 170,
   "metadata": {},
   "outputs": [],
   "source": [
    "def array_to_single_value(column_name, new_column_name, value_other):\n",
    "    # Tạo một DataFrame mới để chứa các bản ghi đã tách\n",
    "    new_rows = []\n",
    "\n",
    "    # Duyệt qua các hàng trong DataFrame hiện tại\n",
    "    for index, row in jobs_cleaning.iterrows():\n",
    "        skills = row[column_name]\n",
    "        if isinstance(skills, list):\n",
    "            if skills.__len__() == 0:\n",
    "                new_row = row.copy()\n",
    "                new_row[new_column_name] = value_other\n",
    "                new_row.pop(column_name)\n",
    "                new_rows.append(new_row)\n",
    "            else:\n",
    "                for skill in skills:\n",
    "                    new_row = row.copy()\n",
    "                    new_row[new_column_name] = skill\n",
    "                    new_row.pop(column_name)\n",
    "                    new_rows.append(new_row)\n",
    "\n",
    "    # Tạo DataFrame mới từ danh sách các bản ghi đã tách\n",
    "    return pd.DataFrame(new_rows)"
   ]
  },
  {
   "cell_type": "markdown",
   "metadata": {},
   "source": [
    "Đối với ngôn ngữ lập trình"
   ]
  },
  {
   "cell_type": "code",
   "execution_count": 171,
   "metadata": {},
   "outputs": [
    {
     "data": {
      "text/html": [
       "<div>\n",
       "<style scoped>\n",
       "    .dataframe tbody tr th:only-of-type {\n",
       "        vertical-align: middle;\n",
       "    }\n",
       "\n",
       "    .dataframe tbody tr th {\n",
       "        vertical-align: top;\n",
       "    }\n",
       "\n",
       "    .dataframe thead th {\n",
       "        text-align: right;\n",
       "    }\n",
       "</style>\n",
       "<table border=\"1\" class=\"dataframe\">\n",
       "  <thead>\n",
       "    <tr style=\"text-align: right;\">\n",
       "      <th></th>\n",
       "      <th>Salary</th>\n",
       "      <th>Locations</th>\n",
       "      <th>Level</th>\n",
       "      <th>Year of Experience</th>\n",
       "      <th>Contract Type</th>\n",
       "      <th>Sex</th>\n",
       "      <th>Skills</th>\n",
       "      <th>Languages</th>\n",
       "      <th>Programming Language</th>\n",
       "    </tr>\n",
       "  </thead>\n",
       "  <tbody>\n",
       "    <tr>\n",
       "      <th>1</th>\n",
       "      <td>20500000.0</td>\n",
       "      <td>Hà Nội</td>\n",
       "      <td>Nhân viên</td>\n",
       "      <td>2 năm</td>\n",
       "      <td>Toàn thời gian</td>\n",
       "      <td>Không yêu cầu</td>\n",
       "      <td>1. Trình độ: Tốt nghiệp đại học loại khá trở l...</td>\n",
       "      <td>[tiếng anh]</td>\n",
       "      <td>java</td>\n",
       "    </tr>\n",
       "    <tr>\n",
       "      <th>2</th>\n",
       "      <td>36500000.0</td>\n",
       "      <td>Hồ Chí Minh</td>\n",
       "      <td>Nhân viên</td>\n",
       "      <td>2 năm</td>\n",
       "      <td>Toàn thời gian</td>\n",
       "      <td>Không yêu cầu</td>\n",
       "      <td>Good at English.At least 2 years hands-on expe...</td>\n",
       "      <td>[tiếng anh]</td>\n",
       "      <td>Khác</td>\n",
       "    </tr>\n",
       "    <tr>\n",
       "      <th>3</th>\n",
       "      <td>22500000.0</td>\n",
       "      <td>Hà Nội</td>\n",
       "      <td>Trưởng/Phó phòng</td>\n",
       "      <td>2 năm</td>\n",
       "      <td>Toàn thời gian</td>\n",
       "      <td>Không yêu cầu</td>\n",
       "      <td>- Nam Tốt nghiệp Đại học chuyên ngành CNTT.\\r\\...</td>\n",
       "      <td>[]</td>\n",
       "      <td>Khác</td>\n",
       "    </tr>\n",
       "    <tr>\n",
       "      <th>4</th>\n",
       "      <td>22500000.0</td>\n",
       "      <td>Hà Nội</td>\n",
       "      <td>Trưởng nhóm</td>\n",
       "      <td>3 năm</td>\n",
       "      <td>Toàn thời gian</td>\n",
       "      <td>Không yêu cầu</td>\n",
       "      <td>Có ít nhất 3 năm kinh nghiệm Test phần mềm các...</td>\n",
       "      <td>[]</td>\n",
       "      <td>Khác</td>\n",
       "    </tr>\n",
       "    <tr>\n",
       "      <th>5</th>\n",
       "      <td>30000000.0</td>\n",
       "      <td>Hà Nội</td>\n",
       "      <td>Nhân viên</td>\n",
       "      <td>3 năm</td>\n",
       "      <td>Toàn thời gian</td>\n",
       "      <td>Không yêu cầu</td>\n",
       "      <td>- Có kiến thức tốt về OOP, Clean architecture,...</td>\n",
       "      <td>[]</td>\n",
       "      <td>php</td>\n",
       "    </tr>\n",
       "  </tbody>\n",
       "</table>\n",
       "</div>"
      ],
      "text/plain": [
       "       Salary    Locations             Level Year of Experience  \\\n",
       "1  20500000.0       Hà Nội         Nhân viên              2 năm   \n",
       "2  36500000.0  Hồ Chí Minh         Nhân viên              2 năm   \n",
       "3  22500000.0       Hà Nội  Trưởng/Phó phòng              2 năm   \n",
       "4  22500000.0       Hà Nội       Trưởng nhóm              3 năm   \n",
       "5  30000000.0       Hà Nội         Nhân viên              3 năm   \n",
       "\n",
       "    Contract Type            Sex  \\\n",
       "1  Toàn thời gian  Không yêu cầu   \n",
       "2  Toàn thời gian  Không yêu cầu   \n",
       "3  Toàn thời gian  Không yêu cầu   \n",
       "4  Toàn thời gian  Không yêu cầu   \n",
       "5  Toàn thời gian  Không yêu cầu   \n",
       "\n",
       "                                              Skills    Languages  \\\n",
       "1  1. Trình độ: Tốt nghiệp đại học loại khá trở l...  [tiếng anh]   \n",
       "2  Good at English.At least 2 years hands-on expe...  [tiếng anh]   \n",
       "3  - Nam Tốt nghiệp Đại học chuyên ngành CNTT.\\r\\...           []   \n",
       "4  Có ít nhất 3 năm kinh nghiệm Test phần mềm các...           []   \n",
       "5  - Có kiến thức tốt về OOP, Clean architecture,...           []   \n",
       "\n",
       "  Programming Language  \n",
       "1                 java  \n",
       "2                 Khác  \n",
       "3                 Khác  \n",
       "4                 Khác  \n",
       "5                  php  "
      ]
     },
     "execution_count": 171,
     "metadata": {},
     "output_type": "execute_result"
    }
   ],
   "source": [
    "jobs_cleaning = array_to_single_value('Programming Languages', 'Programming Language', 'Khác')\n",
    "jobs_cleaning.head()"
   ]
  },
  {
   "cell_type": "markdown",
   "metadata": {},
   "source": [
    "Đối với ngoại ngữ"
   ]
  },
  {
   "cell_type": "code",
   "execution_count": 172,
   "metadata": {},
   "outputs": [
    {
     "data": {
      "text/html": [
       "<div>\n",
       "<style scoped>\n",
       "    .dataframe tbody tr th:only-of-type {\n",
       "        vertical-align: middle;\n",
       "    }\n",
       "\n",
       "    .dataframe tbody tr th {\n",
       "        vertical-align: top;\n",
       "    }\n",
       "\n",
       "    .dataframe thead th {\n",
       "        text-align: right;\n",
       "    }\n",
       "</style>\n",
       "<table border=\"1\" class=\"dataframe\">\n",
       "  <thead>\n",
       "    <tr style=\"text-align: right;\">\n",
       "      <th></th>\n",
       "      <th>Salary</th>\n",
       "      <th>Locations</th>\n",
       "      <th>Level</th>\n",
       "      <th>Year of Experience</th>\n",
       "      <th>Contract Type</th>\n",
       "      <th>Sex</th>\n",
       "      <th>Skills</th>\n",
       "      <th>Programming Language</th>\n",
       "      <th>Language</th>\n",
       "    </tr>\n",
       "  </thead>\n",
       "  <tbody>\n",
       "    <tr>\n",
       "      <th>1</th>\n",
       "      <td>20500000.0</td>\n",
       "      <td>Hà Nội</td>\n",
       "      <td>Nhân viên</td>\n",
       "      <td>2 năm</td>\n",
       "      <td>Toàn thời gian</td>\n",
       "      <td>Không yêu cầu</td>\n",
       "      <td>1. Trình độ: Tốt nghiệp đại học loại khá trở l...</td>\n",
       "      <td>java</td>\n",
       "      <td>tiếng anh</td>\n",
       "    </tr>\n",
       "    <tr>\n",
       "      <th>2</th>\n",
       "      <td>36500000.0</td>\n",
       "      <td>Hồ Chí Minh</td>\n",
       "      <td>Nhân viên</td>\n",
       "      <td>2 năm</td>\n",
       "      <td>Toàn thời gian</td>\n",
       "      <td>Không yêu cầu</td>\n",
       "      <td>Good at English.At least 2 years hands-on expe...</td>\n",
       "      <td>Khác</td>\n",
       "      <td>tiếng anh</td>\n",
       "    </tr>\n",
       "    <tr>\n",
       "      <th>3</th>\n",
       "      <td>22500000.0</td>\n",
       "      <td>Hà Nội</td>\n",
       "      <td>Trưởng/Phó phòng</td>\n",
       "      <td>2 năm</td>\n",
       "      <td>Toàn thời gian</td>\n",
       "      <td>Không yêu cầu</td>\n",
       "      <td>- Nam Tốt nghiệp Đại học chuyên ngành CNTT.\\r\\...</td>\n",
       "      <td>Khác</td>\n",
       "      <td>Không yêu cầu</td>\n",
       "    </tr>\n",
       "    <tr>\n",
       "      <th>4</th>\n",
       "      <td>22500000.0</td>\n",
       "      <td>Hà Nội</td>\n",
       "      <td>Trưởng nhóm</td>\n",
       "      <td>3 năm</td>\n",
       "      <td>Toàn thời gian</td>\n",
       "      <td>Không yêu cầu</td>\n",
       "      <td>Có ít nhất 3 năm kinh nghiệm Test phần mềm các...</td>\n",
       "      <td>Khác</td>\n",
       "      <td>Không yêu cầu</td>\n",
       "    </tr>\n",
       "    <tr>\n",
       "      <th>5</th>\n",
       "      <td>30000000.0</td>\n",
       "      <td>Hà Nội</td>\n",
       "      <td>Nhân viên</td>\n",
       "      <td>3 năm</td>\n",
       "      <td>Toàn thời gian</td>\n",
       "      <td>Không yêu cầu</td>\n",
       "      <td>- Có kiến thức tốt về OOP, Clean architecture,...</td>\n",
       "      <td>php</td>\n",
       "      <td>Không yêu cầu</td>\n",
       "    </tr>\n",
       "  </tbody>\n",
       "</table>\n",
       "</div>"
      ],
      "text/plain": [
       "       Salary    Locations             Level Year of Experience  \\\n",
       "1  20500000.0       Hà Nội         Nhân viên              2 năm   \n",
       "2  36500000.0  Hồ Chí Minh         Nhân viên              2 năm   \n",
       "3  22500000.0       Hà Nội  Trưởng/Phó phòng              2 năm   \n",
       "4  22500000.0       Hà Nội       Trưởng nhóm              3 năm   \n",
       "5  30000000.0       Hà Nội         Nhân viên              3 năm   \n",
       "\n",
       "    Contract Type            Sex  \\\n",
       "1  Toàn thời gian  Không yêu cầu   \n",
       "2  Toàn thời gian  Không yêu cầu   \n",
       "3  Toàn thời gian  Không yêu cầu   \n",
       "4  Toàn thời gian  Không yêu cầu   \n",
       "5  Toàn thời gian  Không yêu cầu   \n",
       "\n",
       "                                              Skills Programming Language  \\\n",
       "1  1. Trình độ: Tốt nghiệp đại học loại khá trở l...                 java   \n",
       "2  Good at English.At least 2 years hands-on expe...                 Khác   \n",
       "3  - Nam Tốt nghiệp Đại học chuyên ngành CNTT.\\r\\...                 Khác   \n",
       "4  Có ít nhất 3 năm kinh nghiệm Test phần mềm các...                 Khác   \n",
       "5  - Có kiến thức tốt về OOP, Clean architecture,...                  php   \n",
       "\n",
       "        Language  \n",
       "1      tiếng anh  \n",
       "2      tiếng anh  \n",
       "3  Không yêu cầu  \n",
       "4  Không yêu cầu  \n",
       "5  Không yêu cầu  "
      ]
     },
     "execution_count": 172,
     "metadata": {},
     "output_type": "execute_result"
    }
   ],
   "source": [
    "jobs_cleaning = array_to_single_value('Languages', 'Language', 'Không yêu cầu')\n",
    "jobs_cleaning.head()"
   ]
  },
  {
   "cell_type": "markdown",
   "metadata": {},
   "source": [
    "- Sau khi tách đa biến thành đơn biến"
   ]
  },
  {
   "cell_type": "markdown",
   "metadata": {},
   "source": [
    "Đối với ngôn ngữ lập trình"
   ]
  },
  {
   "cell_type": "code",
   "execution_count": 173,
   "metadata": {},
   "outputs": [
    {
     "name": "stderr",
     "output_type": "stream",
     "text": [
      "C:\\Users\\TUAN\\AppData\\Local\\Temp\\ipykernel_18168\\502853134.py:2: FutureWarning: \n",
      "\n",
      "Passing `palette` without assigning `hue` is deprecated and will be removed in v0.14.0. Assign the `x` variable to `hue` and set `legend=False` for the same effect.\n",
      "\n",
      "  sns.countplot(x='Programming Language', data=jobs_cleaning.explode('Programming Language'),\n"
     ]
    },
    {
     "name": "stdout",
     "output_type": "stream",
     "text": [
      "Programming Language\n",
      "Khác          2848\n",
      "javascript     523\n",
      "java           491\n",
      "python         292\n",
      "c              191\n",
      "php            173\n",
      "c#             173\n",
      "typescript     112\n",
      "c++             85\n",
      "kotlin          75\n",
      "dart            10\n",
      "Name: count, dtype: int64\n"
     ]
    },
    {
     "data": {
      "image/png": "[encoded data removed]",
      "text/plain": [
       "<Figure size 1000x600 with 1 Axes>"
      ]
     },
     "metadata": {},
     "output_type": "display_data"
    }
   ],
   "source": [
    "plt.figure(figsize=(10, 6))\n",
    "sns.countplot(x='Programming Language', data=jobs_cleaning.explode('Programming Language'), \n",
    "    order=jobs_cleaning['Programming Language'].value_counts().index, palette='viridis')\n",
    "\n",
    "print(jobs_cleaning['Programming Language'].value_counts())"
   ]
  },
  {
   "cell_type": "markdown",
   "metadata": {},
   "source": [
    "Đối với ngoại ngữ"
   ]
  },
  {
   "cell_type": "code",
   "execution_count": 174,
   "metadata": {},
   "outputs": [
    {
     "name": "stdout",
     "output_type": "stream",
     "text": [
      "Language\n",
      "Không yêu cầu    3069\n",
      "tiếng anh        1701\n",
      "tiếng nhật        203\n",
      "Name: count, dtype: int64\n"
     ]
    },
    {
     "name": "stderr",
     "output_type": "stream",
     "text": [
      "C:\\Users\\TUAN\\AppData\\Local\\Temp\\ipykernel_18168\\2794450201.py:1: FutureWarning: \n",
      "\n",
      "Passing `palette` without assigning `hue` is deprecated and will be removed in v0.14.0. Assign the `x` variable to `hue` and set `legend=False` for the same effect.\n",
      "\n",
      "  sns.countplot(x='Language', data=jobs_cleaning.explode('Language'),\n"
     ]
    },
    {
     "data": {
      "image/png": "[encoded data removed]",
      "text/plain": [
       "<Figure size 640x480 with 1 Axes>"
      ]
     },
     "metadata": {},
     "output_type": "display_data"
    }
   ],
   "source": [
    "sns.countplot(x='Language', data=jobs_cleaning.explode('Language'), \n",
    "    order=jobs_cleaning['Language'].explode().value_counts().index, palette='viridis')\n",
    "\n",
    "print(jobs_cleaning['Language'].value_counts())"
   ]
  },
  {
   "cell_type": "markdown",
   "metadata": {},
   "source": [
    "- Detect ngôn ngữ được sử dụng để viết về bài tuyển dụng"
   ]
  },
  {
   "cell_type": "code",
   "execution_count": 175,
   "metadata": {},
   "outputs": [],
   "source": [
    "def detect_language(text):\n",
    "    try:\n",
    "        language = detect(text)\n",
    "        if language == 'en':\n",
    "            return \"en\"\n",
    "        elif language == 'vi':\n",
    "            return \"vi\"\n",
    "        else:\n",
    "            return \"other\"\n",
    "    except Exception as e:\n",
    "        return \"Unknown\""
   ]
  },
  {
   "cell_type": "code",
   "execution_count": 176,
   "metadata": {},
   "outputs": [],
   "source": [
    "jobs_cleaning['Lang'] = jobs_cleaning['Skills'].apply(detect_language)"
   ]
  },
  {
   "cell_type": "markdown",
   "metadata": {},
   "source": [
    "- Sau khi không sử dụng cột 'Skills' nữa, xóa chúng đi"
   ]
  },
  {
   "cell_type": "code",
   "execution_count": 177,
   "metadata": {},
   "outputs": [],
   "source": [
    "jobs_cleaning = jobs_cleaning.drop(columns=['Skills'])"
   ]
  },
  {
   "cell_type": "markdown",
   "metadata": {},
   "source": [
    "- Chuyển 'Locations' thành dữ liệu đơn"
   ]
  },
  {
   "cell_type": "code",
   "execution_count": 178,
   "metadata": {},
   "outputs": [
    {
     "data": {
      "text/plain": [
       "<Axes: xlabel='Locations', ylabel='count'>"
      ]
     },
     "execution_count": 178,
     "metadata": {},
     "output_type": "execute_result"
    },
    {
     "data": {
      "image/png": "[encoded data removed]",
      "text/plain": [
       "<Figure size 640x480 with 1 Axes>"
      ]
     },
     "metadata": {},
     "output_type": "display_data"
    }
   ],
   "source": [
    "sns.countplot(x='Locations', data=jobs_cleaning)"
   ]
  },
  {
   "cell_type": "markdown",
   "metadata": {},
   "source": [
    "'Locations' là biến kiểu dữ liệu hạng mục, một vài hạng mục xuất hiện quá ít trong dữ liệu"
   ]
  },
  {
   "cell_type": "markdown",
   "metadata": {},
   "source": [
    "Chọn 3 thành phố lớn là dữ hiệu hạng mục cho biến Location, trường hợp còn lại cho thành biến 'Khác'"
   ]
  },
  {
   "cell_type": "code",
   "execution_count": 179,
   "metadata": {},
   "outputs": [],
   "source": [
    "jobs_cleaning['Location'] = jobs_cleaning['Locations'].apply(lambda l: l if l in ['Hà Nội', 'Đà Nẵng', 'Hồ Chí Minh'] else 'Khác')\n",
    "jobs_cleaning = jobs_cleaning.drop(columns=['Locations'])"
   ]
  },
  {
   "cell_type": "code",
   "execution_count": 180,
   "metadata": {},
   "outputs": [
    {
     "data": {
      "text/plain": [
       "<Axes: xlabel='Location', ylabel='count'>"
      ]
     },
     "execution_count": 180,
     "metadata": {},
     "output_type": "execute_result"
    },
    {
     "data": {
      "image/png": "[encoded data removed]",
      "text/plain": [
       "<Figure size 640x480 with 1 Axes>"
      ]
     },
     "metadata": {},
     "output_type": "display_data"
    }
   ],
   "source": [
    "sns.countplot(x='Location', data=jobs_cleaning)"
   ]
  },
  {
   "cell_type": "markdown",
   "metadata": {},
   "source": [
    "- Các cột còn lại sau khi làm sạch dữ liệu"
   ]
  },
  {
   "cell_type": "code",
   "execution_count": 181,
   "metadata": {},
   "outputs": [
    {
     "data": {
      "text/plain": [
       "array(['Nhân viên', 'Trưởng/Phó phòng', 'Trưởng nhóm', 'Thực tập sinh',\n",
       "       'Quản lý / Giám sát', 'Giám đốc'], dtype=object)"
      ]
     },
     "execution_count": 181,
     "metadata": {},
     "output_type": "execute_result"
    }
   ],
   "source": [
    "jobs_cleaning['Level'].unique()"
   ]
  },
  {
   "cell_type": "code",
   "execution_count": 182,
   "metadata": {},
   "outputs": [
    {
     "data": {
      "text/plain": [
       "<seaborn.axisgrid.FacetGrid at 0x164bb28a2f0>"
      ]
     },
     "execution_count": 182,
     "metadata": {},
     "output_type": "execute_result"
    },
    {
     "data": {
      "image/png": "[encoded data removed]",
      "text/plain": [
       "<Figure size 1000x500 with 1 Axes>"
      ]
     },
     "metadata": {},
     "output_type": "display_data"
    }
   ],
   "source": [
    "sns.displot(jobs, x=\"Level\", kind=\"hist\", height=5, aspect=2)"
   ]
  },
  {
   "cell_type": "code",
   "execution_count": 183,
   "metadata": {},
   "outputs": [
    {
     "data": {
      "text/plain": [
       "<seaborn.axisgrid.FacetGrid at 0x164ad34fd60>"
      ]
     },
     "execution_count": 183,
     "metadata": {},
     "output_type": "execute_result"
    },
    {
     "data": {
      "image/png": "[encoded data removed]",
      "text/plain": [
       "<Figure size 1000x500 with 1 Axes>"
      ]
     },
     "metadata": {},
     "output_type": "display_data"
    }
   ],
   "source": [
    "sns.displot(jobs_cleaning, x=\"Level\", kind=\"hist\", height=5, aspect=2)"
   ]
  },
  {
   "cell_type": "code",
   "execution_count": 184,
   "metadata": {},
   "outputs": [
    {
     "data": {
      "text/plain": [
       "<Axes: xlabel='Level'>"
      ]
     },
     "execution_count": 184,
     "metadata": {},
     "output_type": "execute_result"
    },
    {
     "data": {
      "image/png": "[encoded data removed]",
      "text/plain": [
       "<Figure size 1000x600 with 1 Axes>"
      ]
     },
     "metadata": {},
     "output_type": "display_data"
    }
   ],
   "source": [
    "level = jobs['Level'].value_counts()\n",
    "level_new = jobs_cleaning['Level'].value_counts()\n",
    "\n",
    "level_ratio = level / level.sum()\n",
    "level_new_ratio = level_new / level_new.sum()\n",
    "\n",
    "df = pd.DataFrame(data=[level_ratio, level_new_ratio], index=['Before Cleaning', 'After Cleaning'])\n",
    "df = df.T\n",
    "\n",
    "df.plot(kind='bar', figsize=(10, 6))"
   ]
  },
  {
   "cell_type": "code",
   "execution_count": 185,
   "metadata": {},
   "outputs": [
    {
     "data": {
      "text/plain": [
       "array(['Toàn thời gian', 'Bán thời gian', 'Thực tập'], dtype=object)"
      ]
     },
     "execution_count": 185,
     "metadata": {},
     "output_type": "execute_result"
    }
   ],
   "source": [
    "jobs_cleaning['Contract Type'].unique()"
   ]
  },
  {
   "cell_type": "code",
   "execution_count": 186,
   "metadata": {},
   "outputs": [
    {
     "name": "stdout",
     "output_type": "stream",
     "text": [
      "                Contract Type  Contract Type After Cleaning\n",
      "Contract Type                                              \n",
      "Toàn thời gian           6809                          4880\n",
      "Thực tập                  115                            66\n",
      "Bán thời gian              44                            27\n"
     ]
    },
    {
     "data": {
      "text/plain": [
       "<Axes: xlabel='Contract Type', ylabel='Số lượng'>"
      ]
     },
     "execution_count": 186,
     "metadata": {},
     "output_type": "execute_result"
    },
    {
     "data": {
      "image/png": "[encoded data removed]",
      "text/plain": [
       "<Figure size 1000x600 with 1 Axes>"
      ]
     },
     "metadata": {},
     "output_type": "display_data"
    }
   ],
   "source": [
    "contract_type = jobs['Contract Type'].value_counts()\n",
    "contract_type_new = jobs_cleaning['Contract Type'].value_counts()\n",
    "\n",
    "df = pd.DataFrame(data=[contract_type, contract_type_new], index=['Contract Type', 'Contract Type After Cleaning'])\n",
    "df = df.T\n",
    "print(df)\n",
    "\n",
    "df.plot(kind='bar', ylabel='Số lượng',  figsize=(10, 6))"
   ]
  },
  {
   "cell_type": "code",
   "execution_count": 187,
   "metadata": {},
   "outputs": [
    {
     "data": {
      "text/plain": [
       "<Axes: xlabel='Contract Type'>"
      ]
     },
     "execution_count": 187,
     "metadata": {},
     "output_type": "execute_result"
    },
    {
     "data": {
      "image/png": "[encoded data removed]",
      "text/plain": [
       "<Figure size 1000x600 with 1 Axes>"
      ]
     },
     "metadata": {},
     "output_type": "display_data"
    }
   ],
   "source": [
    "contract_type_ratio = contract_type / contract_type.sum()\n",
    "contract_type_new_ratio = contract_type_new / contract_type_new.sum()\n",
    "\n",
    "df = pd.DataFrame(data=[contract_type_ratio, contract_type_new_ratio], index=['Before Cleaning', 'After Cleaning'])\n",
    "df = df.T\n",
    "\n",
    "df.plot(kind='bar', figsize=(10, 6))"
   ]
  },
  {
   "cell_type": "code",
   "execution_count": 188,
   "metadata": {},
   "outputs": [
    {
     "data": {
      "text/plain": [
       "array(['2 năm', '3 năm', 'Không yêu cầu kinh nghiệm', '1 năm',\n",
       "       'Dưới 1 năm', '5 năm', '4 năm', 'Trên 5 năm'], dtype=object)"
      ]
     },
     "execution_count": 188,
     "metadata": {},
     "output_type": "execute_result"
    }
   ],
   "source": [
    "jobs_cleaning['Year of Experience'].unique()"
   ]
  },
  {
   "cell_type": "code",
   "execution_count": 189,
   "metadata": {},
   "outputs": [],
   "source": [
    "year_of_experience_index = np.array(['Không yêu cầu kinh nghiệm', 'Dưới 1 năm', '1 năm', '2 năm', '3 năm', '4 năm', '5 năm', 'Trên 5 năm'])"
   ]
  },
  {
   "cell_type": "code",
   "execution_count": 190,
   "metadata": {},
   "outputs": [
    {
     "name": "stdout",
     "output_type": "stream",
     "text": [
      "                           Year of Experience  \\\n",
      "Year of Experience                              \n",
      "Không yêu cầu kinh nghiệm                1305   \n",
      "Dưới 1 năm                                581   \n",
      "1 năm                                    1508   \n",
      "2 năm                                    1565   \n",
      "3 năm                                    1246   \n",
      "4 năm                                     332   \n",
      "5 năm                                     345   \n",
      "Trên 5 năm                                 86   \n",
      "\n",
      "                           Year of Experience After Cleaning  \n",
      "Year of Experience                                            \n",
      "Không yêu cầu kinh nghiệm                                967  \n",
      "Dưới 1 năm                                               500  \n",
      "1 năm                                                   1186  \n",
      "2 năm                                                   1279  \n",
      "3 năm                                                    818  \n",
      "4 năm                                                    102  \n",
      "5 năm                                                     93  \n",
      "Trên 5 năm                                                28  \n"
     ]
    },
    {
     "data": {
      "text/plain": [
       "<Axes: xlabel='Year of Experience', ylabel='Số lượng'>"
      ]
     },
     "execution_count": 190,
     "metadata": {},
     "output_type": "execute_result"
    },
    {
     "data": {
      "image/png": "[encoded data removed]",
      "text/plain": [
       "<Figure size 1000x600 with 1 Axes>"
      ]
     },
     "metadata": {},
     "output_type": "display_data"
    }
   ],
   "source": [
    "year_of_experience = jobs['Year of Experience'].value_counts().reindex(year_of_experience_index)\n",
    "year_of_experience_new = jobs_cleaning['Year of Experience'].value_counts().reindex(year_of_experience_index)\n",
    "\n",
    "df = pd.DataFrame(data=[year_of_experience, year_of_experience_new], index=['Year of Experience', 'Year of Experience After Cleaning'])\n",
    "df = df.T\n",
    "print(df)\n",
    "\n",
    "df.plot(kind='bar', ylabel='Số lượng',  figsize=(10, 6))"
   ]
  },
  {
   "cell_type": "code",
   "execution_count": 191,
   "metadata": {},
   "outputs": [
    {
     "data": {
      "text/plain": [
       "<Axes: xlabel='Year of Experience', ylabel='Tỉ lệ'>"
      ]
     },
     "execution_count": 191,
     "metadata": {},
     "output_type": "execute_result"
    },
    {
     "data": {
      "image/png": "[encoded data removed]",
      "text/plain": [
       "<Figure size 1000x600 with 1 Axes>"
      ]
     },
     "metadata": {},
     "output_type": "display_data"
    }
   ],
   "source": [
    "# Tính tỉ lệ của từng nhóm trong dữ liệu gốc\n",
    "experience_ratio = year_of_experience / year_of_experience.sum()\n",
    "\n",
    "# Tính tỉ lệ của từng nhóm trong dữ liệu sau khi làm sạch\n",
    "experience_new_ratio = year_of_experience_new / year_of_experience_new.sum()\n",
    "\n",
    "# Tạo DataFrame mới chứa tỉ lệ\n",
    "df_ratio = pd.DataFrame({'Year of Experience': experience_ratio, 'Year of Experience After Cleaning': experience_new_ratio})\n",
    "\n",
    "# Vẽ biểu đồ cột\n",
    "df_ratio.plot(kind='bar', ylabel='Tỉ lệ', figsize=(10, 6))"
   ]
  },
  {
   "cell_type": "code",
   "execution_count": 192,
   "metadata": {},
   "outputs": [
    {
     "data": {
      "text/plain": [
       "<Axes: xlabel='Sex', ylabel='Số lượng'>"
      ]
     },
     "execution_count": 192,
     "metadata": {},
     "output_type": "execute_result"
    },
    {
     "data": {
      "image/png": "[encoded data removed]",
      "text/plain": [
       "<Figure size 1000x600 with 1 Axes>"
      ]
     },
     "metadata": {},
     "output_type": "display_data"
    }
   ],
   "source": [
    "sex = jobs['Sex'].value_counts()\n",
    "sex_new = jobs_cleaning['Sex'].value_counts()\n",
    "\n",
    "df = pd.DataFrame(data=[sex, sex_new], index=['Sex', 'Sex After Cleaning'])\n",
    "df = df.T\n",
    "\n",
    "df.plot(kind='bar', ylabel='Số lượng',  figsize=(10, 6))"
   ]
  },
  {
   "cell_type": "code",
   "execution_count": 193,
   "metadata": {},
   "outputs": [
    {
     "data": {
      "text/plain": [
       "<Axes: xlabel='Sex', ylabel='Tỉ lệ'>"
      ]
     },
     "execution_count": 193,
     "metadata": {},
     "output_type": "execute_result"
    },
    {
     "data": {
      "image/png": "[encoded data removed]",
      "text/plain": [
       "<Figure size 1000x600 with 1 Axes>"
      ]
     },
     "metadata": {},
     "output_type": "display_data"
    }
   ],
   "source": [
    "# Tính tỉ lệ của từng nhóm trong dữ liệu gốc\n",
    "sex_ratio = sex / sex.sum()\n",
    "\n",
    "# Tính tỉ lệ của từng nhóm trong dữ liệu sau khi làm sạch\n",
    "sex_new_ratio = sex_new / sex_new.sum()\n",
    "\n",
    "# Tạo DataFrame mới chứa tỉ lệ\n",
    "df_ratio = pd.DataFrame({'Sex': sex_ratio, 'Sex After Cleaning': sex_new_ratio})\n",
    "\n",
    "# Vẽ biểu đồ cột\n",
    "df_ratio.plot(kind='bar', ylabel='Tỉ lệ', figsize=(10, 6))"
   ]
  },
  {
   "cell_type": "markdown",
   "metadata": {},
   "source": [
    "Những biến mà không được làm sạch hoặc chuẩn hóa lên biến đó thì kích thước thay đổi trước và sau do có mở rộng và xóa đi những mẫu. Tuy nhiên tỉ lệ của các nhãn không thay đổi nhiều"
   ]
  },
  {
   "cell_type": "markdown",
   "metadata": {},
   "source": [
    "- Sau khi làm sạch lưu vào file csv"
   ]
  },
  {
   "cell_type": "code",
   "execution_count": 194,
   "metadata": {},
   "outputs": [],
   "source": [
    "jobs_cleaning.to_csv(clean_data_detination_path, index=False)"
   ]
  },
  {
   "cell_type": "code",
   "execution_count": 195,
   "metadata": {},
   "outputs": [
    {
     "name": "stdout",
     "output_type": "stream",
     "text": [
      "<class 'pandas.core.frame.DataFrame'>\n",
      "Index: 4973 entries, 1 to 7044\n",
      "Data columns (total 9 columns):\n",
      " #   Column                Non-Null Count  Dtype  \n",
      "---  ------                --------------  -----  \n",
      " 0   Salary                4973 non-null   float64\n",
      " 1   Level                 4973 non-null   object \n",
      " 2   Year of Experience    4973 non-null   object \n",
      " 3   Contract Type         4973 non-null   object \n",
      " 4   Sex                   4973 non-null   object \n",
      " 5   Programming Language  4973 non-null   object \n",
      " 6   Language              4973 non-null   object \n",
      " 7   Lang                  4973 non-null   object \n",
      " 8   Location              4973 non-null   object \n",
      "dtypes: float64(1), object(8)\n",
      "memory usage: 517.6+ KB\n"
     ]
    }
   ],
   "source": [
    "jobs_cleaning.info()"
   ]
  }
 ],
 "metadata": {
  "kernelspec": {
   "display_name": ".venv",
   "language": "python",
   "name": "python3"
  },
  "language_info": {
   "codemirror_mode": {
    "name": "ipython",
    "version": 3
   },
   "file_extension": ".py",
   "mimetype": "text/x-python",
   "name": "python",
   "nbconvert_exporter": "python",
   "pygments_lexer": "ipython3",
   "version": "3.10.0"
  }
 },
 "nbformat": 4,
 "nbformat_minor": 2
}
