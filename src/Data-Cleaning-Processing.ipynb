{
 "cells": [
  {
   "cell_type": "code",
   "execution_count": 55,
   "metadata": {},
   "outputs": [],
   "source": [
    "import pandas as pd\n",
    "import numpy as np\n",
    "import seaborn as sns\n",
    "import matplotlib.pyplot as plt\n",
    "from langdetect import detect\n",
    "import re"
   ]
  },
  {
   "cell_type": "code",
   "execution_count": 56,
   "metadata": {},
   "outputs": [],
   "source": [
    "raw_data_source_path = '../data/raw_data_test.csv'\n",
    "clean_data_detination_path = \"../data/clean_data_test.csv\""
   ]
  },
  {
   "cell_type": "code",
   "execution_count": 57,
   "metadata": {},
   "outputs": [],
   "source": [
    "jobs = pd.read_csv(raw_data_source_path)"
   ]
  },
  {
   "cell_type": "code",
   "execution_count": 58,
   "metadata": {},
   "outputs": [
    {
     "data": {
      "text/html": [
       "<div>\n",
       "<style scoped>\n",
       "    .dataframe tbody tr th:only-of-type {\n",
       "        vertical-align: middle;\n",
       "    }\n",
       "\n",
       "    .dataframe tbody tr th {\n",
       "        vertical-align: top;\n",
       "    }\n",
       "\n",
       "    .dataframe thead th {\n",
       "        text-align: right;\n",
       "    }\n",
       "</style>\n",
       "<table border=\"1\" class=\"dataframe\">\n",
       "  <thead>\n",
       "    <tr style=\"text-align: right;\">\n",
       "      <th></th>\n",
       "      <th>Title</th>\n",
       "      <th>Link</th>\n",
       "      <th>Company</th>\n",
       "      <th>Salary</th>\n",
       "      <th>Locations</th>\n",
       "      <th>Level</th>\n",
       "      <th>Year of Experience</th>\n",
       "      <th>Contract Type</th>\n",
       "      <th>Sex</th>\n",
       "      <th>Skills</th>\n",
       "    </tr>\n",
       "  </thead>\n",
       "  <tbody>\n",
       "    <tr>\n",
       "      <th>0</th>\n",
       "      <td>Business Analyst (Ecommerce)</td>\n",
       "      <td>https://www.topcv.vn/viec-lam/business-analyst...</td>\n",
       "      <td>GMO-Z.com RUNSYSTEM</td>\n",
       "      <td>22 - 32 triệu</td>\n",
       "      <td>Hà Nội</td>\n",
       "      <td>Nhân viên</td>\n",
       "      <td>3 năm</td>\n",
       "      <td>Toàn thời gian</td>\n",
       "      <td>Không yêu cầu</td>\n",
       "      <td>Tốt nghiệp đại học chuyên ngành Tin học/ Hệ th...</td>\n",
       "    </tr>\n",
       "    <tr>\n",
       "      <th>1</th>\n",
       "      <td>Nhân Viên IT Triển Khai</td>\n",
       "      <td>https://www.topcv.vn/viec-lam/nhan-vien-it-tri...</td>\n",
       "      <td>Công ty Cổ Phần Kỹ thuật DEC</td>\n",
       "      <td>Tới 10 triệu</td>\n",
       "      <td>Hồ Chí Minh</td>\n",
       "      <td>Nhân viên</td>\n",
       "      <td>1 năm</td>\n",
       "      <td>Toàn thời gian</td>\n",
       "      <td>Nam</td>\n",
       "      <td>Đối tượng: có kinh nghiệm thực, trên 1 đến 2 n...</td>\n",
       "    </tr>\n",
       "    <tr>\n",
       "      <th>2</th>\n",
       "      <td>Thực Tập Sinh IT Support</td>\n",
       "      <td>https://www.topcv.vn/viec-lam/thuc-tap-sinh-it...</td>\n",
       "      <td>Vietnam Discovery Travel</td>\n",
       "      <td>2 - 4 triệu</td>\n",
       "      <td>Hà Nội</td>\n",
       "      <td>Thực tập sinh</td>\n",
       "      <td>Dưới 1 năm</td>\n",
       "      <td>Toàn thời gian</td>\n",
       "      <td>Không yêu cầu</td>\n",
       "      <td>Có hiểu biết về PC.Có hiểu biết về mạng nội bộ...</td>\n",
       "    </tr>\n",
       "    <tr>\n",
       "      <th>3</th>\n",
       "      <td>Sales - Business Development IT (Fresher)- Eng...</td>\n",
       "      <td>https://www.topcv.vn/viec-lam/sales-business-d...</td>\n",
       "      <td>POWERGATE AUSTRALIA (CÔNG TY CỔ PHẦN TẬP ĐOÀ...</td>\n",
       "      <td>Tới 14 triệu</td>\n",
       "      <td>Hà Nội</td>\n",
       "      <td>Nhân viên</td>\n",
       "      <td>1 năm</td>\n",
       "      <td>Toàn thời gian</td>\n",
       "      <td>Không yêu cầu</td>\n",
       "      <td>Kĩ năng tiếng Nhật hoặc Tiếng Anh tốt (đọc viế...</td>\n",
       "    </tr>\n",
       "    <tr>\n",
       "      <th>4</th>\n",
       "      <td>Fresher Business Development (English/Japanese)</td>\n",
       "      <td>https://www.topcv.vn/viec-lam/fresher-business...</td>\n",
       "      <td>POWERGATE AUSTRALIA (CÔNG TY CỔ PHẦN TẬP ĐOÀ...</td>\n",
       "      <td>Tới 15 triệu</td>\n",
       "      <td>Hà Nội</td>\n",
       "      <td>Nhân viên</td>\n",
       "      <td>1 năm</td>\n",
       "      <td>Toàn thời gian</td>\n",
       "      <td>Không yêu cầu</td>\n",
       "      <td>• Kĩ năng tiếng Anh/Tiếng Nhật tốt (đọc viết t...</td>\n",
       "    </tr>\n",
       "  </tbody>\n",
       "</table>\n",
       "</div>"
      ],
      "text/plain": [
       "                                               Title  \\\n",
       "0                       Business Analyst (Ecommerce)   \n",
       "1                            Nhân Viên IT Triển Khai   \n",
       "2                           Thực Tập Sinh IT Support   \n",
       "3  Sales - Business Development IT (Fresher)- Eng...   \n",
       "4    Fresher Business Development (English/Japanese)   \n",
       "\n",
       "                                                Link  \\\n",
       "0  https://www.topcv.vn/viec-lam/business-analyst...   \n",
       "1  https://www.topcv.vn/viec-lam/nhan-vien-it-tri...   \n",
       "2  https://www.topcv.vn/viec-lam/thuc-tap-sinh-it...   \n",
       "3  https://www.topcv.vn/viec-lam/sales-business-d...   \n",
       "4  https://www.topcv.vn/viec-lam/fresher-business...   \n",
       "\n",
       "                                             Company         Salary  \\\n",
       "0                                GMO-Z.com RUNSYSTEM  22 - 32 triệu   \n",
       "1                   Công ty Cổ Phần Kỹ thuật DEC   Tới 10 triệu   \n",
       "2                           Vietnam Discovery Travel    2 - 4 triệu   \n",
       "3  POWERGATE AUSTRALIA (CÔNG TY CỔ PHẦN TẬP ĐOÀ...   Tới 14 triệu   \n",
       "4  POWERGATE AUSTRALIA (CÔNG TY CỔ PHẦN TẬP ĐOÀ...   Tới 15 triệu   \n",
       "\n",
       "     Locations          Level Year of Experience   Contract Type  \\\n",
       "0       Hà Nội      Nhân viên              3 năm  Toàn thời gian   \n",
       "1  Hồ Chí Minh      Nhân viên              1 năm  Toàn thời gian   \n",
       "2       Hà Nội  Thực tập sinh         Dưới 1 năm  Toàn thời gian   \n",
       "3       Hà Nội      Nhân viên              1 năm  Toàn thời gian   \n",
       "4       Hà Nội      Nhân viên              1 năm  Toàn thời gian   \n",
       "\n",
       "             Sex                                             Skills  \n",
       "0  Không yêu cầu  Tốt nghiệp đại học chuyên ngành Tin học/ Hệ th...  \n",
       "1            Nam  Đối tượng: có kinh nghiệm thực, trên 1 đến 2 n...  \n",
       "2  Không yêu cầu  Có hiểu biết về PC.Có hiểu biết về mạng nội bộ...  \n",
       "3  Không yêu cầu  Kĩ năng tiếng Nhật hoặc Tiếng Anh tốt (đọc viế...  \n",
       "4  Không yêu cầu  • Kĩ năng tiếng Anh/Tiếng Nhật tốt (đọc viết t...  "
      ]
     },
     "execution_count": 58,
     "metadata": {},
     "output_type": "execute_result"
    }
   ],
   "source": [
    "jobs.head()"
   ]
  },
  {
   "cell_type": "code",
   "execution_count": 59,
   "metadata": {},
   "outputs": [
    {
     "name": "stdout",
     "output_type": "stream",
     "text": [
      "<class 'pandas.core.frame.DataFrame'>\n",
      "RangeIndex: 1567 entries, 0 to 1566\n",
      "Data columns (total 10 columns):\n",
      " #   Column              Non-Null Count  Dtype \n",
      "---  ------              --------------  ----- \n",
      " 0   Title               1567 non-null   object\n",
      " 1   Link                1567 non-null   object\n",
      " 2   Company             1567 non-null   object\n",
      " 3   Salary              1567 non-null   object\n",
      " 4   Locations           1567 non-null   object\n",
      " 5   Level               1567 non-null   object\n",
      " 6   Year of Experience  1567 non-null   object\n",
      " 7   Contract Type       1567 non-null   object\n",
      " 8   Sex                 1567 non-null   object\n",
      " 9   Skills              1567 non-null   object\n",
      "dtypes: object(10)\n",
      "memory usage: 122.5+ KB\n"
     ]
    }
   ],
   "source": [
    "jobs.info()"
   ]
  },
  {
   "cell_type": "markdown",
   "metadata": {},
   "source": [
    "# Làm sạch data"
   ]
  },
  {
   "cell_type": "markdown",
   "metadata": {},
   "source": [
    "- Xóa 3 cột Title, Link, Company"
   ]
  },
  {
   "cell_type": "code",
   "execution_count": 60,
   "metadata": {},
   "outputs": [
    {
     "data": {
      "text/html": [
       "<div>\n",
       "<style scoped>\n",
       "    .dataframe tbody tr th:only-of-type {\n",
       "        vertical-align: middle;\n",
       "    }\n",
       "\n",
       "    .dataframe tbody tr th {\n",
       "        vertical-align: top;\n",
       "    }\n",
       "\n",
       "    .dataframe thead th {\n",
       "        text-align: right;\n",
       "    }\n",
       "</style>\n",
       "<table border=\"1\" class=\"dataframe\">\n",
       "  <thead>\n",
       "    <tr style=\"text-align: right;\">\n",
       "      <th></th>\n",
       "      <th>Salary</th>\n",
       "      <th>Locations</th>\n",
       "      <th>Level</th>\n",
       "      <th>Year of Experience</th>\n",
       "      <th>Contract Type</th>\n",
       "      <th>Sex</th>\n",
       "      <th>Skills</th>\n",
       "    </tr>\n",
       "  </thead>\n",
       "  <tbody>\n",
       "    <tr>\n",
       "      <th>0</th>\n",
       "      <td>22 - 32 triệu</td>\n",
       "      <td>Hà Nội</td>\n",
       "      <td>Nhân viên</td>\n",
       "      <td>3 năm</td>\n",
       "      <td>Toàn thời gian</td>\n",
       "      <td>Không yêu cầu</td>\n",
       "      <td>Tốt nghiệp đại học chuyên ngành Tin học/ Hệ th...</td>\n",
       "    </tr>\n",
       "    <tr>\n",
       "      <th>1</th>\n",
       "      <td>Tới 10 triệu</td>\n",
       "      <td>Hồ Chí Minh</td>\n",
       "      <td>Nhân viên</td>\n",
       "      <td>1 năm</td>\n",
       "      <td>Toàn thời gian</td>\n",
       "      <td>Nam</td>\n",
       "      <td>Đối tượng: có kinh nghiệm thực, trên 1 đến 2 n...</td>\n",
       "    </tr>\n",
       "    <tr>\n",
       "      <th>2</th>\n",
       "      <td>2 - 4 triệu</td>\n",
       "      <td>Hà Nội</td>\n",
       "      <td>Thực tập sinh</td>\n",
       "      <td>Dưới 1 năm</td>\n",
       "      <td>Toàn thời gian</td>\n",
       "      <td>Không yêu cầu</td>\n",
       "      <td>Có hiểu biết về PC.Có hiểu biết về mạng nội bộ...</td>\n",
       "    </tr>\n",
       "    <tr>\n",
       "      <th>3</th>\n",
       "      <td>Tới 14 triệu</td>\n",
       "      <td>Hà Nội</td>\n",
       "      <td>Nhân viên</td>\n",
       "      <td>1 năm</td>\n",
       "      <td>Toàn thời gian</td>\n",
       "      <td>Không yêu cầu</td>\n",
       "      <td>Kĩ năng tiếng Nhật hoặc Tiếng Anh tốt (đọc viế...</td>\n",
       "    </tr>\n",
       "    <tr>\n",
       "      <th>4</th>\n",
       "      <td>Tới 15 triệu</td>\n",
       "      <td>Hà Nội</td>\n",
       "      <td>Nhân viên</td>\n",
       "      <td>1 năm</td>\n",
       "      <td>Toàn thời gian</td>\n",
       "      <td>Không yêu cầu</td>\n",
       "      <td>• Kĩ năng tiếng Anh/Tiếng Nhật tốt (đọc viết t...</td>\n",
       "    </tr>\n",
       "  </tbody>\n",
       "</table>\n",
       "</div>"
      ],
      "text/plain": [
       "          Salary    Locations          Level Year of Experience  \\\n",
       "0  22 - 32 triệu       Hà Nội      Nhân viên              3 năm   \n",
       "1   Tới 10 triệu  Hồ Chí Minh      Nhân viên              1 năm   \n",
       "2    2 - 4 triệu       Hà Nội  Thực tập sinh         Dưới 1 năm   \n",
       "3   Tới 14 triệu       Hà Nội      Nhân viên              1 năm   \n",
       "4   Tới 15 triệu       Hà Nội      Nhân viên              1 năm   \n",
       "\n",
       "    Contract Type            Sex  \\\n",
       "0  Toàn thời gian  Không yêu cầu   \n",
       "1  Toàn thời gian            Nam   \n",
       "2  Toàn thời gian  Không yêu cầu   \n",
       "3  Toàn thời gian  Không yêu cầu   \n",
       "4  Toàn thời gian  Không yêu cầu   \n",
       "\n",
       "                                              Skills  \n",
       "0  Tốt nghiệp đại học chuyên ngành Tin học/ Hệ th...  \n",
       "1  Đối tượng: có kinh nghiệm thực, trên 1 đến 2 n...  \n",
       "2  Có hiểu biết về PC.Có hiểu biết về mạng nội bộ...  \n",
       "3  Kĩ năng tiếng Nhật hoặc Tiếng Anh tốt (đọc viế...  \n",
       "4  • Kĩ năng tiếng Anh/Tiếng Nhật tốt (đọc viết t...  "
      ]
     },
     "execution_count": 60,
     "metadata": {},
     "output_type": "execute_result"
    }
   ],
   "source": [
    "jobs_cleaning = jobs.drop(columns=['Title', 'Link', 'Company'])\n",
    "jobs_cleaning.head()"
   ]
  },
  {
   "cell_type": "markdown",
   "metadata": {},
   "source": [
    "- Xóa những hàng có Skills = null\n",
    "Vì Skill giá trị null tức là bản ghi đó crawl bị lỗi"
   ]
  },
  {
   "cell_type": "code",
   "execution_count": 61,
   "metadata": {},
   "outputs": [
    {
     "name": "stdout",
     "output_type": "stream",
     "text": [
      "Trước khi xử lý\n",
      "Salary                1567\n",
      "Locations             1567\n",
      "Level                 1567\n",
      "Year of Experience    1567\n",
      "Contract Type         1567\n",
      "Sex                   1567\n",
      "Skills                1567\n",
      "dtype: int64\n",
      "Sau khi xử lý\n",
      "Salary                1567\n",
      "Locations             1567\n",
      "Level                 1567\n",
      "Year of Experience    1567\n",
      "Contract Type         1567\n",
      "Sex                   1567\n",
      "Skills                1567\n",
      "dtype: int64\n"
     ]
    }
   ],
   "source": [
    "print(\"Trước khi xử lý\")\n",
    "print(jobs_cleaning.count())\n",
    "jobs_cleaning = jobs_cleaning[jobs_cleaning['Level'].isnull() == False]\n",
    "print(\"Sau khi xử lý\")\n",
    "print(jobs_cleaning.count())"
   ]
  },
  {
   "cell_type": "markdown",
   "metadata": {},
   "source": [
    "- Làm sạch biến Salary"
   ]
  },
  {
   "cell_type": "code",
   "execution_count": 62,
   "metadata": {},
   "outputs": [
    {
     "data": {
      "text/html": [
       "<div>\n",
       "<style scoped>\n",
       "    .dataframe tbody tr th:only-of-type {\n",
       "        vertical-align: middle;\n",
       "    }\n",
       "\n",
       "    .dataframe tbody tr th {\n",
       "        vertical-align: top;\n",
       "    }\n",
       "\n",
       "    .dataframe thead th {\n",
       "        text-align: right;\n",
       "    }\n",
       "</style>\n",
       "<table border=\"1\" class=\"dataframe\">\n",
       "  <thead>\n",
       "    <tr style=\"text-align: right;\">\n",
       "      <th></th>\n",
       "      <th>Salary</th>\n",
       "      <th>Locations</th>\n",
       "      <th>Level</th>\n",
       "      <th>Year of Experience</th>\n",
       "      <th>Contract Type</th>\n",
       "      <th>Sex</th>\n",
       "      <th>Skills</th>\n",
       "    </tr>\n",
       "  </thead>\n",
       "  <tbody>\n",
       "    <tr>\n",
       "      <th>0</th>\n",
       "      <td>22 - 32 triệu</td>\n",
       "      <td>Hà Nội</td>\n",
       "      <td>Nhân viên</td>\n",
       "      <td>3 năm</td>\n",
       "      <td>Toàn thời gian</td>\n",
       "      <td>Không yêu cầu</td>\n",
       "      <td>Tốt nghiệp đại học chuyên ngành Tin học/ Hệ th...</td>\n",
       "    </tr>\n",
       "    <tr>\n",
       "      <th>1</th>\n",
       "      <td>Tới 10 triệu</td>\n",
       "      <td>Hồ Chí Minh</td>\n",
       "      <td>Nhân viên</td>\n",
       "      <td>1 năm</td>\n",
       "      <td>Toàn thời gian</td>\n",
       "      <td>Nam</td>\n",
       "      <td>Đối tượng: có kinh nghiệm thực, trên 1 đến 2 n...</td>\n",
       "    </tr>\n",
       "    <tr>\n",
       "      <th>2</th>\n",
       "      <td>2 - 4 triệu</td>\n",
       "      <td>Hà Nội</td>\n",
       "      <td>Thực tập sinh</td>\n",
       "      <td>Dưới 1 năm</td>\n",
       "      <td>Toàn thời gian</td>\n",
       "      <td>Không yêu cầu</td>\n",
       "      <td>Có hiểu biết về PC.Có hiểu biết về mạng nội bộ...</td>\n",
       "    </tr>\n",
       "    <tr>\n",
       "      <th>3</th>\n",
       "      <td>Tới 14 triệu</td>\n",
       "      <td>Hà Nội</td>\n",
       "      <td>Nhân viên</td>\n",
       "      <td>1 năm</td>\n",
       "      <td>Toàn thời gian</td>\n",
       "      <td>Không yêu cầu</td>\n",
       "      <td>Kĩ năng tiếng Nhật hoặc Tiếng Anh tốt (đọc viế...</td>\n",
       "    </tr>\n",
       "    <tr>\n",
       "      <th>4</th>\n",
       "      <td>Tới 15 triệu</td>\n",
       "      <td>Hà Nội</td>\n",
       "      <td>Nhân viên</td>\n",
       "      <td>1 năm</td>\n",
       "      <td>Toàn thời gian</td>\n",
       "      <td>Không yêu cầu</td>\n",
       "      <td>• Kĩ năng tiếng Anh/Tiếng Nhật tốt (đọc viết t...</td>\n",
       "    </tr>\n",
       "  </tbody>\n",
       "</table>\n",
       "</div>"
      ],
      "text/plain": [
       "          Salary    Locations          Level Year of Experience  \\\n",
       "0  22 - 32 triệu       Hà Nội      Nhân viên              3 năm   \n",
       "1   Tới 10 triệu  Hồ Chí Minh      Nhân viên              1 năm   \n",
       "2    2 - 4 triệu       Hà Nội  Thực tập sinh         Dưới 1 năm   \n",
       "3   Tới 14 triệu       Hà Nội      Nhân viên              1 năm   \n",
       "4   Tới 15 triệu       Hà Nội      Nhân viên              1 năm   \n",
       "\n",
       "    Contract Type            Sex  \\\n",
       "0  Toàn thời gian  Không yêu cầu   \n",
       "1  Toàn thời gian            Nam   \n",
       "2  Toàn thời gian  Không yêu cầu   \n",
       "3  Toàn thời gian  Không yêu cầu   \n",
       "4  Toàn thời gian  Không yêu cầu   \n",
       "\n",
       "                                              Skills  \n",
       "0  Tốt nghiệp đại học chuyên ngành Tin học/ Hệ th...  \n",
       "1  Đối tượng: có kinh nghiệm thực, trên 1 đến 2 n...  \n",
       "2  Có hiểu biết về PC.Có hiểu biết về mạng nội bộ...  \n",
       "3  Kĩ năng tiếng Nhật hoặc Tiếng Anh tốt (đọc viế...  \n",
       "4  • Kĩ năng tiếng Anh/Tiếng Nhật tốt (đọc viết t...  "
      ]
     },
     "execution_count": 62,
     "metadata": {},
     "output_type": "execute_result"
    }
   ],
   "source": [
    "jobs_cleaning = jobs_cleaning[jobs_cleaning['Salary'] != 'Thoả thuận']\n",
    "jobs_cleaning.head()"
   ]
  },
  {
   "cell_type": "markdown",
   "metadata": {},
   "source": [
    "Hàm chuyển chuỗi(tiền) thành số"
   ]
  },
  {
   "cell_type": "code",
   "execution_count": 63,
   "metadata": {},
   "outputs": [],
   "source": [
    "def str_to_num(str):\n",
    "    if '.' in str:\n",
    "        return float(str.replace(',', ''))\n",
    "    else:\n",
    "        return int(str.replace(',', ''))"
   ]
  },
  {
   "cell_type": "markdown",
   "metadata": {},
   "source": [
    "Hàm chuyển tiền mệnh giá USD sang VND"
   ]
  },
  {
   "cell_type": "code",
   "execution_count": 64,
   "metadata": {},
   "outputs": [],
   "source": [
    "def USD_to_VND(USD_value):\n",
    "    return USD_value * 23000"
   ]
  },
  {
   "cell_type": "markdown",
   "metadata": {},
   "source": [
    "Giá trị lương thường có những kiểu sau:\n",
    "\n",
    "Tới xxx USD\n",
    "\n",
    "xxx - xxx USD\n",
    "\n",
    "Tới xxx triệu\n",
    "\n",
    "xxx - xxx triệu"
   ]
  },
  {
   "cell_type": "code",
   "execution_count": 65,
   "metadata": {},
   "outputs": [],
   "source": [
    "def analyze_salary(input):\n",
    "    # Regex pattern\n",
    "    regex_patternUSD = r'(?<!\\d)(\\d{1,3}(,\\d{3})*|\\d+)(\\s*-\\s*(\\d{1,3}(,\\d{3})*|\\d+))?\\s*(USD)?(?!\\d)'\n",
    "    regex_patternVND = r'(?<!\\d)(\\d{1,3}(.\\d)*|\\d+)(\\s*-\\s*(\\d{1,3}(.\\d)*|\\d+))?\\s*(triệu)?(?!\\d)'\n",
    "\n",
    "    # Tìm kiếm giá trị số trong chuỗi\n",
    "    if 'USD' in input:\n",
    "        matches = re.findall(regex_patternUSD, input)\n",
    "    elif 'triệu' in input:\n",
    "        matches = re.findall(regex_patternVND, input)\n",
    "    else:\n",
    "        print(input)\n",
    "        return 0\n",
    "\n",
    "    # In kết quả tìm thấy\n",
    "    if matches:\n",
    "        value = 0\n",
    "        for match in matches:\n",
    "            value += str_to_num(match[0])\n",
    "            if match[3]:\n",
    "                value += str_to_num(match[3])\n",
    "                value /= 2\n",
    "            if (match[-1] == 'USD'):\n",
    "                value = USD_to_VND(value)\n",
    "            else:\n",
    "                value *= 1000000\n",
    "        return value\n",
    "    else:\n",
    "        return -1"
   ]
  },
  {
   "cell_type": "code",
   "execution_count": 66,
   "metadata": {},
   "outputs": [],
   "source": [
    "jobs_cleaning['Salary'] = jobs_cleaning['Salary'].apply(analyze_salary)"
   ]
  },
  {
   "cell_type": "markdown",
   "metadata": {},
   "source": [
    "Trước khi loại bỏ các giá trị ngoại lệ"
   ]
  },
  {
   "cell_type": "code",
   "execution_count": 67,
   "metadata": {},
   "outputs": [
    {
     "data": {
      "text/plain": [
       "<seaborn.axisgrid.FacetGrid at 0x17053369b70>"
      ]
     },
     "execution_count": 67,
     "metadata": {},
     "output_type": "execute_result"
    },
    {
     "data": {
      "text/plain": [
       "<Figure size 200x600 with 0 Axes>"
      ]
     },
     "metadata": {},
     "output_type": "display_data"
    },
    {
     "data": {
      "image/png": "[encoded data removed]",
      "text/plain": [
       "<Figure size 411.111x500 with 1 Axes>"
      ]
     },
     "metadata": {},
     "output_type": "display_data"
    }
   ],
   "source": [
    "plt.figure(figsize=(2, 6))\n",
    "sns.catplot(jobs_cleaning, y=\"Salary\", aspect=0.8, kind=\"box\")"
   ]
  },
  {
   "cell_type": "code",
   "execution_count": 68,
   "metadata": {},
   "outputs": [
    {
     "data": {
      "text/html": [
       "<div>\n",
       "<style scoped>\n",
       "    .dataframe tbody tr th:only-of-type {\n",
       "        vertical-align: middle;\n",
       "    }\n",
       "\n",
       "    .dataframe tbody tr th {\n",
       "        vertical-align: top;\n",
       "    }\n",
       "\n",
       "    .dataframe thead th {\n",
       "        text-align: right;\n",
       "    }\n",
       "</style>\n",
       "<table border=\"1\" class=\"dataframe\">\n",
       "  <thead>\n",
       "    <tr style=\"text-align: right;\">\n",
       "      <th></th>\n",
       "      <th>Salary</th>\n",
       "    </tr>\n",
       "  </thead>\n",
       "  <tbody>\n",
       "    <tr>\n",
       "      <th>1506</th>\n",
       "      <td>9.200000e+11</td>\n",
       "    </tr>\n",
       "    <tr>\n",
       "      <th>833</th>\n",
       "      <td>8.000000e+07</td>\n",
       "    </tr>\n",
       "    <tr>\n",
       "      <th>266</th>\n",
       "      <td>7.500000e+07</td>\n",
       "    </tr>\n",
       "    <tr>\n",
       "      <th>1520</th>\n",
       "      <td>7.000000e+07</td>\n",
       "    </tr>\n",
       "    <tr>\n",
       "      <th>573</th>\n",
       "      <td>6.900000e+07</td>\n",
       "    </tr>\n",
       "    <tr>\n",
       "      <th>1464</th>\n",
       "      <td>6.900000e+07</td>\n",
       "    </tr>\n",
       "    <tr>\n",
       "      <th>100</th>\n",
       "      <td>6.500000e+07</td>\n",
       "    </tr>\n",
       "    <tr>\n",
       "      <th>190</th>\n",
       "      <td>6.000000e+07</td>\n",
       "    </tr>\n",
       "    <tr>\n",
       "      <th>1037</th>\n",
       "      <td>6.000000e+07</td>\n",
       "    </tr>\n",
       "    <tr>\n",
       "      <th>1172</th>\n",
       "      <td>6.000000e+07</td>\n",
       "    </tr>\n",
       "  </tbody>\n",
       "</table>\n",
       "</div>"
      ],
      "text/plain": [
       "            Salary\n",
       "1506  9.200000e+11\n",
       "833   8.000000e+07\n",
       "266   7.500000e+07\n",
       "1520  7.000000e+07\n",
       "573   6.900000e+07\n",
       "1464  6.900000e+07\n",
       "100   6.500000e+07\n",
       "190   6.000000e+07\n",
       "1037  6.000000e+07\n",
       "1172  6.000000e+07"
      ]
     },
     "execution_count": 68,
     "metadata": {},
     "output_type": "execute_result"
    }
   ],
   "source": [
    "# Top 10 mức lương cao nhất\n",
    "top_10_salary = pd.DataFrame(jobs_cleaning['Salary']).nlargest(10, 'Salary')\n",
    "top_10_salary"
   ]
  },
  {
   "cell_type": "code",
   "execution_count": 69,
   "metadata": {},
   "outputs": [
    {
     "data": {
      "text/html": [
       "<div>\n",
       "<style scoped>\n",
       "    .dataframe tbody tr th:only-of-type {\n",
       "        vertical-align: middle;\n",
       "    }\n",
       "\n",
       "    .dataframe tbody tr th {\n",
       "        vertical-align: top;\n",
       "    }\n",
       "\n",
       "    .dataframe thead th {\n",
       "        text-align: right;\n",
       "    }\n",
       "</style>\n",
       "<table border=\"1\" class=\"dataframe\">\n",
       "  <thead>\n",
       "    <tr style=\"text-align: right;\">\n",
       "      <th></th>\n",
       "      <th>Salary</th>\n",
       "    </tr>\n",
       "  </thead>\n",
       "  <tbody>\n",
       "    <tr>\n",
       "      <th>554</th>\n",
       "      <td>0.0</td>\n",
       "    </tr>\n",
       "    <tr>\n",
       "      <th>826</th>\n",
       "      <td>0.0</td>\n",
       "    </tr>\n",
       "    <tr>\n",
       "      <th>54</th>\n",
       "      <td>1000000.0</td>\n",
       "    </tr>\n",
       "    <tr>\n",
       "      <th>57</th>\n",
       "      <td>1000000.0</td>\n",
       "    </tr>\n",
       "    <tr>\n",
       "      <th>577</th>\n",
       "      <td>1000000.0</td>\n",
       "    </tr>\n",
       "    <tr>\n",
       "      <th>859</th>\n",
       "      <td>1000000.0</td>\n",
       "    </tr>\n",
       "    <tr>\n",
       "      <th>1206</th>\n",
       "      <td>1000000.0</td>\n",
       "    </tr>\n",
       "    <tr>\n",
       "      <th>1539</th>\n",
       "      <td>1000000.0</td>\n",
       "    </tr>\n",
       "    <tr>\n",
       "      <th>359</th>\n",
       "      <td>1500000.0</td>\n",
       "    </tr>\n",
       "    <tr>\n",
       "      <th>305</th>\n",
       "      <td>1750000.0</td>\n",
       "    </tr>\n",
       "  </tbody>\n",
       "</table>\n",
       "</div>"
      ],
      "text/plain": [
       "         Salary\n",
       "554         0.0\n",
       "826         0.0\n",
       "54    1000000.0\n",
       "57    1000000.0\n",
       "577   1000000.0\n",
       "859   1000000.0\n",
       "1206  1000000.0\n",
       "1539  1000000.0\n",
       "359   1500000.0\n",
       "305   1750000.0"
      ]
     },
     "execution_count": 69,
     "metadata": {},
     "output_type": "execute_result"
    }
   ],
   "source": [
    "# Top 10 mức lương thấp nhất\n",
    "top_10_salary = pd.DataFrame(jobs_cleaning['Salary']).nsmallest(10, 'Salary')\n",
    "top_10_salary"
   ]
  },
  {
   "cell_type": "code",
   "execution_count": 70,
   "metadata": {},
   "outputs": [],
   "source": [
    "def valid_salary(salary):\n",
    "    if salary == 0 or salary > 100000000:\n",
    "        return False\n",
    "    return True"
   ]
  },
  {
   "cell_type": "code",
   "execution_count": 71,
   "metadata": {},
   "outputs": [],
   "source": [
    "jobs_cleaning = jobs_cleaning[jobs_cleaning['Salary'].apply(valid_salary)]"
   ]
  },
  {
   "cell_type": "code",
   "execution_count": 72,
   "metadata": {},
   "outputs": [
    {
     "data": {
      "text/plain": [
       "<seaborn.axisgrid.FacetGrid at 0x170540c2b00>"
      ]
     },
     "execution_count": 72,
     "metadata": {},
     "output_type": "execute_result"
    },
    {
     "data": {
      "text/plain": [
       "<Figure size 200x600 with 0 Axes>"
      ]
     },
     "metadata": {},
     "output_type": "display_data"
    },
    {
     "data": {
      "image/png": "[encoded data removed]",
      "text/plain": [
       "<Figure size 411.111x500 with 1 Axes>"
      ]
     },
     "metadata": {},
     "output_type": "display_data"
    }
   ],
   "source": [
    "plt.figure(figsize=(2, 6))\n",
    "sns.catplot(jobs_cleaning, y=\"Salary\", aspect=0.8, kind=\"box\")"
   ]
  },
  {
   "cell_type": "markdown",
   "metadata": {},
   "source": [
    "Loại bỏ các giá trị Salary ngoại lệ"
   ]
  },
  {
   "cell_type": "code",
   "execution_count": 73,
   "metadata": {},
   "outputs": [],
   "source": [
    "# Xử lý ngoại lệ biến Salary\n",
    "Q1 = jobs_cleaning['Salary'].quantile(0.3)\n",
    "Q3 = jobs_cleaning['Salary'].quantile(0.7)\n",
    "IQR = Q3 - Q1\n",
    "\n",
    "jobs_cleaning = jobs_cleaning[(jobs_cleaning['Salary'] >= (Q1 - 1.5 * IQR)) & (jobs_cleaning['Salary'] <= (Q3 + 1.5 * IQR))]\n",
    "jobs_cleaning = jobs_cleaning[jobs_cleaning['Salary'] > 0]"
   ]
  },
  {
   "cell_type": "markdown",
   "metadata": {},
   "source": [
    "Sau khi loại bỏ các giá trị Salary ngoại lệ"
   ]
  },
  {
   "cell_type": "code",
   "execution_count": 74,
   "metadata": {},
   "outputs": [
    {
     "data": {
      "text/plain": [
       "<seaborn.axisgrid.FacetGrid at 0x1705427d1e0>"
      ]
     },
     "execution_count": 74,
     "metadata": {},
     "output_type": "execute_result"
    },
    {
     "data": {
      "text/plain": [
       "<Figure size 200x600 with 0 Axes>"
      ]
     },
     "metadata": {},
     "output_type": "display_data"
    },
    {
     "data": {
      "image/png": "[encoded data removed]",
      "text/plain": [
       "<Figure size 411.111x500 with 1 Axes>"
      ]
     },
     "metadata": {},
     "output_type": "display_data"
    }
   ],
   "source": [
    "plt.figure(figsize=(2, 6))\n",
    "sns.catplot(jobs_cleaning, y=\"Salary\", aspect=0.8, kind=\"box\")"
   ]
  },
  {
   "cell_type": "code",
   "execution_count": 75,
   "metadata": {},
   "outputs": [
    {
     "data": {
      "text/plain": [
       "<seaborn.axisgrid.FacetGrid at 0x17054227640>"
      ]
     },
     "execution_count": 75,
     "metadata": {},
     "output_type": "execute_result"
    },
    {
     "data": {
      "image/png": "[encoded data removed]",
      "text/plain": [
       "<Figure size 1000x500 with 1 Axes>"
      ]
     },
     "metadata": {},
     "output_type": "display_data"
    }
   ],
   "source": [
    "sns.displot(jobs_cleaning, x=\"Salary\", height=5, aspect=2)"
   ]
  },
  {
   "cell_type": "markdown",
   "metadata": {},
   "source": [
    "Mức 'Salary' sau khi được làm sạch, dữ liệu không còn là loại danh mục mà là miền giá trị liên tục"
   ]
  },
  {
   "cell_type": "markdown",
   "metadata": {},
   "source": [
    "- Xác định ngôn ngữ lập trình 'Programming Languages' được yêu cầu cho 1 công việc"
   ]
  },
  {
   "cell_type": "code",
   "execution_count": 76,
   "metadata": {},
   "outputs": [],
   "source": [
    "programing_languages = ['C#', 'Java', 'C++', 'C', 'Javascript', 'Python', 'PHP', 'Kotlin', 'Dart', 'TypeScript']"
   ]
  },
  {
   "cell_type": "code",
   "execution_count": 77,
   "metadata": {},
   "outputs": [],
   "source": [
    "def analyze_programing_language(text):\n",
    "    # Kiểm tra nếu giá trị là chuỗi\n",
    "    if isinstance(text, str):\n",
    "        # Tạo một biểu thức chính quy từ danh sách các ngôn ngữ lập trình\n",
    "        regex_pattern = r'(?<!\\w)(?:' + '|'.join(re.escape(lang.lower()) for lang in programing_languages) + r')(?!\\w)'\n",
    "\n",
    "        # Tìm kiếm các ngôn ngữ lập trình trong văn bản đầu vào và duy trì thứ tự xuất hiện\n",
    "        matches = re.findall(regex_pattern, text.lower())\n",
    "\n",
    "        # Trả về các ngôn ngữ lập trình tìm thấy\n",
    "        unique_matches = list(set(matches))\n",
    "        \n",
    "        return unique_matches\n",
    "    else:\n",
    "        return []"
   ]
  },
  {
   "cell_type": "code",
   "execution_count": 78,
   "metadata": {},
   "outputs": [
    {
     "data": {
      "text/html": [
       "<div>\n",
       "<style scoped>\n",
       "    .dataframe tbody tr th:only-of-type {\n",
       "        vertical-align: middle;\n",
       "    }\n",
       "\n",
       "    .dataframe tbody tr th {\n",
       "        vertical-align: top;\n",
       "    }\n",
       "\n",
       "    .dataframe thead th {\n",
       "        text-align: right;\n",
       "    }\n",
       "</style>\n",
       "<table border=\"1\" class=\"dataframe\">\n",
       "  <thead>\n",
       "    <tr style=\"text-align: right;\">\n",
       "      <th></th>\n",
       "      <th>Salary</th>\n",
       "      <th>Locations</th>\n",
       "      <th>Level</th>\n",
       "      <th>Year of Experience</th>\n",
       "      <th>Contract Type</th>\n",
       "      <th>Sex</th>\n",
       "      <th>Skills</th>\n",
       "      <th>Programming Languages</th>\n",
       "    </tr>\n",
       "  </thead>\n",
       "  <tbody>\n",
       "    <tr>\n",
       "      <th>0</th>\n",
       "      <td>27000000.0</td>\n",
       "      <td>Hà Nội</td>\n",
       "      <td>Nhân viên</td>\n",
       "      <td>3 năm</td>\n",
       "      <td>Toàn thời gian</td>\n",
       "      <td>Không yêu cầu</td>\n",
       "      <td>Tốt nghiệp đại học chuyên ngành Tin học/ Hệ th...</td>\n",
       "      <td>[]</td>\n",
       "    </tr>\n",
       "    <tr>\n",
       "      <th>1</th>\n",
       "      <td>10000000.0</td>\n",
       "      <td>Hồ Chí Minh</td>\n",
       "      <td>Nhân viên</td>\n",
       "      <td>1 năm</td>\n",
       "      <td>Toàn thời gian</td>\n",
       "      <td>Nam</td>\n",
       "      <td>Đối tượng: có kinh nghiệm thực, trên 1 đến 2 n...</td>\n",
       "      <td>[]</td>\n",
       "    </tr>\n",
       "    <tr>\n",
       "      <th>2</th>\n",
       "      <td>3000000.0</td>\n",
       "      <td>Hà Nội</td>\n",
       "      <td>Thực tập sinh</td>\n",
       "      <td>Dưới 1 năm</td>\n",
       "      <td>Toàn thời gian</td>\n",
       "      <td>Không yêu cầu</td>\n",
       "      <td>Có hiểu biết về PC.Có hiểu biết về mạng nội bộ...</td>\n",
       "      <td>[]</td>\n",
       "    </tr>\n",
       "    <tr>\n",
       "      <th>3</th>\n",
       "      <td>14000000.0</td>\n",
       "      <td>Hà Nội</td>\n",
       "      <td>Nhân viên</td>\n",
       "      <td>1 năm</td>\n",
       "      <td>Toàn thời gian</td>\n",
       "      <td>Không yêu cầu</td>\n",
       "      <td>Kĩ năng tiếng Nhật hoặc Tiếng Anh tốt (đọc viế...</td>\n",
       "      <td>[]</td>\n",
       "    </tr>\n",
       "    <tr>\n",
       "      <th>4</th>\n",
       "      <td>15000000.0</td>\n",
       "      <td>Hà Nội</td>\n",
       "      <td>Nhân viên</td>\n",
       "      <td>1 năm</td>\n",
       "      <td>Toàn thời gian</td>\n",
       "      <td>Không yêu cầu</td>\n",
       "      <td>• Kĩ năng tiếng Anh/Tiếng Nhật tốt (đọc viết t...</td>\n",
       "      <td>[]</td>\n",
       "    </tr>\n",
       "  </tbody>\n",
       "</table>\n",
       "</div>"
      ],
      "text/plain": [
       "       Salary    Locations          Level Year of Experience   Contract Type  \\\n",
       "0  27000000.0       Hà Nội      Nhân viên              3 năm  Toàn thời gian   \n",
       "1  10000000.0  Hồ Chí Minh      Nhân viên              1 năm  Toàn thời gian   \n",
       "2   3000000.0       Hà Nội  Thực tập sinh         Dưới 1 năm  Toàn thời gian   \n",
       "3  14000000.0       Hà Nội      Nhân viên              1 năm  Toàn thời gian   \n",
       "4  15000000.0       Hà Nội      Nhân viên              1 năm  Toàn thời gian   \n",
       "\n",
       "             Sex                                             Skills  \\\n",
       "0  Không yêu cầu  Tốt nghiệp đại học chuyên ngành Tin học/ Hệ th...   \n",
       "1            Nam  Đối tượng: có kinh nghiệm thực, trên 1 đến 2 n...   \n",
       "2  Không yêu cầu  Có hiểu biết về PC.Có hiểu biết về mạng nội bộ...   \n",
       "3  Không yêu cầu  Kĩ năng tiếng Nhật hoặc Tiếng Anh tốt (đọc viế...   \n",
       "4  Không yêu cầu  • Kĩ năng tiếng Anh/Tiếng Nhật tốt (đọc viết t...   \n",
       "\n",
       "  Programming Languages  \n",
       "0                    []  \n",
       "1                    []  \n",
       "2                    []  \n",
       "3                    []  \n",
       "4                    []  "
      ]
     },
     "execution_count": 78,
     "metadata": {},
     "output_type": "execute_result"
    }
   ],
   "source": [
    "jobs_cleaning['Programming Languages'] = jobs_cleaning['Skills'].apply(analyze_programing_language)\n",
    "jobs_cleaning.head()"
   ]
  },
  {
   "cell_type": "markdown",
   "metadata": {},
   "source": [
    "- Xác định ngoại ngữ 'Language' được yêu câu cho 1 công việc"
   ]
  },
  {
   "cell_type": "code",
   "execution_count": 79,
   "metadata": {},
   "outputs": [],
   "source": [
    "languages = ['Tiếng Anh', 'Tiếng Nhật', 'Japanese', 'English']"
   ]
  },
  {
   "cell_type": "code",
   "execution_count": 80,
   "metadata": {},
   "outputs": [],
   "source": [
    "def analyze_language(text):\n",
    "    # Kiểm tra nếu giá trị là chuỗi\n",
    "    if isinstance(text, str):\n",
    "        # Tạo một biểu thức chính quy từ danh sách các ngôn ngữ\n",
    "        regex_pattern = r'(?<!\\w)(?:' + '|'.join(re.escape(lang.lower()) for lang in languages) + r')(?!\\w)'\n",
    "\n",
    "        # Tìm kiếm các ngôn ngữ trong văn bản đầu vào và duy trì thứ tự xuất hiện\n",
    "        matches = re.findall(regex_pattern, text.lower())\n",
    "\n",
    "        # Trả về các ngôn ngữ tìm thấy\n",
    "        unique_matches = list(set(matches))\n",
    "\n",
    "        if 'japanese' in unique_matches:\n",
    "            unique_matches.remove('japanese')\n",
    "            unique_matches.append('tiếng nhật')\n",
    "        if 'english' in unique_matches:\n",
    "            unique_matches.remove('english')\n",
    "            unique_matches.append('tiếng anh')\n",
    "        \n",
    "        return unique_matches\n",
    "    else:\n",
    "        return []"
   ]
  },
  {
   "cell_type": "code",
   "execution_count": 81,
   "metadata": {},
   "outputs": [
    {
     "data": {
      "text/html": [
       "<div>\n",
       "<style scoped>\n",
       "    .dataframe tbody tr th:only-of-type {\n",
       "        vertical-align: middle;\n",
       "    }\n",
       "\n",
       "    .dataframe tbody tr th {\n",
       "        vertical-align: top;\n",
       "    }\n",
       "\n",
       "    .dataframe thead th {\n",
       "        text-align: right;\n",
       "    }\n",
       "</style>\n",
       "<table border=\"1\" class=\"dataframe\">\n",
       "  <thead>\n",
       "    <tr style=\"text-align: right;\">\n",
       "      <th></th>\n",
       "      <th>Salary</th>\n",
       "      <th>Locations</th>\n",
       "      <th>Level</th>\n",
       "      <th>Year of Experience</th>\n",
       "      <th>Contract Type</th>\n",
       "      <th>Sex</th>\n",
       "      <th>Skills</th>\n",
       "      <th>Programming Languages</th>\n",
       "      <th>Languages</th>\n",
       "    </tr>\n",
       "  </thead>\n",
       "  <tbody>\n",
       "    <tr>\n",
       "      <th>0</th>\n",
       "      <td>27000000.0</td>\n",
       "      <td>Hà Nội</td>\n",
       "      <td>Nhân viên</td>\n",
       "      <td>3 năm</td>\n",
       "      <td>Toàn thời gian</td>\n",
       "      <td>Không yêu cầu</td>\n",
       "      <td>Tốt nghiệp đại học chuyên ngành Tin học/ Hệ th...</td>\n",
       "      <td>[]</td>\n",
       "      <td>[]</td>\n",
       "    </tr>\n",
       "    <tr>\n",
       "      <th>1</th>\n",
       "      <td>10000000.0</td>\n",
       "      <td>Hồ Chí Minh</td>\n",
       "      <td>Nhân viên</td>\n",
       "      <td>1 năm</td>\n",
       "      <td>Toàn thời gian</td>\n",
       "      <td>Nam</td>\n",
       "      <td>Đối tượng: có kinh nghiệm thực, trên 1 đến 2 n...</td>\n",
       "      <td>[]</td>\n",
       "      <td>[]</td>\n",
       "    </tr>\n",
       "    <tr>\n",
       "      <th>2</th>\n",
       "      <td>3000000.0</td>\n",
       "      <td>Hà Nội</td>\n",
       "      <td>Thực tập sinh</td>\n",
       "      <td>Dưới 1 năm</td>\n",
       "      <td>Toàn thời gian</td>\n",
       "      <td>Không yêu cầu</td>\n",
       "      <td>Có hiểu biết về PC.Có hiểu biết về mạng nội bộ...</td>\n",
       "      <td>[]</td>\n",
       "      <td>[]</td>\n",
       "    </tr>\n",
       "    <tr>\n",
       "      <th>3</th>\n",
       "      <td>14000000.0</td>\n",
       "      <td>Hà Nội</td>\n",
       "      <td>Nhân viên</td>\n",
       "      <td>1 năm</td>\n",
       "      <td>Toàn thời gian</td>\n",
       "      <td>Không yêu cầu</td>\n",
       "      <td>Kĩ năng tiếng Nhật hoặc Tiếng Anh tốt (đọc viế...</td>\n",
       "      <td>[]</td>\n",
       "      <td>[tiếng nhật, tiếng anh]</td>\n",
       "    </tr>\n",
       "    <tr>\n",
       "      <th>4</th>\n",
       "      <td>15000000.0</td>\n",
       "      <td>Hà Nội</td>\n",
       "      <td>Nhân viên</td>\n",
       "      <td>1 năm</td>\n",
       "      <td>Toàn thời gian</td>\n",
       "      <td>Không yêu cầu</td>\n",
       "      <td>• Kĩ năng tiếng Anh/Tiếng Nhật tốt (đọc viết t...</td>\n",
       "      <td>[]</td>\n",
       "      <td>[tiếng nhật, tiếng anh]</td>\n",
       "    </tr>\n",
       "  </tbody>\n",
       "</table>\n",
       "</div>"
      ],
      "text/plain": [
       "       Salary    Locations          Level Year of Experience   Contract Type  \\\n",
       "0  27000000.0       Hà Nội      Nhân viên              3 năm  Toàn thời gian   \n",
       "1  10000000.0  Hồ Chí Minh      Nhân viên              1 năm  Toàn thời gian   \n",
       "2   3000000.0       Hà Nội  Thực tập sinh         Dưới 1 năm  Toàn thời gian   \n",
       "3  14000000.0       Hà Nội      Nhân viên              1 năm  Toàn thời gian   \n",
       "4  15000000.0       Hà Nội      Nhân viên              1 năm  Toàn thời gian   \n",
       "\n",
       "             Sex                                             Skills  \\\n",
       "0  Không yêu cầu  Tốt nghiệp đại học chuyên ngành Tin học/ Hệ th...   \n",
       "1            Nam  Đối tượng: có kinh nghiệm thực, trên 1 đến 2 n...   \n",
       "2  Không yêu cầu  Có hiểu biết về PC.Có hiểu biết về mạng nội bộ...   \n",
       "3  Không yêu cầu  Kĩ năng tiếng Nhật hoặc Tiếng Anh tốt (đọc viế...   \n",
       "4  Không yêu cầu  • Kĩ năng tiếng Anh/Tiếng Nhật tốt (đọc viết t...   \n",
       "\n",
       "  Programming Languages                Languages  \n",
       "0                    []                       []  \n",
       "1                    []                       []  \n",
       "2                    []                       []  \n",
       "3                    []  [tiếng nhật, tiếng anh]  \n",
       "4                    []  [tiếng nhật, tiếng anh]  "
      ]
     },
     "execution_count": 81,
     "metadata": {},
     "output_type": "execute_result"
    }
   ],
   "source": [
    "jobs_cleaning['Languages'] = jobs_cleaning['Skills'].apply(analyze_language)\n",
    "jobs_cleaning.head()"
   ]
  },
  {
   "cell_type": "markdown",
   "metadata": {},
   "source": [
    "- Tách dữ liệu đa biến thành đơn biến"
   ]
  },
  {
   "cell_type": "code",
   "execution_count": 82,
   "metadata": {},
   "outputs": [],
   "source": [
    "def array_to_single_value(column_name, new_column_name, value_other):\n",
    "    # Tạo một DataFrame mới để chứa các bản ghi đã tách\n",
    "    new_rows = []\n",
    "\n",
    "    # Duyệt qua các hàng trong DataFrame hiện tại\n",
    "    for index, row in jobs_cleaning.iterrows():\n",
    "        skills = row[column_name]\n",
    "        if isinstance(skills, list):\n",
    "            if skills.__len__() == 0:\n",
    "                new_row = row.copy()\n",
    "                new_row[new_column_name] = value_other\n",
    "                new_row.pop(column_name)\n",
    "                new_rows.append(new_row)\n",
    "            else:\n",
    "                for skill in skills:\n",
    "                    new_row = row.copy()\n",
    "                    new_row[new_column_name] = skill\n",
    "                    new_row.pop(column_name)\n",
    "                    new_rows.append(new_row)\n",
    "\n",
    "    # Tạo DataFrame mới từ danh sách các bản ghi đã tách\n",
    "    return pd.DataFrame(new_rows)"
   ]
  },
  {
   "cell_type": "markdown",
   "metadata": {},
   "source": [
    "Đối với ngôn ngữ lập trình"
   ]
  },
  {
   "cell_type": "code",
   "execution_count": 83,
   "metadata": {},
   "outputs": [
    {
     "data": {
      "text/html": [
       "<div>\n",
       "<style scoped>\n",
       "    .dataframe tbody tr th:only-of-type {\n",
       "        vertical-align: middle;\n",
       "    }\n",
       "\n",
       "    .dataframe tbody tr th {\n",
       "        vertical-align: top;\n",
       "    }\n",
       "\n",
       "    .dataframe thead th {\n",
       "        text-align: right;\n",
       "    }\n",
       "</style>\n",
       "<table border=\"1\" class=\"dataframe\">\n",
       "  <thead>\n",
       "    <tr style=\"text-align: right;\">\n",
       "      <th></th>\n",
       "      <th>Salary</th>\n",
       "      <th>Locations</th>\n",
       "      <th>Level</th>\n",
       "      <th>Year of Experience</th>\n",
       "      <th>Contract Type</th>\n",
       "      <th>Sex</th>\n",
       "      <th>Skills</th>\n",
       "      <th>Languages</th>\n",
       "      <th>Programming Language</th>\n",
       "    </tr>\n",
       "  </thead>\n",
       "  <tbody>\n",
       "    <tr>\n",
       "      <th>0</th>\n",
       "      <td>27000000.0</td>\n",
       "      <td>Hà Nội</td>\n",
       "      <td>Nhân viên</td>\n",
       "      <td>3 năm</td>\n",
       "      <td>Toàn thời gian</td>\n",
       "      <td>Không yêu cầu</td>\n",
       "      <td>Tốt nghiệp đại học chuyên ngành Tin học/ Hệ th...</td>\n",
       "      <td>[]</td>\n",
       "      <td>Khác</td>\n",
       "    </tr>\n",
       "    <tr>\n",
       "      <th>1</th>\n",
       "      <td>10000000.0</td>\n",
       "      <td>Hồ Chí Minh</td>\n",
       "      <td>Nhân viên</td>\n",
       "      <td>1 năm</td>\n",
       "      <td>Toàn thời gian</td>\n",
       "      <td>Nam</td>\n",
       "      <td>Đối tượng: có kinh nghiệm thực, trên 1 đến 2 n...</td>\n",
       "      <td>[]</td>\n",
       "      <td>Khác</td>\n",
       "    </tr>\n",
       "    <tr>\n",
       "      <th>2</th>\n",
       "      <td>3000000.0</td>\n",
       "      <td>Hà Nội</td>\n",
       "      <td>Thực tập sinh</td>\n",
       "      <td>Dưới 1 năm</td>\n",
       "      <td>Toàn thời gian</td>\n",
       "      <td>Không yêu cầu</td>\n",
       "      <td>Có hiểu biết về PC.Có hiểu biết về mạng nội bộ...</td>\n",
       "      <td>[]</td>\n",
       "      <td>Khác</td>\n",
       "    </tr>\n",
       "    <tr>\n",
       "      <th>3</th>\n",
       "      <td>14000000.0</td>\n",
       "      <td>Hà Nội</td>\n",
       "      <td>Nhân viên</td>\n",
       "      <td>1 năm</td>\n",
       "      <td>Toàn thời gian</td>\n",
       "      <td>Không yêu cầu</td>\n",
       "      <td>Kĩ năng tiếng Nhật hoặc Tiếng Anh tốt (đọc viế...</td>\n",
       "      <td>[tiếng nhật, tiếng anh]</td>\n",
       "      <td>Khác</td>\n",
       "    </tr>\n",
       "    <tr>\n",
       "      <th>4</th>\n",
       "      <td>15000000.0</td>\n",
       "      <td>Hà Nội</td>\n",
       "      <td>Nhân viên</td>\n",
       "      <td>1 năm</td>\n",
       "      <td>Toàn thời gian</td>\n",
       "      <td>Không yêu cầu</td>\n",
       "      <td>• Kĩ năng tiếng Anh/Tiếng Nhật tốt (đọc viết t...</td>\n",
       "      <td>[tiếng nhật, tiếng anh]</td>\n",
       "      <td>Khác</td>\n",
       "    </tr>\n",
       "  </tbody>\n",
       "</table>\n",
       "</div>"
      ],
      "text/plain": [
       "       Salary    Locations          Level Year of Experience   Contract Type  \\\n",
       "0  27000000.0       Hà Nội      Nhân viên              3 năm  Toàn thời gian   \n",
       "1  10000000.0  Hồ Chí Minh      Nhân viên              1 năm  Toàn thời gian   \n",
       "2   3000000.0       Hà Nội  Thực tập sinh         Dưới 1 năm  Toàn thời gian   \n",
       "3  14000000.0       Hà Nội      Nhân viên              1 năm  Toàn thời gian   \n",
       "4  15000000.0       Hà Nội      Nhân viên              1 năm  Toàn thời gian   \n",
       "\n",
       "             Sex                                             Skills  \\\n",
       "0  Không yêu cầu  Tốt nghiệp đại học chuyên ngành Tin học/ Hệ th...   \n",
       "1            Nam  Đối tượng: có kinh nghiệm thực, trên 1 đến 2 n...   \n",
       "2  Không yêu cầu  Có hiểu biết về PC.Có hiểu biết về mạng nội bộ...   \n",
       "3  Không yêu cầu  Kĩ năng tiếng Nhật hoặc Tiếng Anh tốt (đọc viế...   \n",
       "4  Không yêu cầu  • Kĩ năng tiếng Anh/Tiếng Nhật tốt (đọc viết t...   \n",
       "\n",
       "                 Languages Programming Language  \n",
       "0                       []                 Khác  \n",
       "1                       []                 Khác  \n",
       "2                       []                 Khác  \n",
       "3  [tiếng nhật, tiếng anh]                 Khác  \n",
       "4  [tiếng nhật, tiếng anh]                 Khác  "
      ]
     },
     "execution_count": 83,
     "metadata": {},
     "output_type": "execute_result"
    }
   ],
   "source": [
    "jobs_cleaning = array_to_single_value('Programming Languages', 'Programming Language', 'Khác')\n",
    "jobs_cleaning.head()"
   ]
  },
  {
   "cell_type": "markdown",
   "metadata": {},
   "source": [
    "Đối với ngoại ngữ"
   ]
  },
  {
   "cell_type": "code",
   "execution_count": 84,
   "metadata": {},
   "outputs": [
    {
     "data": {
      "text/html": [
       "<div>\n",
       "<style scoped>\n",
       "    .dataframe tbody tr th:only-of-type {\n",
       "        vertical-align: middle;\n",
       "    }\n",
       "\n",
       "    .dataframe tbody tr th {\n",
       "        vertical-align: top;\n",
       "    }\n",
       "\n",
       "    .dataframe thead th {\n",
       "        text-align: right;\n",
       "    }\n",
       "</style>\n",
       "<table border=\"1\" class=\"dataframe\">\n",
       "  <thead>\n",
       "    <tr style=\"text-align: right;\">\n",
       "      <th></th>\n",
       "      <th>Salary</th>\n",
       "      <th>Locations</th>\n",
       "      <th>Level</th>\n",
       "      <th>Year of Experience</th>\n",
       "      <th>Contract Type</th>\n",
       "      <th>Sex</th>\n",
       "      <th>Skills</th>\n",
       "      <th>Programming Language</th>\n",
       "      <th>Requirement Language</th>\n",
       "    </tr>\n",
       "  </thead>\n",
       "  <tbody>\n",
       "    <tr>\n",
       "      <th>0</th>\n",
       "      <td>27000000.0</td>\n",
       "      <td>Hà Nội</td>\n",
       "      <td>Nhân viên</td>\n",
       "      <td>3 năm</td>\n",
       "      <td>Toàn thời gian</td>\n",
       "      <td>Không yêu cầu</td>\n",
       "      <td>Tốt nghiệp đại học chuyên ngành Tin học/ Hệ th...</td>\n",
       "      <td>Khác</td>\n",
       "      <td>Không yêu cầu</td>\n",
       "    </tr>\n",
       "    <tr>\n",
       "      <th>1</th>\n",
       "      <td>10000000.0</td>\n",
       "      <td>Hồ Chí Minh</td>\n",
       "      <td>Nhân viên</td>\n",
       "      <td>1 năm</td>\n",
       "      <td>Toàn thời gian</td>\n",
       "      <td>Nam</td>\n",
       "      <td>Đối tượng: có kinh nghiệm thực, trên 1 đến 2 n...</td>\n",
       "      <td>Khác</td>\n",
       "      <td>Không yêu cầu</td>\n",
       "    </tr>\n",
       "    <tr>\n",
       "      <th>2</th>\n",
       "      <td>3000000.0</td>\n",
       "      <td>Hà Nội</td>\n",
       "      <td>Thực tập sinh</td>\n",
       "      <td>Dưới 1 năm</td>\n",
       "      <td>Toàn thời gian</td>\n",
       "      <td>Không yêu cầu</td>\n",
       "      <td>Có hiểu biết về PC.Có hiểu biết về mạng nội bộ...</td>\n",
       "      <td>Khác</td>\n",
       "      <td>Không yêu cầu</td>\n",
       "    </tr>\n",
       "    <tr>\n",
       "      <th>3</th>\n",
       "      <td>14000000.0</td>\n",
       "      <td>Hà Nội</td>\n",
       "      <td>Nhân viên</td>\n",
       "      <td>1 năm</td>\n",
       "      <td>Toàn thời gian</td>\n",
       "      <td>Không yêu cầu</td>\n",
       "      <td>Kĩ năng tiếng Nhật hoặc Tiếng Anh tốt (đọc viế...</td>\n",
       "      <td>Khác</td>\n",
       "      <td>tiếng nhật</td>\n",
       "    </tr>\n",
       "    <tr>\n",
       "      <th>3</th>\n",
       "      <td>14000000.0</td>\n",
       "      <td>Hà Nội</td>\n",
       "      <td>Nhân viên</td>\n",
       "      <td>1 năm</td>\n",
       "      <td>Toàn thời gian</td>\n",
       "      <td>Không yêu cầu</td>\n",
       "      <td>Kĩ năng tiếng Nhật hoặc Tiếng Anh tốt (đọc viế...</td>\n",
       "      <td>Khác</td>\n",
       "      <td>tiếng anh</td>\n",
       "    </tr>\n",
       "  </tbody>\n",
       "</table>\n",
       "</div>"
      ],
      "text/plain": [
       "       Salary    Locations          Level Year of Experience   Contract Type  \\\n",
       "0  27000000.0       Hà Nội      Nhân viên              3 năm  Toàn thời gian   \n",
       "1  10000000.0  Hồ Chí Minh      Nhân viên              1 năm  Toàn thời gian   \n",
       "2   3000000.0       Hà Nội  Thực tập sinh         Dưới 1 năm  Toàn thời gian   \n",
       "3  14000000.0       Hà Nội      Nhân viên              1 năm  Toàn thời gian   \n",
       "3  14000000.0       Hà Nội      Nhân viên              1 năm  Toàn thời gian   \n",
       "\n",
       "             Sex                                             Skills  \\\n",
       "0  Không yêu cầu  Tốt nghiệp đại học chuyên ngành Tin học/ Hệ th...   \n",
       "1            Nam  Đối tượng: có kinh nghiệm thực, trên 1 đến 2 n...   \n",
       "2  Không yêu cầu  Có hiểu biết về PC.Có hiểu biết về mạng nội bộ...   \n",
       "3  Không yêu cầu  Kĩ năng tiếng Nhật hoặc Tiếng Anh tốt (đọc viế...   \n",
       "3  Không yêu cầu  Kĩ năng tiếng Nhật hoặc Tiếng Anh tốt (đọc viế...   \n",
       "\n",
       "  Programming Language Requirement Language  \n",
       "0                 Khác        Không yêu cầu  \n",
       "1                 Khác        Không yêu cầu  \n",
       "2                 Khác        Không yêu cầu  \n",
       "3                 Khác           tiếng nhật  \n",
       "3                 Khác            tiếng anh  "
      ]
     },
     "execution_count": 84,
     "metadata": {},
     "output_type": "execute_result"
    }
   ],
   "source": [
    "jobs_cleaning = array_to_single_value('Languages', 'Requirement Language', 'Không yêu cầu')\n",
    "jobs_cleaning.head()"
   ]
  },
  {
   "cell_type": "markdown",
   "metadata": {},
   "source": [
    "- Sau khi tách đa biến thành đơn biến"
   ]
  },
  {
   "cell_type": "markdown",
   "metadata": {},
   "source": [
    "Đối với ngôn ngữ lập trình"
   ]
  },
  {
   "cell_type": "code",
   "execution_count": 85,
   "metadata": {},
   "outputs": [
    {
     "name": "stdout",
     "output_type": "stream",
     "text": [
      "Programming Language\n",
      "Khác          632\n",
      "java          109\n",
      "javascript    107\n",
      "python         51\n",
      "php            47\n",
      "c#             42\n",
      "c              28\n",
      "typescript     21\n",
      "c++            19\n",
      "kotlin         15\n",
      "dart            1\n",
      "Name: count, dtype: int64\n"
     ]
    },
    {
     "name": "stderr",
     "output_type": "stream",
     "text": [
      "C:\\Users\\TUAN\\AppData\\Local\\Temp\\ipykernel_2456\\502853134.py:2: FutureWarning: \n",
      "\n",
      "Passing `palette` without assigning `hue` is deprecated and will be removed in v0.14.0. Assign the `x` variable to `hue` and set `legend=False` for the same effect.\n",
      "\n",
      "  sns.countplot(x='Programming Language', data=jobs_cleaning.explode('Programming Language'),\n"
     ]
    },
    {
     "data": {
      "image/png": "[encoded data removed]",
      "text/plain": [
       "<Figure size 1000x600 with 1 Axes>"
      ]
     },
     "metadata": {},
     "output_type": "display_data"
    }
   ],
   "source": [
    "plt.figure(figsize=(10, 6))\n",
    "sns.countplot(x='Programming Language', data=jobs_cleaning.explode('Programming Language'), \n",
    "    order=jobs_cleaning['Programming Language'].value_counts().index, palette='viridis')\n",
    "\n",
    "print(jobs_cleaning['Programming Language'].value_counts())"
   ]
  },
  {
   "cell_type": "markdown",
   "metadata": {},
   "source": [
    "Đối với ngoại ngữ"
   ]
  },
  {
   "cell_type": "code",
   "execution_count": 86,
   "metadata": {},
   "outputs": [
    {
     "name": "stdout",
     "output_type": "stream",
     "text": [
      "Requirement Language\n",
      "Không yêu cầu    687\n",
      "tiếng anh        342\n",
      "tiếng nhật        43\n",
      "Name: count, dtype: int64\n"
     ]
    },
    {
     "data": {
      "image/png": "[encoded data removed]",
      "text/plain": [
       "<Figure size 640x480 with 1 Axes>"
      ]
     },
     "metadata": {},
     "output_type": "display_data"
    }
   ],
   "source": [
    "sns.countplot(x='Requirement Language', data=jobs_cleaning.explode('Requirement Language'), hue=\"Requirement Language\",\n",
    "    order=jobs_cleaning['Requirement Language'].explode().value_counts().index, palette='viridis')\n",
    "\n",
    "print(jobs_cleaning['Requirement Language'].value_counts())"
   ]
  },
  {
   "cell_type": "markdown",
   "metadata": {},
   "source": [
    "- Detect ngôn ngữ được sử dụng để viết về bài tuyển dụng"
   ]
  },
  {
   "cell_type": "code",
   "execution_count": 87,
   "metadata": {},
   "outputs": [],
   "source": [
    "def detect_language(text):\n",
    "    try:\n",
    "        language = detect(text)\n",
    "        if language == 'en':\n",
    "            return \"en\"\n",
    "        elif language == 'vi':\n",
    "            return \"vi\"\n",
    "        else:\n",
    "            return \"other\"\n",
    "    except Exception as e:\n",
    "        return \"Unknown\""
   ]
  },
  {
   "cell_type": "code",
   "execution_count": 88,
   "metadata": {},
   "outputs": [],
   "source": [
    "jobs_cleaning['Description Language'] = jobs_cleaning['Skills'].apply(detect_language)"
   ]
  },
  {
   "cell_type": "code",
   "execution_count": 89,
   "metadata": {},
   "outputs": [
    {
     "name": "stdout",
     "output_type": "stream",
     "text": [
      "Description Language\n",
      "vi    912\n",
      "en    160\n",
      "Name: count, dtype: int64\n"
     ]
    },
    {
     "data": {
      "image/png": "[encoded data removed]",
      "text/plain": [
       "<Figure size 640x480 with 1 Axes>"
      ]
     },
     "metadata": {},
     "output_type": "display_data"
    }
   ],
   "source": [
    "sns.countplot(x='Description Language', data=jobs_cleaning.explode('Description Language'), hue=\"Description Language\",\n",
    "    order=jobs_cleaning['Description Language'].explode().value_counts().index, palette='viridis')\n",
    "\n",
    "print(jobs_cleaning['Description Language'].value_counts())"
   ]
  },
  {
   "cell_type": "markdown",
   "metadata": {},
   "source": [
    "- Sau khi không sử dụng cột 'Skills' nữa, xóa chúng đi"
   ]
  },
  {
   "cell_type": "code",
   "execution_count": 90,
   "metadata": {},
   "outputs": [],
   "source": [
    "jobs_cleaning = jobs_cleaning.drop(columns=['Skills'])"
   ]
  },
  {
   "cell_type": "markdown",
   "metadata": {},
   "source": [
    "- Chuyển 'Locations' thành dữ liệu đơn"
   ]
  },
  {
   "cell_type": "code",
   "execution_count": 91,
   "metadata": {},
   "outputs": [
    {
     "data": {
      "text/plain": [
       "<Axes: xlabel='Locations', ylabel='count'>"
      ]
     },
     "execution_count": 91,
     "metadata": {},
     "output_type": "execute_result"
    },
    {
     "data": {
      "image/png": "[encoded data removed]",
      "text/plain": [
       "<Figure size 640x480 with 1 Axes>"
      ]
     },
     "metadata": {},
     "output_type": "display_data"
    }
   ],
   "source": [
    "sns.countplot(x='Locations', data=jobs_cleaning)"
   ]
  },
  {
   "cell_type": "markdown",
   "metadata": {},
   "source": [
    "'Locations' là biến kiểu dữ liệu hạng mục, một vài hạng mục xuất hiện quá ít trong dữ liệu"
   ]
  },
  {
   "cell_type": "markdown",
   "metadata": {},
   "source": [
    "Chọn 3 thành phố lớn là dữ hiệu hạng mục cho biến Location, trường hợp còn lại cho thành biến 'Khác'"
   ]
  },
  {
   "cell_type": "code",
   "execution_count": 92,
   "metadata": {},
   "outputs": [],
   "source": [
    "jobs_cleaning['Location'] = jobs_cleaning['Locations'].apply(lambda l: l if l in ['Hà Nội', 'Đà Nẵng', 'Hồ Chí Minh'] else 'Khác')\n",
    "jobs_cleaning = jobs_cleaning.drop(columns=['Locations'])"
   ]
  },
  {
   "cell_type": "code",
   "execution_count": 93,
   "metadata": {},
   "outputs": [
    {
     "data": {
      "text/plain": [
       "<Axes: xlabel='Location', ylabel='count'>"
      ]
     },
     "execution_count": 93,
     "metadata": {},
     "output_type": "execute_result"
    },
    {
     "data": {
      "image/png": "[encoded data removed]",
      "text/plain": [
       "<Figure size 640x480 with 1 Axes>"
      ]
     },
     "metadata": {},
     "output_type": "display_data"
    }
   ],
   "source": [
    "sns.countplot(x='Location', data=jobs_cleaning)"
   ]
  },
  {
   "cell_type": "markdown",
   "metadata": {},
   "source": [
    "- Các cột còn lại sau khi làm sạch dữ liệu"
   ]
  },
  {
   "cell_type": "code",
   "execution_count": 94,
   "metadata": {},
   "outputs": [
    {
     "data": {
      "text/plain": [
       "array(['Nhân viên', 'Thực tập sinh', 'Trưởng nhóm', 'Quản lý / Giám sát',\n",
       "       'Trưởng/Phó phòng', 'Giám đốc'], dtype=object)"
      ]
     },
     "execution_count": 94,
     "metadata": {},
     "output_type": "execute_result"
    }
   ],
   "source": [
    "jobs_cleaning['Level'].unique()"
   ]
  },
  {
   "cell_type": "code",
   "execution_count": 95,
   "metadata": {},
   "outputs": [
    {
     "data": {
      "text/plain": [
       "<seaborn.axisgrid.FacetGrid at 0x1704e07bd90>"
      ]
     },
     "execution_count": 95,
     "metadata": {},
     "output_type": "execute_result"
    },
    {
     "data": {
      "image/png": "[encoded data removed]",
      "text/plain": [
       "<Figure size 1000x500 with 1 Axes>"
      ]
     },
     "metadata": {},
     "output_type": "display_data"
    }
   ],
   "source": [
    "sns.displot(jobs, x=\"Level\", kind=\"hist\", height=5, aspect=2)"
   ]
  },
  {
   "cell_type": "code",
   "execution_count": 96,
   "metadata": {},
   "outputs": [
    {
     "data": {
      "text/plain": [
       "<seaborn.axisgrid.FacetGrid at 0x1704dfc6b60>"
      ]
     },
     "execution_count": 96,
     "metadata": {},
     "output_type": "execute_result"
    },
    {
     "data": {
      "image/png": "[encoded data removed]",
      "text/plain": [
       "<Figure size 1000x500 with 1 Axes>"
      ]
     },
     "metadata": {},
     "output_type": "display_data"
    }
   ],
   "source": [
    "sns.displot(jobs_cleaning, x=\"Level\", kind=\"hist\", height=5, aspect=2)"
   ]
  },
  {
   "cell_type": "code",
   "execution_count": 97,
   "metadata": {},
   "outputs": [
    {
     "data": {
      "text/plain": [
       "<Axes: xlabel='Level'>"
      ]
     },
     "execution_count": 97,
     "metadata": {},
     "output_type": "execute_result"
    },
    {
     "data": {
      "image/png": "[encoded data removed]",
      "text/plain": [
       "<Figure size 1000x600 with 1 Axes>"
      ]
     },
     "metadata": {},
     "output_type": "display_data"
    }
   ],
   "source": [
    "level = jobs['Level'].value_counts()\n",
    "level_new = jobs_cleaning['Level'].value_counts()\n",
    "\n",
    "level_ratio = level / level.sum()\n",
    "level_new_ratio = level_new / level_new.sum()\n",
    "\n",
    "df = pd.DataFrame(data=[level_ratio, level_new_ratio], index=['Before Cleaning', 'After Cleaning'])\n",
    "df = df.T\n",
    "\n",
    "df.plot(kind='bar', figsize=(10, 6))"
   ]
  },
  {
   "cell_type": "code",
   "execution_count": 98,
   "metadata": {},
   "outputs": [
    {
     "data": {
      "text/plain": [
       "array(['Toàn thời gian', 'Thực tập', 'Bán thời gian'], dtype=object)"
      ]
     },
     "execution_count": 98,
     "metadata": {},
     "output_type": "execute_result"
    }
   ],
   "source": [
    "jobs_cleaning['Contract Type'].unique()"
   ]
  },
  {
   "cell_type": "code",
   "execution_count": 99,
   "metadata": {},
   "outputs": [
    {
     "name": "stdout",
     "output_type": "stream",
     "text": [
      "                Contract Type  Contract Type After Cleaning\n",
      "Contract Type                                              \n",
      "Toàn thời gian           1507                          1038\n",
      "Thực tập                   46                            26\n",
      "Bán thời gian              14                             8\n"
     ]
    },
    {
     "data": {
      "text/plain": [
       "<Axes: xlabel='Contract Type', ylabel='Số lượng'>"
      ]
     },
     "execution_count": 99,
     "metadata": {},
     "output_type": "execute_result"
    },
    {
     "data": {
      "image/png": "[encoded data removed]",
      "text/plain": [
       "<Figure size 1000x600 with 1 Axes>"
      ]
     },
     "metadata": {},
     "output_type": "display_data"
    }
   ],
   "source": [
    "contract_type = jobs['Contract Type'].value_counts()\n",
    "contract_type_new = jobs_cleaning['Contract Type'].value_counts()\n",
    "\n",
    "df = pd.DataFrame(data=[contract_type, contract_type_new], index=['Contract Type', 'Contract Type After Cleaning'])\n",
    "df = df.T\n",
    "print(df)\n",
    "\n",
    "df.plot(kind='bar', ylabel='Số lượng',  figsize=(10, 6))"
   ]
  },
  {
   "cell_type": "code",
   "execution_count": 100,
   "metadata": {},
   "outputs": [
    {
     "data": {
      "text/plain": [
       "<Axes: xlabel='Contract Type'>"
      ]
     },
     "execution_count": 100,
     "metadata": {},
     "output_type": "execute_result"
    },
    {
     "data": {
      "image/png": "[encoded data removed]",
      "text/plain": [
       "<Figure size 1000x600 with 1 Axes>"
      ]
     },
     "metadata": {},
     "output_type": "display_data"
    }
   ],
   "source": [
    "contract_type_ratio = contract_type / contract_type.sum()\n",
    "contract_type_new_ratio = contract_type_new / contract_type_new.sum()\n",
    "\n",
    "df = pd.DataFrame(data=[contract_type_ratio, contract_type_new_ratio], index=['Before Cleaning', 'After Cleaning'])\n",
    "df = df.T\n",
    "\n",
    "df.plot(kind='bar', figsize=(10, 6))"
   ]
  },
  {
   "cell_type": "code",
   "execution_count": 101,
   "metadata": {},
   "outputs": [
    {
     "data": {
      "text/plain": [
       "array(['3 năm', '1 năm', 'Dưới 1 năm', '2 năm', '4 năm',\n",
       "       'Không yêu cầu kinh nghiệm', '5 năm', 'Trên 5 năm'], dtype=object)"
      ]
     },
     "execution_count": 101,
     "metadata": {},
     "output_type": "execute_result"
    }
   ],
   "source": [
    "jobs_cleaning['Year of Experience'].unique()"
   ]
  },
  {
   "cell_type": "code",
   "execution_count": 102,
   "metadata": {},
   "outputs": [],
   "source": [
    "year_of_experience_index = np.array(['Không yêu cầu kinh nghiệm', 'Dưới 1 năm', '1 năm', '2 năm', '3 năm', '4 năm', '5 năm', 'Trên 5 năm'])"
   ]
  },
  {
   "cell_type": "code",
   "execution_count": 103,
   "metadata": {},
   "outputs": [
    {
     "name": "stdout",
     "output_type": "stream",
     "text": [
      "                           Year of Experience  \\\n",
      "Year of Experience                              \n",
      "Không yêu cầu kinh nghiệm                 276   \n",
      "Dưới 1 năm                                141   \n",
      "1 năm                                     339   \n",
      "2 năm                                     388   \n",
      "3 năm                                     248   \n",
      "4 năm                                      68   \n",
      "5 năm                                      82   \n",
      "Trên 5 năm                                 25   \n",
      "\n",
      "                           Year of Experience After Cleaning  \n",
      "Year of Experience                                            \n",
      "Không yêu cầu kinh nghiệm                                201  \n",
      "Dưới 1 năm                                               115  \n",
      "1 năm                                                    247  \n",
      "2 năm                                                    266  \n",
      "3 năm                                                    163  \n",
      "4 năm                                                     33  \n",
      "5 năm                                                     31  \n",
      "Trên 5 năm                                                16  \n"
     ]
    },
    {
     "data": {
      "text/plain": [
       "<Axes: xlabel='Year of Experience', ylabel='Số lượng'>"
      ]
     },
     "execution_count": 103,
     "metadata": {},
     "output_type": "execute_result"
    },
    {
     "data": {
      "image/png": "[encoded data removed]",
      "text/plain": [
       "<Figure size 1000x600 with 1 Axes>"
      ]
     },
     "metadata": {},
     "output_type": "display_data"
    }
   ],
   "source": [
    "year_of_experience = jobs['Year of Experience'].value_counts().reindex(year_of_experience_index)\n",
    "year_of_experience_new = jobs_cleaning['Year of Experience'].value_counts().reindex(year_of_experience_index)\n",
    "\n",
    "df = pd.DataFrame(data=[year_of_experience, year_of_experience_new], index=['Year of Experience', 'Year of Experience After Cleaning'])\n",
    "df = df.T\n",
    "print(df)\n",
    "\n",
    "df.plot(kind='bar', ylabel='Số lượng',  figsize=(10, 6))"
   ]
  },
  {
   "cell_type": "code",
   "execution_count": 104,
   "metadata": {},
   "outputs": [
    {
     "data": {
      "text/plain": [
       "<Axes: xlabel='Year of Experience', ylabel='Tỉ lệ'>"
      ]
     },
     "execution_count": 104,
     "metadata": {},
     "output_type": "execute_result"
    },
    {
     "data": {
      "image/png": "[encoded data removed]",
      "text/plain": [
       "<Figure size 1000x600 with 1 Axes>"
      ]
     },
     "metadata": {},
     "output_type": "display_data"
    }
   ],
   "source": [
    "# Tính tỉ lệ của từng nhóm trong dữ liệu gốc\n",
    "experience_ratio = year_of_experience / year_of_experience.sum()\n",
    "\n",
    "# Tính tỉ lệ của từng nhóm trong dữ liệu sau khi làm sạch\n",
    "experience_new_ratio = year_of_experience_new / year_of_experience_new.sum()\n",
    "\n",
    "# Tạo DataFrame mới chứa tỉ lệ\n",
    "df_ratio = pd.DataFrame({'Year of Experience': experience_ratio, 'Year of Experience After Cleaning': experience_new_ratio})\n",
    "\n",
    "# Vẽ biểu đồ cột\n",
    "df_ratio.plot(kind='bar', ylabel='Tỉ lệ', figsize=(10, 6))"
   ]
  },
  {
   "cell_type": "code",
   "execution_count": 105,
   "metadata": {},
   "outputs": [
    {
     "data": {
      "text/plain": [
       "<Axes: xlabel='Sex', ylabel='Số lượng'>"
      ]
     },
     "execution_count": 105,
     "metadata": {},
     "output_type": "execute_result"
    },
    {
     "data": {
      "image/png": "[encoded data removed]",
      "text/plain": [
       "<Figure size 1000x600 with 1 Axes>"
      ]
     },
     "metadata": {},
     "output_type": "display_data"
    }
   ],
   "source": [
    "sex = jobs['Sex'].value_counts()\n",
    "sex_new = jobs_cleaning['Sex'].value_counts()\n",
    "\n",
    "df = pd.DataFrame(data=[sex, sex_new], index=['Sex', 'Sex After Cleaning'])\n",
    "df = df.T\n",
    "\n",
    "df.plot(kind='bar', ylabel='Số lượng',  figsize=(10, 6))"
   ]
  },
  {
   "cell_type": "code",
   "execution_count": 106,
   "metadata": {},
   "outputs": [
    {
     "data": {
      "text/plain": [
       "<Axes: xlabel='Sex', ylabel='Tỉ lệ'>"
      ]
     },
     "execution_count": 106,
     "metadata": {},
     "output_type": "execute_result"
    },
    {
     "data": {
      "image/png": "[encoded data removed]",
      "text/plain": [
       "<Figure size 1000x600 with 1 Axes>"
      ]
     },
     "metadata": {},
     "output_type": "display_data"
    }
   ],
   "source": [
    "# Tính tỉ lệ của từng nhóm trong dữ liệu gốc\n",
    "sex_ratio = sex / sex.sum()\n",
    "\n",
    "# Tính tỉ lệ của từng nhóm trong dữ liệu sau khi làm sạch\n",
    "sex_new_ratio = sex_new / sex_new.sum()\n",
    "\n",
    "# Tạo DataFrame mới chứa tỉ lệ\n",
    "df_ratio = pd.DataFrame({'Sex': sex_ratio, 'Sex After Cleaning': sex_new_ratio})\n",
    "\n",
    "# Vẽ biểu đồ cột\n",
    "df_ratio.plot(kind='bar', ylabel='Tỉ lệ', figsize=(10, 6))"
   ]
  },
  {
   "cell_type": "markdown",
   "metadata": {},
   "source": [
    "Những biến mà không được làm sạch hoặc chuẩn hóa lên biến đó thì kích thước thay đổi trước và sau do có mở rộng và xóa đi những mẫu. Tuy nhiên tỉ lệ của các nhãn không thay đổi nhiều"
   ]
  },
  {
   "cell_type": "markdown",
   "metadata": {},
   "source": [
    "- Sau khi làm sạch lưu vào file csv"
   ]
  },
  {
   "cell_type": "code",
   "execution_count": 107,
   "metadata": {},
   "outputs": [],
   "source": [
    "jobs_cleaning.to_csv(clean_data_detination_path, index=False)"
   ]
  },
  {
   "cell_type": "code",
   "execution_count": 108,
   "metadata": {},
   "outputs": [
    {
     "name": "stdout",
     "output_type": "stream",
     "text": [
      "<class 'pandas.core.frame.DataFrame'>\n",
      "Index: 1072 entries, 0 to 1566\n",
      "Data columns (total 9 columns):\n",
      " #   Column                Non-Null Count  Dtype  \n",
      "---  ------                --------------  -----  \n",
      " 0   Salary                1072 non-null   float64\n",
      " 1   Level                 1072 non-null   object \n",
      " 2   Year of Experience    1072 non-null   object \n",
      " 3   Contract Type         1072 non-null   object \n",
      " 4   Sex                   1072 non-null   object \n",
      " 5   Programming Language  1072 non-null   object \n",
      " 6   Requirement Language  1072 non-null   object \n",
      " 7   Description Language  1072 non-null   object \n",
      " 8   Location              1072 non-null   object \n",
      "dtypes: float64(1), object(8)\n",
      "memory usage: 116.0+ KB\n"
     ]
    }
   ],
   "source": [
    "jobs_cleaning.info()"
   ]
  }
 ],
 "metadata": {
  "kernelspec": {
   "display_name": ".venv",
   "language": "python",
   "name": "python3"
  },
  "language_info": {
   "codemirror_mode": {
    "name": "ipython",
    "version": 3
   },
   "file_extension": ".py",
   "mimetype": "text/x-python",
   "name": "python",
   "nbconvert_exporter": "python",
   "pygments_lexer": "ipython3",
   "version": "3.10.0"
  }
 },
 "nbformat": 4,
 "nbformat_minor": 2
}
