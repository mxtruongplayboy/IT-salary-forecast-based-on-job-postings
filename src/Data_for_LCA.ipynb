{
 "cells": [
  {
   "cell_type": "code",
   "execution_count": 158,
   "metadata": {},
   "outputs": [],
   "source": [
    "import pandas as pd\n",
    "import numpy as np\n",
    "from sklearn.preprocessing import OrdinalEncoder, StandardScaler\n",
    "from category_encoders import TargetEncoder"
   ]
  },
  {
   "cell_type": "code",
   "execution_count": 159,
   "metadata": {},
   "outputs": [],
   "source": [
    "data = pd.read_csv(\"../data/clean combined.csv\")"
   ]
  },
  {
   "cell_type": "code",
   "execution_count": 160,
   "metadata": {},
   "outputs": [
    {
     "data": {
      "text/html": [
       "<div>\n",
       "<style scoped>\n",
       "    .dataframe tbody tr th:only-of-type {\n",
       "        vertical-align: middle;\n",
       "    }\n",
       "\n",
       "    .dataframe tbody tr th {\n",
       "        vertical-align: top;\n",
       "    }\n",
       "\n",
       "    .dataframe thead th {\n",
       "        text-align: right;\n",
       "    }\n",
       "</style>\n",
       "<table border=\"1\" class=\"dataframe\">\n",
       "  <thead>\n",
       "    <tr style=\"text-align: right;\">\n",
       "      <th></th>\n",
       "      <th>Salary</th>\n",
       "      <th>Level</th>\n",
       "      <th>Year of Experience</th>\n",
       "      <th>Programming Language</th>\n",
       "      <th>Language</th>\n",
       "      <th>Lang</th>\n",
       "      <th>Location</th>\n",
       "    </tr>\n",
       "  </thead>\n",
       "  <tbody>\n",
       "    <tr>\n",
       "      <th>0</th>\n",
       "      <td>20500000.0</td>\n",
       "      <td>Nhân viên</td>\n",
       "      <td>2 năm</td>\n",
       "      <td>java</td>\n",
       "      <td>tiếng anh</td>\n",
       "      <td>vi</td>\n",
       "      <td>Hà Nội</td>\n",
       "    </tr>\n",
       "    <tr>\n",
       "      <th>1</th>\n",
       "      <td>36500000.0</td>\n",
       "      <td>Nhân viên</td>\n",
       "      <td>2 năm</td>\n",
       "      <td>Khác</td>\n",
       "      <td>tiếng anh</td>\n",
       "      <td>en</td>\n",
       "      <td>Hồ Chí Minh</td>\n",
       "    </tr>\n",
       "    <tr>\n",
       "      <th>2</th>\n",
       "      <td>22500000.0</td>\n",
       "      <td>Trưởng/Phó phòng</td>\n",
       "      <td>2 năm</td>\n",
       "      <td>Khác</td>\n",
       "      <td>Không yêu cầu</td>\n",
       "      <td>vi</td>\n",
       "      <td>Hà Nội</td>\n",
       "    </tr>\n",
       "    <tr>\n",
       "      <th>3</th>\n",
       "      <td>22500000.0</td>\n",
       "      <td>Trưởng nhóm</td>\n",
       "      <td>3 năm</td>\n",
       "      <td>Khác</td>\n",
       "      <td>Không yêu cầu</td>\n",
       "      <td>vi</td>\n",
       "      <td>Hà Nội</td>\n",
       "    </tr>\n",
       "    <tr>\n",
       "      <th>4</th>\n",
       "      <td>30000000.0</td>\n",
       "      <td>Nhân viên</td>\n",
       "      <td>3 năm</td>\n",
       "      <td>php</td>\n",
       "      <td>Không yêu cầu</td>\n",
       "      <td>vi</td>\n",
       "      <td>Hà Nội</td>\n",
       "    </tr>\n",
       "  </tbody>\n",
       "</table>\n",
       "</div>"
      ],
      "text/plain": [
       "       Salary             Level Year of Experience Programming Language  \\\n",
       "0  20500000.0         Nhân viên              2 năm                 java   \n",
       "1  36500000.0         Nhân viên              2 năm                 Khác   \n",
       "2  22500000.0  Trưởng/Phó phòng              2 năm                 Khác   \n",
       "3  22500000.0       Trưởng nhóm              3 năm                 Khác   \n",
       "4  30000000.0         Nhân viên              3 năm                  php   \n",
       "\n",
       "        Language Lang     Location  \n",
       "0      tiếng anh   vi       Hà Nội  \n",
       "1      tiếng anh   en  Hồ Chí Minh  \n",
       "2  Không yêu cầu   vi       Hà Nội  \n",
       "3  Không yêu cầu   vi       Hà Nội  \n",
       "4  Không yêu cầu   vi       Hà Nội  "
      ]
     },
     "execution_count": 160,
     "metadata": {},
     "output_type": "execute_result"
    }
   ],
   "source": [
    "jobs = pd.read_csv(\"../data/clean combined.csv\")\n",
    "jobs = jobs.drop(columns = ['Sex', 'Contract Type'])\n",
    "jobs.head()"
   ]
  },
  {
   "cell_type": "code",
   "execution_count": 161,
   "metadata": {},
   "outputs": [],
   "source": [
    "# Áp dụng Log Transformation\n",
    "jobs['Salary'] = np.log(jobs['Salary'])\n",
    "\n",
    "# Chuẩn hóa phân phối chuẩn cho biến Salary_log\n",
    "scaler = StandardScaler()\n",
    "jobs['Salary'] = scaler.fit_transform(jobs[['Salary']])"
   ]
  },
  {
   "cell_type": "code",
   "execution_count": 162,
   "metadata": {},
   "outputs": [],
   "source": [
    "encoder = OrdinalEncoder(categories=[['Thực tập sinh', 'Nhân viên', 'Trưởng nhóm', 'Trưởng/Phó phòng', 'Quản lý / Giám sát', 'Giám đốc']])\n",
    "encoded_level = encoder.fit_transform(jobs[['Level']])\n",
    "jobs['Level'] = encoded_level"
   ]
  },
  {
   "cell_type": "code",
   "execution_count": 163,
   "metadata": {},
   "outputs": [],
   "source": [
    "encoder = OrdinalEncoder(categories=[['Không yêu cầu kinh nghiệm', 'Dưới 1 năm', '1 năm', '2 năm', '3 năm', '4 năm', '5 năm', 'Trên 5 năm']])\n",
    "encoded_YoE = encoder.fit_transform(jobs[['Year of Experience']])\n",
    "jobs['Year of Experience'] = encoded_YoE"
   ]
  },
  {
   "cell_type": "code",
   "execution_count": 164,
   "metadata": {},
   "outputs": [],
   "source": [
    "# encoder = TargetEncoder()\n",
    "# encoded_pl = encoder.fit_transform(jobs['Programming Language'], jobs['Salary'])\n",
    "# jobs['Programming Language'] = encoded_pl"
   ]
  },
  {
   "cell_type": "code",
   "execution_count": 165,
   "metadata": {},
   "outputs": [],
   "source": [
    "# encoder = TargetEncoder()\n",
    "# encoded_language = encoder.fit_transform(jobs['Language'], jobs['Salary'])\n",
    "# jobs['Language'] = encoded_language"
   ]
  },
  {
   "cell_type": "code",
   "execution_count": 166,
   "metadata": {},
   "outputs": [],
   "source": [
    "# encoder = TargetEncoder()\n",
    "# encoded_location = encoder.fit_transform(jobs['Location'], jobs['Salary'])\n",
    "# jobs['Location'] = encoded_location"
   ]
  },
  {
   "cell_type": "code",
   "execution_count": 167,
   "metadata": {},
   "outputs": [
    {
     "data": {
      "text/html": [
       "<div>\n",
       "<style scoped>\n",
       "    .dataframe tbody tr th:only-of-type {\n",
       "        vertical-align: middle;\n",
       "    }\n",
       "\n",
       "    .dataframe tbody tr th {\n",
       "        vertical-align: top;\n",
       "    }\n",
       "\n",
       "    .dataframe thead th {\n",
       "        text-align: right;\n",
       "    }\n",
       "</style>\n",
       "<table border=\"1\" class=\"dataframe\">\n",
       "  <thead>\n",
       "    <tr style=\"text-align: right;\">\n",
       "      <th></th>\n",
       "      <th>Salary</th>\n",
       "      <th>Level</th>\n",
       "      <th>Year of Experience</th>\n",
       "      <th>Programming Language</th>\n",
       "      <th>Language</th>\n",
       "      <th>Lang</th>\n",
       "      <th>Location</th>\n",
       "    </tr>\n",
       "  </thead>\n",
       "  <tbody>\n",
       "    <tr>\n",
       "      <th>0</th>\n",
       "      <td>0.384547</td>\n",
       "      <td>1.0</td>\n",
       "      <td>3.0</td>\n",
       "      <td>java</td>\n",
       "      <td>tiếng anh</td>\n",
       "      <td>vi</td>\n",
       "      <td>Hà Nội</td>\n",
       "    </tr>\n",
       "    <tr>\n",
       "      <th>1</th>\n",
       "      <td>1.282103</td>\n",
       "      <td>1.0</td>\n",
       "      <td>3.0</td>\n",
       "      <td>Khác</td>\n",
       "      <td>tiếng anh</td>\n",
       "      <td>en</td>\n",
       "      <td>Hồ Chí Minh</td>\n",
       "    </tr>\n",
       "    <tr>\n",
       "      <th>2</th>\n",
       "      <td>0.529383</td>\n",
       "      <td>3.0</td>\n",
       "      <td>3.0</td>\n",
       "      <td>Khác</td>\n",
       "      <td>Không yêu cầu</td>\n",
       "      <td>vi</td>\n",
       "      <td>Hà Nội</td>\n",
       "    </tr>\n",
       "    <tr>\n",
       "      <th>3</th>\n",
       "      <td>0.529383</td>\n",
       "      <td>2.0</td>\n",
       "      <td>4.0</td>\n",
       "      <td>Khác</td>\n",
       "      <td>Không yêu cầu</td>\n",
       "      <td>vi</td>\n",
       "      <td>Hà Nội</td>\n",
       "    </tr>\n",
       "    <tr>\n",
       "      <th>4</th>\n",
       "      <td>0.976976</td>\n",
       "      <td>1.0</td>\n",
       "      <td>4.0</td>\n",
       "      <td>php</td>\n",
       "      <td>Không yêu cầu</td>\n",
       "      <td>vi</td>\n",
       "      <td>Hà Nội</td>\n",
       "    </tr>\n",
       "  </tbody>\n",
       "</table>\n",
       "</div>"
      ],
      "text/plain": [
       "     Salary  Level  Year of Experience Programming Language       Language  \\\n",
       "0  0.384547    1.0                 3.0                 java      tiếng anh   \n",
       "1  1.282103    1.0                 3.0                 Khác      tiếng anh   \n",
       "2  0.529383    3.0                 3.0                 Khác  Không yêu cầu   \n",
       "3  0.529383    2.0                 4.0                 Khác  Không yêu cầu   \n",
       "4  0.976976    1.0                 4.0                  php  Không yêu cầu   \n",
       "\n",
       "  Lang     Location  \n",
       "0   vi       Hà Nội  \n",
       "1   en  Hồ Chí Minh  \n",
       "2   vi       Hà Nội  \n",
       "3   vi       Hà Nội  \n",
       "4   vi       Hà Nội  "
      ]
     },
     "execution_count": 167,
     "metadata": {},
     "output_type": "execute_result"
    }
   ],
   "source": [
    "jobs.head()"
   ]
  },
  {
   "cell_type": "code",
   "execution_count": 168,
   "metadata": {},
   "outputs": [],
   "source": [
    "df = jobs.drop(columns=[\"Salary\"])"
   ]
  },
  {
   "cell_type": "code",
   "execution_count": 169,
   "metadata": {},
   "outputs": [
    {
     "data": {
      "text/html": [
       "<div>\n",
       "<style scoped>\n",
       "    .dataframe tbody tr th:only-of-type {\n",
       "        vertical-align: middle;\n",
       "    }\n",
       "\n",
       "    .dataframe tbody tr th {\n",
       "        vertical-align: top;\n",
       "    }\n",
       "\n",
       "    .dataframe thead th {\n",
       "        text-align: right;\n",
       "    }\n",
       "</style>\n",
       "<table border=\"1\" class=\"dataframe\">\n",
       "  <thead>\n",
       "    <tr style=\"text-align: right;\">\n",
       "      <th></th>\n",
       "      <th>Level</th>\n",
       "      <th>Year of Experience</th>\n",
       "      <th>Programming Language</th>\n",
       "      <th>Language</th>\n",
       "      <th>Lang</th>\n",
       "      <th>Location</th>\n",
       "    </tr>\n",
       "  </thead>\n",
       "  <tbody>\n",
       "    <tr>\n",
       "      <th>0</th>\n",
       "      <td>1.0</td>\n",
       "      <td>3.0</td>\n",
       "      <td>java</td>\n",
       "      <td>tiếng anh</td>\n",
       "      <td>vi</td>\n",
       "      <td>Hà Nội</td>\n",
       "    </tr>\n",
       "    <tr>\n",
       "      <th>1</th>\n",
       "      <td>1.0</td>\n",
       "      <td>3.0</td>\n",
       "      <td>Khác</td>\n",
       "      <td>tiếng anh</td>\n",
       "      <td>en</td>\n",
       "      <td>Hồ Chí Minh</td>\n",
       "    </tr>\n",
       "    <tr>\n",
       "      <th>2</th>\n",
       "      <td>3.0</td>\n",
       "      <td>3.0</td>\n",
       "      <td>Khác</td>\n",
       "      <td>Không yêu cầu</td>\n",
       "      <td>vi</td>\n",
       "      <td>Hà Nội</td>\n",
       "    </tr>\n",
       "    <tr>\n",
       "      <th>3</th>\n",
       "      <td>2.0</td>\n",
       "      <td>4.0</td>\n",
       "      <td>Khác</td>\n",
       "      <td>Không yêu cầu</td>\n",
       "      <td>vi</td>\n",
       "      <td>Hà Nội</td>\n",
       "    </tr>\n",
       "    <tr>\n",
       "      <th>4</th>\n",
       "      <td>1.0</td>\n",
       "      <td>4.0</td>\n",
       "      <td>php</td>\n",
       "      <td>Không yêu cầu</td>\n",
       "      <td>vi</td>\n",
       "      <td>Hà Nội</td>\n",
       "    </tr>\n",
       "  </tbody>\n",
       "</table>\n",
       "</div>"
      ],
      "text/plain": [
       "   Level  Year of Experience Programming Language       Language Lang  \\\n",
       "0    1.0                 3.0                 java      tiếng anh   vi   \n",
       "1    1.0                 3.0                 Khác      tiếng anh   en   \n",
       "2    3.0                 3.0                 Khác  Không yêu cầu   vi   \n",
       "3    2.0                 4.0                 Khác  Không yêu cầu   vi   \n",
       "4    1.0                 4.0                  php  Không yêu cầu   vi   \n",
       "\n",
       "      Location  \n",
       "0       Hà Nội  \n",
       "1  Hồ Chí Minh  \n",
       "2       Hà Nội  \n",
       "3       Hà Nội  \n",
       "4       Hà Nội  "
      ]
     },
     "execution_count": 169,
     "metadata": {},
     "output_type": "execute_result"
    }
   ],
   "source": [
    "df.head()"
   ]
  },
  {
   "cell_type": "code",
   "execution_count": 170,
   "metadata": {},
   "outputs": [],
   "source": [
    "df.to_csv(\"../data/lca full 2.csv\", index=False)"
   ]
  },
  {
   "cell_type": "code",
   "execution_count": 139,
   "metadata": {},
   "outputs": [],
   "source": [
    "encoder = OrdinalEncoder(categories=[['vi', 'en']])\n",
    "encoded_lang = encoder.fit_transform(jobs[['Lang']])\n",
    "jobs['Lang'] = encoded_lang"
   ]
  },
  {
   "cell_type": "code",
   "execution_count": 140,
   "metadata": {},
   "outputs": [
    {
     "data": {
      "text/html": [
       "<div>\n",
       "<style scoped>\n",
       "    .dataframe tbody tr th:only-of-type {\n",
       "        vertical-align: middle;\n",
       "    }\n",
       "\n",
       "    .dataframe tbody tr th {\n",
       "        vertical-align: top;\n",
       "    }\n",
       "\n",
       "    .dataframe thead th {\n",
       "        text-align: right;\n",
       "    }\n",
       "</style>\n",
       "<table border=\"1\" class=\"dataframe\">\n",
       "  <thead>\n",
       "    <tr style=\"text-align: right;\">\n",
       "      <th></th>\n",
       "      <th>Salary</th>\n",
       "      <th>Level</th>\n",
       "      <th>Year of Experience</th>\n",
       "      <th>Programming Language</th>\n",
       "      <th>Language</th>\n",
       "      <th>Lang</th>\n",
       "      <th>Location</th>\n",
       "    </tr>\n",
       "  </thead>\n",
       "  <tbody>\n",
       "    <tr>\n",
       "      <th>0</th>\n",
       "      <td>0.384547</td>\n",
       "      <td>1.0</td>\n",
       "      <td>3.0</td>\n",
       "      <td>0.523289</td>\n",
       "      <td>-0.075127</td>\n",
       "      <td>0.0</td>\n",
       "      <td>0.042149</td>\n",
       "    </tr>\n",
       "    <tr>\n",
       "      <th>1</th>\n",
       "      <td>1.282103</td>\n",
       "      <td>1.0</td>\n",
       "      <td>3.0</td>\n",
       "      <td>-0.231351</td>\n",
       "      <td>-0.075127</td>\n",
       "      <td>1.0</td>\n",
       "      <td>-0.054184</td>\n",
       "    </tr>\n",
       "    <tr>\n",
       "      <th>2</th>\n",
       "      <td>0.529383</td>\n",
       "      <td>3.0</td>\n",
       "      <td>3.0</td>\n",
       "      <td>-0.231351</td>\n",
       "      <td>0.017127</td>\n",
       "      <td>0.0</td>\n",
       "      <td>0.042149</td>\n",
       "    </tr>\n",
       "    <tr>\n",
       "      <th>3</th>\n",
       "      <td>0.529383</td>\n",
       "      <td>2.0</td>\n",
       "      <td>4.0</td>\n",
       "      <td>-0.231351</td>\n",
       "      <td>0.017127</td>\n",
       "      <td>0.0</td>\n",
       "      <td>0.042149</td>\n",
       "    </tr>\n",
       "    <tr>\n",
       "      <th>4</th>\n",
       "      <td>0.976976</td>\n",
       "      <td>1.0</td>\n",
       "      <td>4.0</td>\n",
       "      <td>-0.073021</td>\n",
       "      <td>0.017127</td>\n",
       "      <td>0.0</td>\n",
       "      <td>0.042149</td>\n",
       "    </tr>\n",
       "  </tbody>\n",
       "</table>\n",
       "</div>"
      ],
      "text/plain": [
       "     Salary  Level  Year of Experience  Programming Language  Language  Lang  \\\n",
       "0  0.384547    1.0                 3.0              0.523289 -0.075127   0.0   \n",
       "1  1.282103    1.0                 3.0             -0.231351 -0.075127   1.0   \n",
       "2  0.529383    3.0                 3.0             -0.231351  0.017127   0.0   \n",
       "3  0.529383    2.0                 4.0             -0.231351  0.017127   0.0   \n",
       "4  0.976976    1.0                 4.0             -0.073021  0.017127   0.0   \n",
       "\n",
       "   Location  \n",
       "0  0.042149  \n",
       "1 -0.054184  \n",
       "2  0.042149  \n",
       "3  0.042149  \n",
       "4  0.042149  "
      ]
     },
     "execution_count": 140,
     "metadata": {},
     "output_type": "execute_result"
    }
   ],
   "source": [
    "jobs.head()"
   ]
  },
  {
   "cell_type": "code",
   "execution_count": 141,
   "metadata": {},
   "outputs": [],
   "source": [
    "jobs = jobs.drop(columns=[\"Salary\"])"
   ]
  },
  {
   "cell_type": "code",
   "execution_count": 142,
   "metadata": {},
   "outputs": [],
   "source": [
    "jobs.to_csv(\"../data/data for clustering.csv\", index=False)"
   ]
  },
  {
   "cell_type": "code",
   "execution_count": 144,
   "metadata": {},
   "outputs": [
    {
     "data": {
      "text/plain": [
       "Programming Language\n",
       "-0.231351    2848\n",
       "-0.116742     523\n",
       " 0.523289     491\n",
       " 0.470960     292\n",
       " 0.569897     191\n",
       "-0.073021     173\n",
       " 0.414759     173\n",
       " 0.610924     112\n",
       " 0.428202      85\n",
       " 0.651366      75\n",
       " 0.096383      10\n",
       "Name: count, dtype: int64"
      ]
     },
     "execution_count": 144,
     "metadata": {},
     "output_type": "execute_result"
    }
   ],
   "source": [
    "jobs['Programming Language'].value_counts()"
   ]
  }
 ],
 "metadata": {
  "kernelspec": {
   "display_name": ".venv",
   "language": "python",
   "name": "python3"
  },
  "language_info": {
   "codemirror_mode": {
    "name": "ipython",
    "version": 3
   },
   "file_extension": ".py",
   "mimetype": "text/x-python",
   "name": "python",
   "nbconvert_exporter": "python",
   "pygments_lexer": "ipython3",
   "version": "3.10.0"
  }
 },
 "nbformat": 4,
 "nbformat_minor": 2
}
